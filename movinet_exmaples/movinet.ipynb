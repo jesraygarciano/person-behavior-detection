{
  "cells": [
    {
      "cell_type": "markdown",
      "metadata": {
        "id": "toCy3v03Dwx7"
      },
      "source": [
        "##### Copyright 2021 The TensorFlow Hub Authors.\n",
        "\n",
        "Licensed under the Apache License, Version 2.0 (the \"License\");"
      ]
    },
    {
      "cell_type": "code",
      "execution_count": null,
      "metadata": {
        "id": "QKe-ubNcDvgv"
      },
      "outputs": [],
      "source": [
        "# Copyright 2021 The TensorFlow Hub Authors. All Rights Reserved.\n",
        "#\n",
        "# Licensed under the Apache License, Version 2.0 (the \"License\");\n",
        "# you may not use this file except in compliance with the License.\n",
        "# You may obtain a copy of the License at\n",
        "#\n",
        "#     http://www.apache.org/licenses/LICENSE-2.0\n",
        "#\n",
        "# Unless required by applicable law or agreed to in writing, software\n",
        "# distributed under the License is distributed on an \"AS IS\" BASIS,\n",
        "# WITHOUT WARRANTIES OR CONDITIONS OF ANY KIND, either express or implied.\n",
        "# See the License for the specific language governing permissions and\n",
        "# limitations under the License.\n",
        "# =============================================================================="
      ]
    },
    {
      "cell_type": "markdown",
      "metadata": {
        "id": "qFdPvlXBOdUN"
      },
      "source": [
        "# MoViNet for streaming action recognition"
      ]
    },
    {
      "cell_type": "markdown",
      "metadata": {
        "id": "MfBg1C5NB3X0"
      },
      "source": [
        "<table class=\"tfo-notebook-buttons\" align=\"left\">\n",
        "  <td>\n",
        "    <a target=\"_blank\" href=\"https://www.tensorflow.org/hub/tutorials/movinet\"><img src=\"https://www.tensorflow.org/images/tf_logo_32px.png\" />View on TensorFlow.org</a>\n",
        "  </td>\n",
        "  <td>\n",
        "    <a target=\"_blank\" href=\"https://colab.research.google.com/github/tensorflow/docs/blob/master/site/en/hub/tutorials/movinet.ipynb\"><img src=\"https://www.tensorflow.org/images/colab_logo_32px.png\" />Run in Google Colab</a>\n",
        "  </td>\n",
        "  <td>\n",
        "    <a target=\"_blank\" href=\"https://github.com/tensorflow/docs/blob/master/site/en/hub/tutorials/movinet.ipynb\"><img src=\"https://www.tensorflow.org/images/GitHub-Mark-32px.png\" />View on GitHub</a>\n",
        "  </td>\n",
        "  <td>\n",
        "    <a href=\"https://storage.googleapis.com/tensorflow_docs/docs/site/en/hub/tutorials/movinet.ipynb\"><img src=\"https://www.tensorflow.org/images/download_logo_32px.png\" />Download notebook</a>\n",
        "  </td>\n",
        "  <td>\n",
        "    <a href=\"https://tfhub.dev/google/collections/movinet/1\"><img src=\"https://www.tensorflow.org/images/hub_logo_32px.png\" />See TF Hub models</a>\n",
        "  </td>\n",
        "</table>"
      ]
    },
    {
      "cell_type": "markdown",
      "metadata": {
        "id": "-vxk2Kbc_KSP"
      },
      "source": [
        "This tutorial demonstrates how to use a pretrained video classification model to classify an activity (such as dancing, swimming, biking etc) in the given video.   \n",
        "\n",
        "The model architecture used in this tutorial is called [MoViNet](https://arxiv.org/pdf/2103.11511.pdf) (Mobile Video Networks). MoVieNets are a family of efficient video classification models trained on huge dataset ([Kinetics 600](https://deepmind.com/research/open-source/kinetics)).\n",
        "\n",
        "In contrast to the [i3d models](https://tfhub.dev/s?q=i3d-kinetics) available on TF Hub, MoViNets also support frame-by-frame inference on streaming video.\n",
        "\n",
        "The pretrained models are available from [TF Hub](https://tfhub.dev/google/collections/movinet/1). The TF Hub collection also includes quantized models optimized for [TFLite](https://tensorflow.org/lite).\n",
        "\n",
        "The source for these models is available in the [TensorFlow Model Garden](https://github.com/tensorflow/models/tree/master/official/projects/movinet). This includes a [longer version of this tutorial](https://colab.sandbox.google.com/github/tensorflow/models/blob/master/official/projects/movinet/movinet_tutorial.ipynb) that also covers building and fine-tuning a MoViNet model.\n",
        "\n",
        "This MoViNet tutorial is part of a series of TensorFlow video tutorials. Here are the other three tutorials:\n",
        "\n",
        "- [Load video data](https://www.tensorflow.org/tutorials/load_data/video): This tutorial explains how to load and preprocess video data into a TensorFlow dataset pipeline from scratch.\n",
        "- [Build a 3D CNN model for video classification](https://www.tensorflow.org/tutorials/video/video_classification). Note that this tutorial uses a (2+1)D CNN that decomposes the spatial and temporal aspects of 3D data; if you are using volumetric data such as an MRI scan, consider using a 3D CNN instead of a (2+1)D CNN.\n",
        "- [Transfer learning for video classification with MoViNet](https://www.tensorflow.org/tutorials/video/transfer_learning_with_movinet): This tutorial explains how to use a pre-trained video classification model trained on a different dataset with the UCF-101 dataset.\n"
      ]
    },
    {
      "cell_type": "markdown",
      "metadata": {
        "id": "3E96e1UKQ8uR"
      },
      "source": [
        "![jumping jacks plot](https://storage.googleapis.com/tf_model_garden/vision/movinet/artifacts/jumpingjacks_plot.gif)"
      ]
    },
    {
      "cell_type": "markdown",
      "metadata": {
        "id": "8_oLnvJy7kz5"
      },
      "source": [
        "## Setup\n",
        "\n",
        "For inference on smaller models (A0-A2), CPU is sufficient for this Colab."
      ]
    },
    {
      "cell_type": "code",
      "execution_count": 1,
      "metadata": {
        "id": "GUgUMGmY1yq-",
        "outputId": "5ea0500d-b27b-4c57-e521-a632785c0828",
        "colab": {
          "base_uri": "https://localhost:8080/"
        }
      },
      "outputs": [
        {
          "output_type": "stream",
          "name": "stdout",
          "text": [
            "Reading package lists... Done\n",
            "Building dependency tree... Done\n",
            "Reading state information... Done\n",
            "ffmpeg is already the newest version (7:4.4.2-0ubuntu0.22.04.1).\n",
            "0 upgraded, 0 newly installed, 0 to remove and 49 not upgraded.\n"
          ]
        }
      ],
      "source": [
        "!sudo apt install -y ffmpeg\n",
        "!pip install -q mediapy"
      ]
    },
    {
      "cell_type": "code",
      "execution_count": 3,
      "metadata": {
        "id": "s3khsunT7kWa"
      },
      "outputs": [],
      "source": [
        "!pip uninstall -q -y opencv-python-headless\n",
        "!pip install -q \"opencv-python-headless>=4.9.0.80\""
      ]
    },
    {
      "cell_type": "code",
      "execution_count": 4,
      "metadata": {
        "id": "dI_1csl6Q-gH"
      },
      "outputs": [],
      "source": [
        "# Import libraries\n",
        "import pathlib\n",
        "\n",
        "import matplotlib as mpl\n",
        "import matplotlib.pyplot as plt\n",
        "import mediapy as media\n",
        "import numpy as np\n",
        "import PIL\n",
        "\n",
        "import tensorflow as tf\n",
        "import tensorflow_hub as hub\n",
        "import tqdm\n",
        "\n",
        "mpl.rcParams.update({\n",
        "    'font.size': 10,\n",
        "})"
      ]
    },
    {
      "cell_type": "markdown",
      "metadata": {
        "id": "Pn8K9oWbmREi"
      },
      "source": [
        "Get the kinetics 600 label list, and print the first few labels:"
      ]
    },
    {
      "cell_type": "code",
      "execution_count": 5,
      "metadata": {
        "id": "2VJUAcjhkfb3",
        "outputId": "5e039b15-f657-43a3-ff2a-f41371ad3094",
        "colab": {
          "base_uri": "https://localhost:8080/"
        }
      },
      "outputs": [
        {
          "output_type": "stream",
          "name": "stdout",
          "text": [
            "Downloading data from https://raw.githubusercontent.com/tensorflow/models/f8af2291cced43fc9f1d9b41ddbf772ae7b0d7d2/official/projects/movinet/files/kinetics_600_labels.txt\n",
            "\u001b[1m9209/9209\u001b[0m \u001b[32m━━━━━━━━━━━━━━━━━━━━\u001b[0m\u001b[37m\u001b[0m \u001b[1m0s\u001b[0m 0us/step\n"
          ]
        },
        {
          "output_type": "execute_result",
          "data": {
            "text/plain": [
              "array(['abseiling', 'acting in play', 'adjusting glasses', 'air drumming',\n",
              "       'alligator wrestling', 'answering questions', 'applauding',\n",
              "       'applying cream', 'archaeological excavation', 'archery',\n",
              "       'arguing', 'arm wrestling', 'arranging flowers',\n",
              "       'assembling bicycle', 'assembling computer',\n",
              "       'attending conference', 'auctioning', 'backflip (human)',\n",
              "       'baking cookies', 'bandaging'], dtype='<U49')"
            ]
          },
          "metadata": {},
          "execution_count": 5
        }
      ],
      "source": [
        "labels_path = tf.keras.utils.get_file(\n",
        "    fname='labels.txt',\n",
        "    origin='https://raw.githubusercontent.com/tensorflow/models/f8af2291cced43fc9f1d9b41ddbf772ae7b0d7d2/official/projects/movinet/files/kinetics_600_labels.txt'\n",
        ")\n",
        "labels_path = pathlib.Path(labels_path)\n",
        "\n",
        "lines = labels_path.read_text().splitlines()\n",
        "KINETICS_600_LABELS = np.array([line.strip() for line in lines])\n",
        "KINETICS_600_LABELS[:20]"
      ]
    },
    {
      "cell_type": "markdown",
      "metadata": {
        "id": "G9BU5XsOmaq3"
      },
      "source": [
        "To provide a simple example video for classification, we can load a short gif of jumping jacks being performed.\n",
        "\n",
        "![jumping jacks](https://github.com/tensorflow/models/raw/f8af2291cced43fc9f1d9b41ddbf772ae7b0d7d2/official/projects/movinet/files/jumpingjack.gif)\n",
        "\n",
        "Attribution: Footage shared by [Coach Bobby Bluford](https://www.youtube.com/watch?v=-AxHpj-EuPg) on YouTube under the CC-BY license."
      ]
    },
    {
      "cell_type": "markdown",
      "metadata": {
        "id": "8aFKMbr4mfSg"
      },
      "source": [
        "Download the gif."
      ]
    },
    {
      "cell_type": "code",
      "execution_count": 6,
      "metadata": {
        "id": "w62jqXhaSb15",
        "outputId": "a9c2abd7-a985-426a-9146-abd93547dbe4",
        "colab": {
          "base_uri": "https://localhost:8080/"
        }
      },
      "outputs": [
        {
          "output_type": "stream",
          "name": "stdout",
          "text": [
            "Downloading data from https://github.com/tensorflow/models/raw/f8af2291cced43fc9f1d9b41ddbf772ae7b0d7d2/official/projects/movinet/files/jumpingjack.gif\n",
            "\u001b[1m783318/783318\u001b[0m \u001b[32m━━━━━━━━━━━━━━━━━━━━\u001b[0m\u001b[37m\u001b[0m \u001b[1m0s\u001b[0m 0us/step\n"
          ]
        }
      ],
      "source": [
        "jumpingjack_url = 'https://github.com/tensorflow/models/raw/f8af2291cced43fc9f1d9b41ddbf772ae7b0d7d2/official/projects/movinet/files/jumpingjack.gif'\n",
        "jumpingjack_path = tf.keras.utils.get_file(\n",
        "    fname='jumpingjack.gif',\n",
        "    origin=jumpingjack_url,\n",
        "    cache_dir='.', cache_subdir='.',\n",
        ")"
      ]
    },
    {
      "cell_type": "markdown",
      "metadata": {
        "id": "hdRS_22PebfB"
      },
      "source": [
        "Define a function to read a gif file into a `tf.Tensor`:"
      ]
    },
    {
      "cell_type": "code",
      "execution_count": 7,
      "metadata": {
        "id": "mPhmCu6oSi5f"
      },
      "outputs": [],
      "source": [
        "#@title\n",
        "# Read and process a video\n",
        "def load_gif(file_path, image_size=(224, 224)):\n",
        "  \"\"\"Loads a gif file into a TF tensor.\n",
        "\n",
        "  Use images resized to match what's expected by your model.\n",
        "  The model pages say the \"A2\" models expect 224 x 224 images at 5 fps\n",
        "\n",
        "  Args:\n",
        "    file_path: path to the location of a gif file.\n",
        "    image_size: a tuple of target size.\n",
        "\n",
        "  Returns:\n",
        "    a video of the gif file\n",
        "  \"\"\"\n",
        "  # Load a gif file, convert it to a TF tensor\n",
        "  raw = tf.io.read_file(file_path)\n",
        "  video = tf.io.decode_gif(raw)\n",
        "  # Resize the video\n",
        "  video = tf.image.resize(video, image_size)\n",
        "  # change dtype to a float32\n",
        "  # Hub models always want images normalized to [0,1]\n",
        "  # ref: https://www.tensorflow.org/hub/common_signatures/images#input\n",
        "  video = tf.cast(video, tf.float32) / 255.\n",
        "  return video"
      ]
    },
    {
      "cell_type": "markdown",
      "metadata": {
        "id": "Xx7cZm8vpDJm"
      },
      "source": [
        "The video's shape is `(frames, height, width, colors)`"
      ]
    },
    {
      "cell_type": "code",
      "execution_count": 8,
      "metadata": {
        "id": "E7k_PmbFSkHv",
        "outputId": "fd7d5c05-d184-4917-8866-9f15c71ca844",
        "colab": {
          "base_uri": "https://localhost:8080/"
        }
      },
      "outputs": [
        {
          "output_type": "execute_result",
          "data": {
            "text/plain": [
              "TensorShape([13, 224, 224, 3])"
            ]
          },
          "metadata": {},
          "execution_count": 8
        }
      ],
      "source": [
        "jumpingjack=load_gif(jumpingjack_path)\n",
        "jumpingjack.shape"
      ]
    },
    {
      "cell_type": "markdown",
      "metadata": {
        "id": "LcKFy3oedBvF"
      },
      "source": [
        "## How to use the model\n",
        "\n",
        "This section contains a walkthrough showing how to use the [models from TensorFlow Hub](https://tfhub.dev/google/collections/movinet/1). If you just want to see the models in action, skip to the next section.\n",
        "\n",
        "There are two versions of each model: `base` and `streaming`.\n",
        "\n",
        "* The `base` version takes a video as input, and returns the probabilities averaged over the frames.\n",
        "* The `streaming` version takes a video frame and an RNN state as input, and returns the predictions for that frame, and the new RNN state."
      ]
    },
    {
      "cell_type": "markdown",
      "metadata": {
        "id": "WQO6Zb8Hm-9q"
      },
      "source": [
        "### The base model"
      ]
    },
    {
      "cell_type": "markdown",
      "metadata": {
        "id": "RfnYU20JnPqp"
      },
      "source": [
        "Download the [pretrained model from TensorFlow Hub](https://tfhub.dev/tensorflow/movinet/a2/base/kinetics-600/classification/3)."
      ]
    },
    {
      "cell_type": "code",
      "execution_count": 9,
      "metadata": {
        "id": "FnpPo6HSR7qv",
        "outputId": "19b9ec60-6f1b-407c-84f3-d2e1546ecc86",
        "colab": {
          "base_uri": "https://localhost:8080/"
        }
      },
      "outputs": [
        {
          "output_type": "stream",
          "name": "stdout",
          "text": [
            "CPU times: user 21.7 s, sys: 1.18 s, total: 22.8 s\n",
            "Wall time: 24.7 s\n"
          ]
        }
      ],
      "source": [
        "%%time\n",
        "id = 'a2'\n",
        "mode = 'base'\n",
        "version = '3'\n",
        "hub_url = f'https://tfhub.dev/tensorflow/movinet/{id}/{mode}/kinetics-600/classification/{version}'\n",
        "model = hub.load(hub_url)"
      ]
    },
    {
      "cell_type": "markdown",
      "metadata": {
        "id": "jvaFwKhxndmb"
      },
      "source": [
        "This version of the model has one `signature`. It takes an `image` argument which is a `tf.float32` with shape `(batch, frames, height, width, colors)`. It returns a dictionary containing one output: A `tf.float32` tensor of logits with shape `(batch, classes)`."
      ]
    },
    {
      "cell_type": "code",
      "execution_count": 10,
      "metadata": {
        "id": "7GzZ4Y03T_gH",
        "outputId": "9b304faf-9faf-4cbd-aa47-5739db732dfa",
        "colab": {
          "base_uri": "https://localhost:8080/"
        }
      },
      "outputs": [
        {
          "output_type": "stream",
          "name": "stdout",
          "text": [
            "Input Parameters:\n",
            "  image (KEYWORD_ONLY): TensorSpec(shape=(None, None, None, None, 3), dtype=tf.float32, name='image')\n",
            "Output Type:\n",
            "  Dict[['classifier_head', TensorSpec(shape=(None, 600), dtype=tf.float32, name='classifier_head')]]\n",
            "Captures:\n",
            "  132276341205904: TensorSpec(shape=(), dtype=tf.resource, name=None)\n",
            "  132276636063472: TensorSpec(shape=(), dtype=tf.resource, name=None)\n",
            "  132276636063296: TensorSpec(shape=(), dtype=tf.resource, name=None)\n",
            "  132276636062944: TensorSpec(shape=(), dtype=tf.resource, name=None)\n",
            "  132276636063120: TensorSpec(shape=(), dtype=tf.resource, name=None)\n",
            "  132276341205552: TensorSpec(shape=(), dtype=tf.resource, name=None)\n",
            "  132276636062768: TensorSpec(shape=(), dtype=tf.resource, name=None)\n",
            "  132276338736320: TensorSpec(shape=(), dtype=tf.resource, name=None)\n",
            "  132276338736496: TensorSpec(shape=(), dtype=tf.resource, name=None)\n",
            "  132276338736672: TensorSpec(shape=(), dtype=tf.resource, name=None)\n",
            "  132276341205728: TensorSpec(shape=(), dtype=tf.resource, name=None)\n",
            "  132276338736144: TensorSpec(shape=(), dtype=tf.resource, name=None)\n",
            "  132276338735616: TensorSpec(shape=(), dtype=tf.resource, name=None)\n",
            "  132276338735968: TensorSpec(shape=(), dtype=tf.resource, name=None)\n",
            "  132276338735792: TensorSpec(shape=(), dtype=tf.resource, name=None)\n",
            "  132276341205200: TensorSpec(shape=(), dtype=tf.resource, name=None)\n",
            "  132276341205024: TensorSpec(shape=(), dtype=tf.resource, name=None)\n",
            "  132276341204848: TensorSpec(shape=(), dtype=tf.resource, name=None)\n",
            "  132276341204672: TensorSpec(shape=(), dtype=tf.resource, name=None)\n",
            "  132276341205376: TensorSpec(shape=(), dtype=tf.resource, name=None)\n",
            "  132276338735264: TensorSpec(shape=(), dtype=tf.resource, name=None)\n",
            "  132276338735088: TensorSpec(shape=(), dtype=tf.resource, name=None)\n",
            "  132276338734912: TensorSpec(shape=(), dtype=tf.resource, name=None)\n",
            "  132276338735440: TensorSpec(shape=(), dtype=tf.resource, name=None)\n",
            "  132276341204320: TensorSpec(shape=(), dtype=tf.resource, name=None)\n",
            "  132276341204496: TensorSpec(shape=(), dtype=tf.resource, name=None)\n",
            "  132276636111744: TensorSpec(shape=(), dtype=tf.resource, name=None)\n",
            "  132276636111568: TensorSpec(shape=(), dtype=tf.resource, name=None)\n",
            "  132276636111216: TensorSpec(shape=(), dtype=tf.resource, name=None)\n",
            "  132276636111392: TensorSpec(shape=(), dtype=tf.resource, name=None)\n",
            "  132276341204144: TensorSpec(shape=(), dtype=tf.resource, name=None)\n",
            "  132276338734208: TensorSpec(shape=(), dtype=tf.resource, name=None)\n",
            "  132276338734384: TensorSpec(shape=(), dtype=tf.resource, name=None)\n",
            "  132276338734736: TensorSpec(shape=(), dtype=tf.resource, name=None)\n",
            "  132276338734560: TensorSpec(shape=(), dtype=tf.resource, name=None)\n",
            "  132276341203968: TensorSpec(shape=(), dtype=tf.resource, name=None)\n",
            "  132276338733504: TensorSpec(shape=(), dtype=tf.resource, name=None)\n",
            "  132276338734032: TensorSpec(shape=(), dtype=tf.resource, name=None)\n",
            "  132276338733680: TensorSpec(shape=(), dtype=tf.resource, name=None)\n",
            "  132276338730336: TensorSpec(shape=(), dtype=tf.resource, name=None)\n",
            "  132276341203616: TensorSpec(shape=(), dtype=tf.resource, name=None)\n",
            "  132276341203440: TensorSpec(shape=(), dtype=tf.resource, name=None)\n",
            "  132276341203264: TensorSpec(shape=(), dtype=tf.resource, name=None)\n",
            "  132276341203088: TensorSpec(shape=(), dtype=tf.resource, name=None)\n",
            "  132276341203792: TensorSpec(shape=(), dtype=tf.resource, name=None)\n",
            "  132276338733152: TensorSpec(shape=(), dtype=tf.resource, name=None)\n",
            "  132276338732976: TensorSpec(shape=(), dtype=tf.resource, name=None)\n",
            "  132276338732800: TensorSpec(shape=(), dtype=tf.resource, name=None)\n",
            "  132276338733328: TensorSpec(shape=(), dtype=tf.resource, name=None)\n",
            "  132276341202912: TensorSpec(shape=(), dtype=tf.resource, name=None)\n",
            "  132276341202736: TensorSpec(shape=(), dtype=tf.resource, name=None)\n",
            "  132276338732448: TensorSpec(shape=(), dtype=tf.resource, name=None)\n",
            "  132276338732272: TensorSpec(shape=(), dtype=tf.resource, name=None)\n",
            "  132276338732624: TensorSpec(shape=(), dtype=tf.resource, name=None)\n",
            "  132276338732096: TensorSpec(shape=(), dtype=tf.resource, name=None)\n",
            "  132276341202560: TensorSpec(shape=(), dtype=tf.resource, name=None)\n",
            "  132276338731568: TensorSpec(shape=(), dtype=tf.resource, name=None)\n",
            "  132276338731392: TensorSpec(shape=(), dtype=tf.resource, name=None)\n",
            "  132276338731920: TensorSpec(shape=(), dtype=tf.resource, name=None)\n",
            "  132276338731744: TensorSpec(shape=(), dtype=tf.resource, name=None)\n",
            "  132276341202208: TensorSpec(shape=(), dtype=tf.resource, name=None)\n",
            "  132276341202032: TensorSpec(shape=(), dtype=tf.resource, name=None)\n",
            "  132276341201856: TensorSpec(shape=(), dtype=tf.resource, name=None)\n",
            "  132276341201680: TensorSpec(shape=(), dtype=tf.resource, name=None)\n",
            "  132276341202384: TensorSpec(shape=(), dtype=tf.resource, name=None)\n",
            "  132276338731216: TensorSpec(shape=(), dtype=tf.resource, name=None)\n",
            "  132276338731040: TensorSpec(shape=(), dtype=tf.resource, name=None)\n",
            "  132276338730864: TensorSpec(shape=(), dtype=tf.resource, name=None)\n",
            "  132276636109808: TensorSpec(shape=(), dtype=tf.resource, name=None)\n",
            "  132276341201504: TensorSpec(shape=(), dtype=tf.resource, name=None)\n",
            "  132276341201328: TensorSpec(shape=(), dtype=tf.resource, name=None)\n",
            "  132276636110160: TensorSpec(shape=(), dtype=tf.resource, name=None)\n",
            "  132276636110512: TensorSpec(shape=(), dtype=tf.resource, name=None)\n",
            "  132277306764880: TensorSpec(shape=(), dtype=tf.resource, name=None)\n",
            "  132276338804512: TensorSpec(shape=(), dtype=tf.resource, name=None)\n",
            "  132276341201152: TensorSpec(shape=(), dtype=tf.resource, name=None)\n",
            "  132276636062240: TensorSpec(shape=(), dtype=tf.resource, name=None)\n",
            "  132276636062064: TensorSpec(shape=(), dtype=tf.resource, name=None)\n",
            "  132276636062592: TensorSpec(shape=(), dtype=tf.resource, name=None)\n",
            "  132276636062416: TensorSpec(shape=(), dtype=tf.resource, name=None)\n",
            "  132276341200800: TensorSpec(shape=(), dtype=tf.resource, name=None)\n",
            "  132276341200624: TensorSpec(shape=(), dtype=tf.resource, name=None)\n",
            "  132276341200448: TensorSpec(shape=(), dtype=tf.resource, name=None)\n",
            "  132276341200272: TensorSpec(shape=(), dtype=tf.resource, name=None)\n",
            "  132276341200976: TensorSpec(shape=(), dtype=tf.resource, name=None)\n",
            "  132276636061536: TensorSpec(shape=(), dtype=tf.resource, name=None)\n",
            "  132276636061360: TensorSpec(shape=(), dtype=tf.resource, name=None)\n",
            "  132276636061888: TensorSpec(shape=(), dtype=tf.resource, name=None)\n",
            "  132276636061712: TensorSpec(shape=(), dtype=tf.resource, name=None)\n",
            "  132276341199920: TensorSpec(shape=(), dtype=tf.resource, name=None)\n",
            "  132276341200096: TensorSpec(shape=(), dtype=tf.resource, name=None)\n",
            "  132276636111040: TensorSpec(shape=(), dtype=tf.resource, name=None)\n",
            "  132276636110688: TensorSpec(shape=(), dtype=tf.resource, name=None)\n",
            "  132276636110336: TensorSpec(shape=(), dtype=tf.resource, name=None)\n",
            "  132276636109984: TensorSpec(shape=(), dtype=tf.resource, name=None)\n",
            "  132276341198864: TensorSpec(shape=(), dtype=tf.resource, name=None)\n",
            "  132276636061008: TensorSpec(shape=(), dtype=tf.resource, name=None)\n",
            "  132276636060832: TensorSpec(shape=(), dtype=tf.resource, name=None)\n",
            "  132276636060656: TensorSpec(shape=(), dtype=tf.resource, name=None)\n",
            "  132276636061184: TensorSpec(shape=(), dtype=tf.resource, name=None)\n",
            "  132276341198688: TensorSpec(shape=(), dtype=tf.resource, name=None)\n",
            "  132276636060128: TensorSpec(shape=(), dtype=tf.resource, name=None)\n",
            "  132276636059952: TensorSpec(shape=(), dtype=tf.resource, name=None)\n",
            "  132276636060480: TensorSpec(shape=(), dtype=tf.resource, name=None)\n",
            "  132276636060304: TensorSpec(shape=(), dtype=tf.resource, name=None)\n",
            "  132276341199744: TensorSpec(shape=(), dtype=tf.resource, name=None)\n",
            "  132276341199568: TensorSpec(shape=(), dtype=tf.resource, name=None)\n",
            "  132276341199392: TensorSpec(shape=(), dtype=tf.resource, name=None)\n",
            "  132276341199216: TensorSpec(shape=(), dtype=tf.resource, name=None)\n",
            "  132276341198512: TensorSpec(shape=(), dtype=tf.resource, name=None)\n",
            "  132276636059248: TensorSpec(shape=(), dtype=tf.resource, name=None)\n",
            "  132276636059776: TensorSpec(shape=(), dtype=tf.resource, name=None)\n",
            "  132276636059600: TensorSpec(shape=(), dtype=tf.resource, name=None)\n",
            "  132276636059424: TensorSpec(shape=(), dtype=tf.resource, name=None)\n",
            "  132276341199040: TensorSpec(shape=(), dtype=tf.resource, name=None)\n",
            "  132276341198336: TensorSpec(shape=(), dtype=tf.resource, name=None)\n",
            "  132276636058544: TensorSpec(shape=(), dtype=tf.resource, name=None)\n",
            "  132276636059072: TensorSpec(shape=(), dtype=tf.resource, name=None)\n",
            "  132276636058896: TensorSpec(shape=(), dtype=tf.resource, name=None)\n",
            "  132276636058720: TensorSpec(shape=(), dtype=tf.resource, name=None)\n",
            "  132276341198160: TensorSpec(shape=(), dtype=tf.resource, name=None)\n",
            "  132276636058192: TensorSpec(shape=(), dtype=tf.resource, name=None)\n",
            "  132276636058016: TensorSpec(shape=(), dtype=tf.resource, name=None)\n",
            "  132276636057840: TensorSpec(shape=(), dtype=tf.resource, name=None)\n",
            "  132276636058368: TensorSpec(shape=(), dtype=tf.resource, name=None)\n",
            "  132276341197808: TensorSpec(shape=(), dtype=tf.resource, name=None)\n",
            "  132276341197632: TensorSpec(shape=(), dtype=tf.resource, name=None)\n",
            "  132276341197456: TensorSpec(shape=(), dtype=tf.resource, name=None)\n",
            "  132276341197280: TensorSpec(shape=(), dtype=tf.resource, name=None)\n",
            "  132276341197984: TensorSpec(shape=(), dtype=tf.resource, name=None)\n",
            "  132276636220960: TensorSpec(shape=(), dtype=tf.resource, name=None)\n",
            "  132276636220784: TensorSpec(shape=(), dtype=tf.resource, name=None)\n",
            "  132276636057664: TensorSpec(shape=(), dtype=tf.resource, name=None)\n",
            "  132276636221136: TensorSpec(shape=(), dtype=tf.resource, name=None)\n",
            "  132276341197104: TensorSpec(shape=(), dtype=tf.resource, name=None)\n",
            "  132276341196928: TensorSpec(shape=(), dtype=tf.resource, name=None)\n",
            "  132276636220256: TensorSpec(shape=(), dtype=tf.resource, name=None)\n",
            "  132276636220080: TensorSpec(shape=(), dtype=tf.resource, name=None)\n",
            "  132276636220608: TensorSpec(shape=(), dtype=tf.resource, name=None)\n",
            "  132276636220432: TensorSpec(shape=(), dtype=tf.resource, name=None)\n",
            "  132276341196752: TensorSpec(shape=(), dtype=tf.resource, name=None)\n",
            "  132276636219904: TensorSpec(shape=(), dtype=tf.resource, name=None)\n",
            "  132276636219728: TensorSpec(shape=(), dtype=tf.resource, name=None)\n",
            "  132276636219552: TensorSpec(shape=(), dtype=tf.resource, name=None)\n",
            "  132276636219376: TensorSpec(shape=(), dtype=tf.resource, name=None)\n",
            "  132276341196400: TensorSpec(shape=(), dtype=tf.resource, name=None)\n",
            "  132276341196224: TensorSpec(shape=(), dtype=tf.resource, name=None)\n",
            "  132276341196048: TensorSpec(shape=(), dtype=tf.resource, name=None)\n",
            "  132276341195872: TensorSpec(shape=(), dtype=tf.resource, name=None)\n",
            "  132276341196576: TensorSpec(shape=(), dtype=tf.resource, name=None)\n",
            "  132276636219024: TensorSpec(shape=(), dtype=tf.resource, name=None)\n",
            "  132276636218848: TensorSpec(shape=(), dtype=tf.resource, name=None)\n",
            "  132276636218672: TensorSpec(shape=(), dtype=tf.resource, name=None)\n",
            "  132276636219200: TensorSpec(shape=(), dtype=tf.resource, name=None)\n",
            "  132276341195696: TensorSpec(shape=(), dtype=tf.resource, name=None)\n",
            "  132276341195520: TensorSpec(shape=(), dtype=tf.resource, name=None)\n",
            "  132276636218144: TensorSpec(shape=(), dtype=tf.resource, name=None)\n",
            "  132276636217968: TensorSpec(shape=(), dtype=tf.resource, name=None)\n",
            "  132276636218496: TensorSpec(shape=(), dtype=tf.resource, name=None)\n",
            "  132276636218320: TensorSpec(shape=(), dtype=tf.resource, name=None)\n",
            "  132276341195344: TensorSpec(shape=(), dtype=tf.resource, name=None)\n",
            "  132276636217440: TensorSpec(shape=(), dtype=tf.resource, name=None)\n",
            "  132276636217264: TensorSpec(shape=(), dtype=tf.resource, name=None)\n",
            "  132276636217792: TensorSpec(shape=(), dtype=tf.resource, name=None)\n",
            "  132276636217616: TensorSpec(shape=(), dtype=tf.resource, name=None)\n",
            "  132276341194992: TensorSpec(shape=(), dtype=tf.resource, name=None)\n",
            "  132276341194816: TensorSpec(shape=(), dtype=tf.resource, name=None)\n",
            "  132276341063376: TensorSpec(shape=(), dtype=tf.resource, name=None)\n",
            "  132276341063200: TensorSpec(shape=(), dtype=tf.resource, name=None)\n",
            "  132276341195168: TensorSpec(shape=(), dtype=tf.resource, name=None)\n",
            "  132276636217088: TensorSpec(shape=(), dtype=tf.resource, name=None)\n",
            "  132276636216912: TensorSpec(shape=(), dtype=tf.resource, name=None)\n",
            "  132276636216736: TensorSpec(shape=(), dtype=tf.resource, name=None)\n",
            "  132276636216560: TensorSpec(shape=(), dtype=tf.resource, name=None)\n",
            "  132276341063024: TensorSpec(shape=(), dtype=tf.resource, name=None)\n",
            "  132276341062848: TensorSpec(shape=(), dtype=tf.resource, name=None)\n",
            "  132276636216208: TensorSpec(shape=(), dtype=tf.resource, name=None)\n",
            "  132276636216032: TensorSpec(shape=(), dtype=tf.resource, name=None)\n",
            "  132276636215856: TensorSpec(shape=(), dtype=tf.resource, name=None)\n",
            "  132276636216384: TensorSpec(shape=(), dtype=tf.resource, name=None)\n",
            "  132276341062672: TensorSpec(shape=(), dtype=tf.resource, name=None)\n",
            "  132276636215328: TensorSpec(shape=(), dtype=tf.resource, name=None)\n",
            "  132276636215152: TensorSpec(shape=(), dtype=tf.resource, name=None)\n",
            "  132276636215680: TensorSpec(shape=(), dtype=tf.resource, name=None)\n",
            "  132276636215504: TensorSpec(shape=(), dtype=tf.resource, name=None)\n",
            "  132276341062320: TensorSpec(shape=(), dtype=tf.resource, name=None)\n",
            "  132276341062144: TensorSpec(shape=(), dtype=tf.resource, name=None)\n",
            "  132276341061968: TensorSpec(shape=(), dtype=tf.resource, name=None)\n",
            "  132276341061792: TensorSpec(shape=(), dtype=tf.resource, name=None)\n",
            "  132276341062496: TensorSpec(shape=(), dtype=tf.resource, name=None)\n",
            "  132276636214448: TensorSpec(shape=(), dtype=tf.resource, name=None)\n",
            "  132276636214976: TensorSpec(shape=(), dtype=tf.resource, name=None)\n",
            "  132276636214800: TensorSpec(shape=(), dtype=tf.resource, name=None)\n",
            "  132276636214624: TensorSpec(shape=(), dtype=tf.resource, name=None)\n",
            "  132276341061440: TensorSpec(shape=(), dtype=tf.resource, name=None)\n",
            "  132276341061616: TensorSpec(shape=(), dtype=tf.resource, name=None)\n",
            "  132276636109632: TensorSpec(shape=(), dtype=tf.resource, name=None)\n",
            "  132276636108576: TensorSpec(shape=(), dtype=tf.resource, name=None)\n",
            "  132276636109280: TensorSpec(shape=(), dtype=tf.resource, name=None)\n",
            "  132276636108928: TensorSpec(shape=(), dtype=tf.resource, name=None)\n",
            "  132276341061264: TensorSpec(shape=(), dtype=tf.resource, name=None)\n",
            "  132276636214096: TensorSpec(shape=(), dtype=tf.resource, name=None)\n",
            "  132276636213920: TensorSpec(shape=(), dtype=tf.resource, name=None)\n",
            "  132276636213744: TensorSpec(shape=(), dtype=tf.resource, name=None)\n",
            "  132276636214272: TensorSpec(shape=(), dtype=tf.resource, name=None)\n",
            "  132276341061088: TensorSpec(shape=(), dtype=tf.resource, name=None)\n",
            "  132276636213216: TensorSpec(shape=(), dtype=tf.resource, name=None)\n",
            "  132276636213040: TensorSpec(shape=(), dtype=tf.resource, name=None)\n",
            "  132276636213568: TensorSpec(shape=(), dtype=tf.resource, name=None)\n",
            "  132276636213392: TensorSpec(shape=(), dtype=tf.resource, name=None)\n",
            "  132276341060736: TensorSpec(shape=(), dtype=tf.resource, name=None)\n",
            "  132276341060560: TensorSpec(shape=(), dtype=tf.resource, name=None)\n",
            "  132276341060384: TensorSpec(shape=(), dtype=tf.resource, name=None)\n",
            "  132276341060208: TensorSpec(shape=(), dtype=tf.resource, name=None)\n",
            "  132276341060912: TensorSpec(shape=(), dtype=tf.resource, name=None)\n",
            "  132276636212864: TensorSpec(shape=(), dtype=tf.resource, name=None)\n",
            "  132276636212688: TensorSpec(shape=(), dtype=tf.resource, name=None)\n",
            "  132276636212512: TensorSpec(shape=(), dtype=tf.resource, name=None)\n",
            "  132276636212336: TensorSpec(shape=(), dtype=tf.resource, name=None)\n",
            "  132276341060032: TensorSpec(shape=(), dtype=tf.resource, name=None)\n",
            "  132276341059856: TensorSpec(shape=(), dtype=tf.resource, name=None)\n",
            "  132276636212160: TensorSpec(shape=(), dtype=tf.resource, name=None)\n",
            "  132276636211984: TensorSpec(shape=(), dtype=tf.resource, name=None)\n",
            "  132276636211808: TensorSpec(shape=(), dtype=tf.resource, name=None)\n",
            "  132276636211632: TensorSpec(shape=(), dtype=tf.resource, name=None)\n",
            "  132276341059680: TensorSpec(shape=(), dtype=tf.resource, name=None)\n",
            "  132276636211280: TensorSpec(shape=(), dtype=tf.resource, name=None)\n",
            "  132276636211104: TensorSpec(shape=(), dtype=tf.resource, name=None)\n",
            "  132276636210928: TensorSpec(shape=(), dtype=tf.resource, name=None)\n",
            "  132276636211456: TensorSpec(shape=(), dtype=tf.resource, name=None)\n",
            "  132276341059328: TensorSpec(shape=(), dtype=tf.resource, name=None)\n",
            "  132276341059152: TensorSpec(shape=(), dtype=tf.resource, name=None)\n",
            "  132276341058976: TensorSpec(shape=(), dtype=tf.resource, name=None)\n",
            "  132276341058800: TensorSpec(shape=(), dtype=tf.resource, name=None)\n",
            "  132276341059504: TensorSpec(shape=(), dtype=tf.resource, name=None)\n",
            "  132276636210400: TensorSpec(shape=(), dtype=tf.resource, name=None)\n",
            "  132276636210224: TensorSpec(shape=(), dtype=tf.resource, name=None)\n",
            "  132276636210752: TensorSpec(shape=(), dtype=tf.resource, name=None)\n",
            "  132276636210576: TensorSpec(shape=(), dtype=tf.resource, name=None)\n",
            "  132276341058624: TensorSpec(shape=(), dtype=tf.resource, name=None)\n",
            "  132276341058448: TensorSpec(shape=(), dtype=tf.resource, name=None)\n",
            "  132276636209696: TensorSpec(shape=(), dtype=tf.resource, name=None)\n",
            "  132276636209520: TensorSpec(shape=(), dtype=tf.resource, name=None)\n",
            "  132276636210048: TensorSpec(shape=(), dtype=tf.resource, name=None)\n",
            "  132276636209872: TensorSpec(shape=(), dtype=tf.resource, name=None)\n",
            "  132276341058272: TensorSpec(shape=(), dtype=tf.resource, name=None)\n",
            "  132276636209344: TensorSpec(shape=(), dtype=tf.resource, name=None)\n",
            "  132276636209168: TensorSpec(shape=(), dtype=tf.resource, name=None)\n",
            "  132276636208992: TensorSpec(shape=(), dtype=tf.resource, name=None)\n",
            "  132276636208816: TensorSpec(shape=(), dtype=tf.resource, name=None)\n",
            "  132276341057920: TensorSpec(shape=(), dtype=tf.resource, name=None)\n",
            "  132276341057744: TensorSpec(shape=(), dtype=tf.resource, name=None)\n",
            "  132276341057568: TensorSpec(shape=(), dtype=tf.resource, name=None)\n",
            "  132276341057392: TensorSpec(shape=(), dtype=tf.resource, name=None)\n",
            "  132276341058096: TensorSpec(shape=(), dtype=tf.resource, name=None)\n",
            "  132276636208464: TensorSpec(shape=(), dtype=tf.resource, name=None)\n",
            "  132276636208288: TensorSpec(shape=(), dtype=tf.resource, name=None)\n",
            "  132276636208112: TensorSpec(shape=(), dtype=tf.resource, name=None)\n",
            "  132276636208640: TensorSpec(shape=(), dtype=tf.resource, name=None)\n",
            "  132276341057216: TensorSpec(shape=(), dtype=tf.resource, name=None)\n",
            "  132276341057040: TensorSpec(shape=(), dtype=tf.resource, name=None)\n",
            "  132276636207584: TensorSpec(shape=(), dtype=tf.resource, name=None)\n",
            "  132276636207408: TensorSpec(shape=(), dtype=tf.resource, name=None)\n",
            "  132276636207936: TensorSpec(shape=(), dtype=tf.resource, name=None)\n",
            "  132276636207760: TensorSpec(shape=(), dtype=tf.resource, name=None)\n",
            "  132276341056864: TensorSpec(shape=(), dtype=tf.resource, name=None)\n",
            "  132276636206704: TensorSpec(shape=(), dtype=tf.resource, name=None)\n",
            "  132276636207232: TensorSpec(shape=(), dtype=tf.resource, name=None)\n",
            "  132276636207056: TensorSpec(shape=(), dtype=tf.resource, name=None)\n",
            "  132276636206880: TensorSpec(shape=(), dtype=tf.resource, name=None)\n",
            "  132276341056512: TensorSpec(shape=(), dtype=tf.resource, name=None)\n",
            "  132276341056336: TensorSpec(shape=(), dtype=tf.resource, name=None)\n",
            "  132276341056160: TensorSpec(shape=(), dtype=tf.resource, name=None)\n",
            "  132276341055984: TensorSpec(shape=(), dtype=tf.resource, name=None)\n",
            "  132276341056688: TensorSpec(shape=(), dtype=tf.resource, name=None)\n",
            "  132276636206528: TensorSpec(shape=(), dtype=tf.resource, name=None)\n",
            "  132276636206352: TensorSpec(shape=(), dtype=tf.resource, name=None)\n",
            "  132276636206176: TensorSpec(shape=(), dtype=tf.resource, name=None)\n",
            "  132276636206000: TensorSpec(shape=(), dtype=tf.resource, name=None)\n",
            "  132276341055808: TensorSpec(shape=(), dtype=tf.resource, name=None)\n",
            "  132276341054752: TensorSpec(shape=(), dtype=tf.resource, name=None)\n",
            "  132276636205648: TensorSpec(shape=(), dtype=tf.resource, name=None)\n",
            "  132276636205472: TensorSpec(shape=(), dtype=tf.resource, name=None)\n",
            "  132276636205296: TensorSpec(shape=(), dtype=tf.resource, name=None)\n",
            "  132276636205824: TensorSpec(shape=(), dtype=tf.resource, name=None)\n",
            "  132276341054576: TensorSpec(shape=(), dtype=tf.resource, name=None)\n",
            "  132276636286496: TensorSpec(shape=(), dtype=tf.resource, name=None)\n",
            "  132276636286320: TensorSpec(shape=(), dtype=tf.resource, name=None)\n",
            "  132276636205120: TensorSpec(shape=(), dtype=tf.resource, name=None)\n",
            "  132276636286672: TensorSpec(shape=(), dtype=tf.resource, name=None)\n",
            "  132276341055632: TensorSpec(shape=(), dtype=tf.resource, name=None)\n",
            "  132276341055456: TensorSpec(shape=(), dtype=tf.resource, name=None)\n",
            "  132276341055280: TensorSpec(shape=(), dtype=tf.resource, name=None)\n",
            "  132276341055104: TensorSpec(shape=(), dtype=tf.resource, name=None)\n",
            "  132276341054400: TensorSpec(shape=(), dtype=tf.resource, name=None)\n",
            "  132276636286144: TensorSpec(shape=(), dtype=tf.resource, name=None)\n",
            "  132276636285968: TensorSpec(shape=(), dtype=tf.resource, name=None)\n",
            "  132276636285792: TensorSpec(shape=(), dtype=tf.resource, name=None)\n",
            "  132276636285616: TensorSpec(shape=(), dtype=tf.resource, name=None)\n",
            "  132276341054928: TensorSpec(shape=(), dtype=tf.resource, name=None)\n",
            "  132276341054224: TensorSpec(shape=(), dtype=tf.resource, name=None)\n",
            "  132276636285440: TensorSpec(shape=(), dtype=tf.resource, name=None)\n",
            "  132276636285264: TensorSpec(shape=(), dtype=tf.resource, name=None)\n",
            "  132276636285088: TensorSpec(shape=(), dtype=tf.resource, name=None)\n",
            "  132276636284912: TensorSpec(shape=(), dtype=tf.resource, name=None)\n",
            "  132276341054048: TensorSpec(shape=(), dtype=tf.resource, name=None)\n",
            "  132276636284560: TensorSpec(shape=(), dtype=tf.resource, name=None)\n",
            "  132276636284384: TensorSpec(shape=(), dtype=tf.resource, name=None)\n",
            "  132276636284208: TensorSpec(shape=(), dtype=tf.resource, name=None)\n",
            "  132276636284736: TensorSpec(shape=(), dtype=tf.resource, name=None)\n",
            "  132276341053696: TensorSpec(shape=(), dtype=tf.resource, name=None)\n",
            "  132276341053520: TensorSpec(shape=(), dtype=tf.resource, name=None)\n",
            "  132276341053344: TensorSpec(shape=(), dtype=tf.resource, name=None)\n",
            "  132276341053168: TensorSpec(shape=(), dtype=tf.resource, name=None)\n",
            "  132276341053872: TensorSpec(shape=(), dtype=tf.resource, name=None)\n",
            "  132276636283680: TensorSpec(shape=(), dtype=tf.resource, name=None)\n",
            "  132276636283504: TensorSpec(shape=(), dtype=tf.resource, name=None)\n",
            "  132276636284032: TensorSpec(shape=(), dtype=tf.resource, name=None)\n",
            "  132276636283856: TensorSpec(shape=(), dtype=tf.resource, name=None)\n",
            "  132276341052992: TensorSpec(shape=(), dtype=tf.resource, name=None)\n",
            "  132276341052816: TensorSpec(shape=(), dtype=tf.resource, name=None)\n",
            "  132276636282976: TensorSpec(shape=(), dtype=tf.resource, name=None)\n",
            "  132276636282800: TensorSpec(shape=(), dtype=tf.resource, name=None)\n",
            "  132276636283328: TensorSpec(shape=(), dtype=tf.resource, name=None)\n",
            "  132276636283152: TensorSpec(shape=(), dtype=tf.resource, name=None)\n",
            "  132276341052640: TensorSpec(shape=(), dtype=tf.resource, name=None)\n",
            "  132276636282624: TensorSpec(shape=(), dtype=tf.resource, name=None)\n",
            "  132276636282448: TensorSpec(shape=(), dtype=tf.resource, name=None)\n",
            "  132276636282272: TensorSpec(shape=(), dtype=tf.resource, name=None)\n",
            "  132276636282096: TensorSpec(shape=(), dtype=tf.resource, name=None)\n",
            "  132276341051936: TensorSpec(shape=(), dtype=tf.resource, name=None)\n",
            "  132276341051760: TensorSpec(shape=(), dtype=tf.resource, name=None)\n",
            "  132276341052288: TensorSpec(shape=(), dtype=tf.resource, name=None)\n",
            "  132276341052112: TensorSpec(shape=(), dtype=tf.resource, name=None)\n",
            "  132276341052464: TensorSpec(shape=(), dtype=tf.resource, name=None)\n",
            "  132276636281744: TensorSpec(shape=(), dtype=tf.resource, name=None)\n",
            "  132276636281568: TensorSpec(shape=(), dtype=tf.resource, name=None)\n",
            "  132276636281392: TensorSpec(shape=(), dtype=tf.resource, name=None)\n",
            "  132276636281920: TensorSpec(shape=(), dtype=tf.resource, name=None)\n",
            "  132276341051584: TensorSpec(shape=(), dtype=tf.resource, name=None)\n",
            "  132276341051408: TensorSpec(shape=(), dtype=tf.resource, name=None)\n",
            "  132276636280864: TensorSpec(shape=(), dtype=tf.resource, name=None)\n",
            "  132276636280688: TensorSpec(shape=(), dtype=tf.resource, name=None)\n",
            "  132276636281216: TensorSpec(shape=(), dtype=tf.resource, name=None)\n",
            "  132276636281040: TensorSpec(shape=(), dtype=tf.resource, name=None)\n",
            "  132276341051232: TensorSpec(shape=(), dtype=tf.resource, name=None)\n",
            "  132276636279984: TensorSpec(shape=(), dtype=tf.resource, name=None)\n",
            "  132276636280512: TensorSpec(shape=(), dtype=tf.resource, name=None)\n",
            "  132276636280336: TensorSpec(shape=(), dtype=tf.resource, name=None)\n",
            "  132276636280160: TensorSpec(shape=(), dtype=tf.resource, name=None)\n",
            "  132276341050880: TensorSpec(shape=(), dtype=tf.resource, name=None)\n",
            "  132276341050704: TensorSpec(shape=(), dtype=tf.resource, name=None)\n",
            "  132276341050528: TensorSpec(shape=(), dtype=tf.resource, name=None)\n",
            "  132276341050352: TensorSpec(shape=(), dtype=tf.resource, name=None)\n",
            "  132276341051056: TensorSpec(shape=(), dtype=tf.resource, name=None)\n",
            "  132276636279808: TensorSpec(shape=(), dtype=tf.resource, name=None)\n",
            "  132276636279632: TensorSpec(shape=(), dtype=tf.resource, name=None)\n",
            "  132276636279456: TensorSpec(shape=(), dtype=tf.resource, name=None)\n",
            "  132276636279280: TensorSpec(shape=(), dtype=tf.resource, name=None)\n",
            "  132276341050176: TensorSpec(shape=(), dtype=tf.resource, name=None)\n",
            "  132276341050000: TensorSpec(shape=(), dtype=tf.resource, name=None)\n",
            "  132276636278928: TensorSpec(shape=(), dtype=tf.resource, name=None)\n",
            "  132276636278752: TensorSpec(shape=(), dtype=tf.resource, name=None)\n",
            "  132276636278576: TensorSpec(shape=(), dtype=tf.resource, name=None)\n",
            "  132276636279104: TensorSpec(shape=(), dtype=tf.resource, name=None)\n",
            "  132276341049824: TensorSpec(shape=(), dtype=tf.resource, name=None)\n",
            "  132276636278048: TensorSpec(shape=(), dtype=tf.resource, name=None)\n",
            "  132276636277872: TensorSpec(shape=(), dtype=tf.resource, name=None)\n",
            "  132276636278400: TensorSpec(shape=(), dtype=tf.resource, name=None)\n",
            "  132276636278224: TensorSpec(shape=(), dtype=tf.resource, name=None)\n",
            "  132276341049472: TensorSpec(shape=(), dtype=tf.resource, name=None)\n",
            "  132276341049296: TensorSpec(shape=(), dtype=tf.resource, name=None)\n",
            "  132276341049120: TensorSpec(shape=(), dtype=tf.resource, name=None)\n",
            "  132276341048944: TensorSpec(shape=(), dtype=tf.resource, name=None)\n",
            "  132276341049648: TensorSpec(shape=(), dtype=tf.resource, name=None)\n",
            "  132276636277696: TensorSpec(shape=(), dtype=tf.resource, name=None)\n",
            "  132276636277520: TensorSpec(shape=(), dtype=tf.resource, name=None)\n",
            "  132276636277344: TensorSpec(shape=(), dtype=tf.resource, name=None)\n",
            "  132276636277168: TensorSpec(shape=(), dtype=tf.resource, name=None)\n",
            "  132276341048768: TensorSpec(shape=(), dtype=tf.resource, name=None)\n",
            "  132276341048592: TensorSpec(shape=(), dtype=tf.resource, name=None)\n",
            "  132276636276992: TensorSpec(shape=(), dtype=tf.resource, name=None)\n",
            "  132276636276816: TensorSpec(shape=(), dtype=tf.resource, name=None)\n",
            "  132276636276640: TensorSpec(shape=(), dtype=tf.resource, name=None)\n",
            "  132276636276464: TensorSpec(shape=(), dtype=tf.resource, name=None)\n",
            "  132276341048416: TensorSpec(shape=(), dtype=tf.resource, name=None)\n",
            "  132276636276112: TensorSpec(shape=(), dtype=tf.resource, name=None)\n",
            "  132276636275936: TensorSpec(shape=(), dtype=tf.resource, name=None)\n",
            "  132276636275760: TensorSpec(shape=(), dtype=tf.resource, name=None)\n",
            "  132276636276288: TensorSpec(shape=(), dtype=tf.resource, name=None)\n",
            "  132276341048064: TensorSpec(shape=(), dtype=tf.resource, name=None)\n",
            "  132276341047888: TensorSpec(shape=(), dtype=tf.resource, name=None)\n",
            "  132276341047712: TensorSpec(shape=(), dtype=tf.resource, name=None)\n",
            "  132276341047536: TensorSpec(shape=(), dtype=tf.resource, name=None)\n",
            "  132276341048240: TensorSpec(shape=(), dtype=tf.resource, name=None)\n",
            "  132276636275232: TensorSpec(shape=(), dtype=tf.resource, name=None)\n",
            "  132276636275056: TensorSpec(shape=(), dtype=tf.resource, name=None)\n",
            "  132276636275584: TensorSpec(shape=(), dtype=tf.resource, name=None)\n",
            "  132276636275408: TensorSpec(shape=(), dtype=tf.resource, name=None)\n",
            "  132276341047360: TensorSpec(shape=(), dtype=tf.resource, name=None)\n",
            "  132276636073680: TensorSpec(shape=(), dtype=tf.resource, name=None)\n",
            "  132276636274528: TensorSpec(shape=(), dtype=tf.resource, name=None)\n",
            "  132276636274352: TensorSpec(shape=(), dtype=tf.resource, name=None)\n",
            "  132276636274880: TensorSpec(shape=(), dtype=tf.resource, name=None)\n",
            "  132276636274704: TensorSpec(shape=(), dtype=tf.resource, name=None)\n",
            "  132276636073504: TensorSpec(shape=(), dtype=tf.resource, name=None)\n",
            "  132276636274176: TensorSpec(shape=(), dtype=tf.resource, name=None)\n",
            "  132276636274000: TensorSpec(shape=(), dtype=tf.resource, name=None)\n",
            "  132276636273824: TensorSpec(shape=(), dtype=tf.resource, name=None)\n",
            "  132276636273648: TensorSpec(shape=(), dtype=tf.resource, name=None)\n",
            "  132276636073152: TensorSpec(shape=(), dtype=tf.resource, name=None)\n",
            "  132276636072976: TensorSpec(shape=(), dtype=tf.resource, name=None)\n",
            "  132276636072800: TensorSpec(shape=(), dtype=tf.resource, name=None)\n",
            "  132276636072624: TensorSpec(shape=(), dtype=tf.resource, name=None)\n",
            "  132276636073328: TensorSpec(shape=(), dtype=tf.resource, name=None)\n",
            "  132276636273296: TensorSpec(shape=(), dtype=tf.resource, name=None)\n",
            "  132276636273120: TensorSpec(shape=(), dtype=tf.resource, name=None)\n",
            "  132276636272944: TensorSpec(shape=(), dtype=tf.resource, name=None)\n",
            "  132276636273472: TensorSpec(shape=(), dtype=tf.resource, name=None)\n",
            "  132276636072272: TensorSpec(shape=(), dtype=tf.resource, name=None)\n",
            "  132276636072448: TensorSpec(shape=(), dtype=tf.resource, name=None)\n",
            "  132276636107520: TensorSpec(shape=(), dtype=tf.resource, name=None)\n",
            "  132276636106992: TensorSpec(shape=(), dtype=tf.resource, name=None)\n",
            "  132276636108224: TensorSpec(shape=(), dtype=tf.resource, name=None)\n",
            "  132276636107872: TensorSpec(shape=(), dtype=tf.resource, name=None)\n",
            "  132276636072096: TensorSpec(shape=(), dtype=tf.resource, name=None)\n",
            "  132276636272240: TensorSpec(shape=(), dtype=tf.resource, name=None)\n",
            "  132276636272768: TensorSpec(shape=(), dtype=tf.resource, name=None)\n",
            "  132276636272592: TensorSpec(shape=(), dtype=tf.resource, name=None)\n",
            "  132276636272416: TensorSpec(shape=(), dtype=tf.resource, name=None)\n",
            "  132276636071920: TensorSpec(shape=(), dtype=tf.resource, name=None)\n",
            "  132276636272064: TensorSpec(shape=(), dtype=tf.resource, name=None)\n",
            "  132276636271888: TensorSpec(shape=(), dtype=tf.resource, name=None)\n",
            "  132276636271712: TensorSpec(shape=(), dtype=tf.resource, name=None)\n",
            "  132276636271536: TensorSpec(shape=(), dtype=tf.resource, name=None)\n",
            "  132276636071568: TensorSpec(shape=(), dtype=tf.resource, name=None)\n",
            "  132276636071392: TensorSpec(shape=(), dtype=tf.resource, name=None)\n",
            "  132276636071216: TensorSpec(shape=(), dtype=tf.resource, name=None)\n",
            "  132276636071040: TensorSpec(shape=(), dtype=tf.resource, name=None)\n",
            "  132276636071744: TensorSpec(shape=(), dtype=tf.resource, name=None)\n",
            "  132276636271184: TensorSpec(shape=(), dtype=tf.resource, name=None)\n",
            "  132276636271008: TensorSpec(shape=(), dtype=tf.resource, name=None)\n",
            "  132276636270832: TensorSpec(shape=(), dtype=tf.resource, name=None)\n",
            "  132276636271360: TensorSpec(shape=(), dtype=tf.resource, name=None)\n",
            "  132276636070864: TensorSpec(shape=(), dtype=tf.resource, name=None)\n",
            "  132276636070688: TensorSpec(shape=(), dtype=tf.resource, name=None)\n",
            "  132276636122656: TensorSpec(shape=(), dtype=tf.resource, name=None)\n",
            "  132276636122480: TensorSpec(shape=(), dtype=tf.resource, name=None)\n",
            "  132276636270656: TensorSpec(shape=(), dtype=tf.resource, name=None)\n",
            "  132276636122832: TensorSpec(shape=(), dtype=tf.resource, name=None)\n",
            "  132276636070512: TensorSpec(shape=(), dtype=tf.resource, name=None)\n",
            "  132276636122304: TensorSpec(shape=(), dtype=tf.resource, name=None)\n",
            "  132276636122128: TensorSpec(shape=(), dtype=tf.resource, name=None)\n",
            "  132276636121952: TensorSpec(shape=(), dtype=tf.resource, name=None)\n",
            "  132276636121776: TensorSpec(shape=(), dtype=tf.resource, name=None)\n",
            "  132276636070160: TensorSpec(shape=(), dtype=tf.resource, name=None)\n",
            "  132276636069984: TensorSpec(shape=(), dtype=tf.resource, name=None)\n",
            "  132276636069808: TensorSpec(shape=(), dtype=tf.resource, name=None)\n",
            "  132276636069632: TensorSpec(shape=(), dtype=tf.resource, name=None)\n",
            "  132276636070336: TensorSpec(shape=(), dtype=tf.resource, name=None)\n",
            "  132276636121600: TensorSpec(shape=(), dtype=tf.resource, name=None)\n",
            "  132276636121424: TensorSpec(shape=(), dtype=tf.resource, name=None)\n",
            "  132276636121248: TensorSpec(shape=(), dtype=tf.resource, name=None)\n",
            "  132276636121072: TensorSpec(shape=(), dtype=tf.resource, name=None)\n",
            "  132276636069456: TensorSpec(shape=(), dtype=tf.resource, name=None)\n",
            "  132276636068224: TensorSpec(shape=(), dtype=tf.resource, name=None)\n",
            "  132276636120720: TensorSpec(shape=(), dtype=tf.resource, name=None)\n",
            "  132276636120544: TensorSpec(shape=(), dtype=tf.resource, name=None)\n",
            "  132276636120368: TensorSpec(shape=(), dtype=tf.resource, name=None)\n",
            "  132276636120896: TensorSpec(shape=(), dtype=tf.resource, name=None)\n",
            "  132276636068048: TensorSpec(shape=(), dtype=tf.resource, name=None)\n",
            "  132276636119840: TensorSpec(shape=(), dtype=tf.resource, name=None)\n",
            "  132276636119664: TensorSpec(shape=(), dtype=tf.resource, name=None)\n",
            "  132276636120192: TensorSpec(shape=(), dtype=tf.resource, name=None)\n",
            "  132276636120016: TensorSpec(shape=(), dtype=tf.resource, name=None)\n",
            "  132276636069104: TensorSpec(shape=(), dtype=tf.resource, name=None)\n",
            "  132276636068928: TensorSpec(shape=(), dtype=tf.resource, name=None)\n",
            "  132276636068752: TensorSpec(shape=(), dtype=tf.resource, name=None)\n",
            "  132276636068576: TensorSpec(shape=(), dtype=tf.resource, name=None)\n",
            "  132276636069280: TensorSpec(shape=(), dtype=tf.resource, name=None)\n",
            "  132276636119488: TensorSpec(shape=(), dtype=tf.resource, name=None)\n",
            "  132276636119312: TensorSpec(shape=(), dtype=tf.resource, name=None)\n",
            "  132276636119136: TensorSpec(shape=(), dtype=tf.resource, name=None)\n",
            "  132276636118960: TensorSpec(shape=(), dtype=tf.resource, name=None)\n",
            "  132276636068400: TensorSpec(shape=(), dtype=tf.resource, name=None)\n",
            "  132276636067872: TensorSpec(shape=(), dtype=tf.resource, name=None)\n",
            "  132276636118784: TensorSpec(shape=(), dtype=tf.resource, name=None)\n",
            "  132276636118608: TensorSpec(shape=(), dtype=tf.resource, name=None)\n",
            "  132276636118432: TensorSpec(shape=(), dtype=tf.resource, name=None)\n",
            "  132276636118256: TensorSpec(shape=(), dtype=tf.resource, name=None)\n",
            "  132276636067696: TensorSpec(shape=(), dtype=tf.resource, name=None)\n",
            "  132276636117904: TensorSpec(shape=(), dtype=tf.resource, name=None)\n",
            "  132276636117728: TensorSpec(shape=(), dtype=tf.resource, name=None)\n",
            "  132276636117552: TensorSpec(shape=(), dtype=tf.resource, name=None)\n",
            "  132276636118080: TensorSpec(shape=(), dtype=tf.resource, name=None)\n",
            "  132276636067344: TensorSpec(shape=(), dtype=tf.resource, name=None)\n",
            "  132276636067168: TensorSpec(shape=(), dtype=tf.resource, name=None)\n",
            "  132276636066992: TensorSpec(shape=(), dtype=tf.resource, name=None)\n",
            "  132276636066816: TensorSpec(shape=(), dtype=tf.resource, name=None)\n",
            "  132276636067520: TensorSpec(shape=(), dtype=tf.resource, name=None)\n",
            "  132276636116848: TensorSpec(shape=(), dtype=tf.resource, name=None)\n",
            "  132276636117376: TensorSpec(shape=(), dtype=tf.resource, name=None)\n",
            "  132276636117200: TensorSpec(shape=(), dtype=tf.resource, name=None)\n",
            "  132276636117024: TensorSpec(shape=(), dtype=tf.resource, name=None)\n",
            "  132276636066640: TensorSpec(shape=(), dtype=tf.resource, name=None)\n",
            "  132276636066464: TensorSpec(shape=(), dtype=tf.resource, name=None)\n",
            "  132276636116144: TensorSpec(shape=(), dtype=tf.resource, name=None)\n",
            "  132276636116672: TensorSpec(shape=(), dtype=tf.resource, name=None)\n",
            "  132276636116496: TensorSpec(shape=(), dtype=tf.resource, name=None)\n",
            "  132276636116320: TensorSpec(shape=(), dtype=tf.resource, name=None)\n",
            "  132276636066288: TensorSpec(shape=(), dtype=tf.resource, name=None)\n",
            "  132276636115968: TensorSpec(shape=(), dtype=tf.resource, name=None)\n",
            "  132276636115792: TensorSpec(shape=(), dtype=tf.resource, name=None)\n",
            "  132276636115616: TensorSpec(shape=(), dtype=tf.resource, name=None)\n",
            "  132276636115440: TensorSpec(shape=(), dtype=tf.resource, name=None)\n",
            "  132276636065936: TensorSpec(shape=(), dtype=tf.resource, name=None)\n",
            "  132276636065760: TensorSpec(shape=(), dtype=tf.resource, name=None)\n",
            "  132276636065584: TensorSpec(shape=(), dtype=tf.resource, name=None)\n",
            "  132276636065408: TensorSpec(shape=(), dtype=tf.resource, name=None)\n",
            "  132276636066112: TensorSpec(shape=(), dtype=tf.resource, name=None)\n",
            "  132276636115088: TensorSpec(shape=(), dtype=tf.resource, name=None)\n",
            "  132276636114912: TensorSpec(shape=(), dtype=tf.resource, name=None)\n",
            "  132276636114736: TensorSpec(shape=(), dtype=tf.resource, name=None)\n",
            "  132276636115264: TensorSpec(shape=(), dtype=tf.resource, name=None)\n",
            "  132276636065232: TensorSpec(shape=(), dtype=tf.resource, name=None)\n",
            "  132276636065056: TensorSpec(shape=(), dtype=tf.resource, name=None)\n",
            "  132276636114208: TensorSpec(shape=(), dtype=tf.resource, name=None)\n",
            "  132276636114032: TensorSpec(shape=(), dtype=tf.resource, name=None)\n",
            "  132276636114560: TensorSpec(shape=(), dtype=tf.resource, name=None)\n",
            "  132276636114384: TensorSpec(shape=(), dtype=tf.resource, name=None)\n",
            "  132276636064880: TensorSpec(shape=(), dtype=tf.resource, name=None)\n",
            "  132276636113856: TensorSpec(shape=(), dtype=tf.resource, name=None)\n",
            "  132276636113680: TensorSpec(shape=(), dtype=tf.resource, name=None)\n",
            "  132276636113504: TensorSpec(shape=(), dtype=tf.resource, name=None)\n",
            "  132276636113328: TensorSpec(shape=(), dtype=tf.resource, name=None)\n",
            "  132276636064528: TensorSpec(shape=(), dtype=tf.resource, name=None)\n",
            "  132276636064352: TensorSpec(shape=(), dtype=tf.resource, name=None)\n",
            "  132276636064176: TensorSpec(shape=(), dtype=tf.resource, name=None)\n",
            "  132276636064000: TensorSpec(shape=(), dtype=tf.resource, name=None)\n",
            "  132276636064704: TensorSpec(shape=(), dtype=tf.resource, name=None)\n",
            "  132276636113152: TensorSpec(shape=(), dtype=tf.resource, name=None)\n",
            "  132276636112976: TensorSpec(shape=(), dtype=tf.resource, name=None)\n",
            "  132276636112800: TensorSpec(shape=(), dtype=tf.resource, name=None)\n",
            "  132276636112624: TensorSpec(shape=(), dtype=tf.resource, name=None)\n",
            "  132276636063824: TensorSpec(shape=(), dtype=tf.resource, name=None)\n",
            "  132276636063648: TensorSpec(shape=(), dtype=tf.resource, name=None)\n",
            "  132276636112272: TensorSpec(shape=(), dtype=tf.resource, name=None)\n",
            "  132276636112096: TensorSpec(shape=(), dtype=tf.resource, name=None)\n",
            "  132276636111920: TensorSpec(shape=(), dtype=tf.resource, name=None)\n",
            "  132276636112448: TensorSpec(shape=(), dtype=tf.resource, name=None)\n",
            "  132276341206608: TensorSpec(shape=(), dtype=tf.resource, name=None)\n",
            "  132276341206432: TensorSpec(shape=(), dtype=tf.resource, name=None)\n",
            "  132276341206256: TensorSpec(shape=(), dtype=tf.resource, name=None)\n",
            "  132276341206080: TensorSpec(shape=(), dtype=tf.resource, name=None)\n"
          ]
        }
      ],
      "source": [
        "sig = model.signatures['serving_default']\n",
        "print(sig.pretty_printed_signature())"
      ]
    },
    {
      "cell_type": "markdown",
      "metadata": {
        "id": "M4Xny1ANomi4"
      },
      "source": [
        "To run this signature on the video you need to add the outer `batch` dimension to the video first."
      ]
    },
    {
      "cell_type": "code",
      "execution_count": 11,
      "metadata": {
        "id": "LBOFEDG1XvZE"
      },
      "outputs": [],
      "source": [
        "#warmup\n",
        "sig(image = jumpingjack[tf.newaxis, :1]);"
      ]
    },
    {
      "cell_type": "code",
      "execution_count": 12,
      "metadata": {
        "id": "jCeW3KycVbGn",
        "outputId": "cda27c1b-1091-484b-9a54-c2451975e63a",
        "colab": {
          "base_uri": "https://localhost:8080/"
        }
      },
      "outputs": [
        {
          "output_type": "stream",
          "name": "stdout",
          "text": [
            "(600,)\n",
            "\n",
            "CPU times: user 36.1 s, sys: 327 ms, total: 36.4 s\n",
            "Wall time: 26.8 s\n"
          ]
        }
      ],
      "source": [
        "%%time\n",
        "logits = sig(image = jumpingjack[tf.newaxis, ...])\n",
        "logits = logits['classifier_head'][0]\n",
        "\n",
        "print(logits.shape)\n",
        "print()"
      ]
    },
    {
      "cell_type": "markdown",
      "metadata": {
        "id": "AE8doqkPpxED"
      },
      "source": [
        "Define a `get_top_k` function that packages the above output processing for later."
      ]
    },
    {
      "cell_type": "code",
      "execution_count": 13,
      "metadata": {
        "id": "OozPNO6LvZ00"
      },
      "outputs": [],
      "source": [
        "#@title\n",
        "# Get top_k labels and probabilities\n",
        "def get_top_k(probs, k=5, label_map=KINETICS_600_LABELS):\n",
        "  \"\"\"Outputs the top k model labels and probabilities on the given video.\n",
        "\n",
        "  Args:\n",
        "    probs: probability tensor of shape (num_frames, num_classes) that represents\n",
        "      the probability of each class on each frame.\n",
        "    k: the number of top predictions to select.\n",
        "    label_map: a list of labels to map logit indices to label strings.\n",
        "\n",
        "  Returns:\n",
        "    a tuple of the top-k labels and probabilities.\n",
        "  \"\"\"\n",
        "  # Sort predictions to find top_k\n",
        "  top_predictions = tf.argsort(probs, axis=-1, direction='DESCENDING')[:k]\n",
        "  # collect the labels of top_k predictions\n",
        "  top_labels = tf.gather(label_map, top_predictions, axis=-1)\n",
        "  # decode lablels\n",
        "  top_labels = [label.decode('utf8') for label in top_labels.numpy()]\n",
        "  # top_k probabilities of the predictions\n",
        "  top_probs = tf.gather(probs, top_predictions, axis=-1).numpy()\n",
        "  return tuple(zip(top_labels, top_probs))"
      ]
    },
    {
      "cell_type": "markdown",
      "metadata": {
        "id": "kTfKMT29pP_Z"
      },
      "source": [
        "Convert the `logits` to probabilities, and look up the top 5 classes for the video. The model confirms that the video is probably of `jumping jacks`."
      ]
    },
    {
      "cell_type": "code",
      "execution_count": 14,
      "metadata": {
        "id": "Z-SrNGsGV5Mt",
        "outputId": "c9b6676c-cbd4-4fee-e306-208ca8810f54",
        "colab": {
          "base_uri": "https://localhost:8080/"
        }
      },
      "outputs": [
        {
          "output_type": "stream",
          "name": "stdout",
          "text": [
            "jumping jacks       : 0.834\n",
            "zumba               : 0.008\n",
            "lunge               : 0.003\n",
            "doing aerobics      : 0.003\n",
            "polishing metal     : 0.002\n"
          ]
        }
      ],
      "source": [
        "probs = tf.nn.softmax(logits, axis=-1)\n",
        "for label, p in get_top_k(probs):\n",
        "  print(f'{label:20s}: {p:.3f}')"
      ]
    },
    {
      "cell_type": "markdown",
      "metadata": {
        "id": "ltdijoQpqjxZ"
      },
      "source": [
        "### The streaming model"
      ]
    },
    {
      "cell_type": "markdown",
      "metadata": {
        "id": "9dqdUPQXq45b"
      },
      "source": [
        "The previous section used a model that runs over a whole video. Often when processing a video you don't want a single prediction at the end, you want to update predictions frame by frame. The `stream` versions of the model allow you to do this.\n",
        "\n",
        "Load the `stream` version of the model."
      ]
    },
    {
      "cell_type": "code",
      "execution_count": null,
      "metadata": {
        "id": "mxt0hRXFZkAM"
      },
      "outputs": [],
      "source": [
        "%%time\n",
        "id = 'a2'\n",
        "mode = 'stream'\n",
        "version = '3'\n",
        "hub_url = f'https://tfhub.dev/tensorflow/movinet/{id}/{mode}/kinetics-600/classification/{version}'\n",
        "model = hub.load(hub_url)"
      ]
    },
    {
      "cell_type": "markdown",
      "metadata": {
        "id": "pDswtsGgsYGS"
      },
      "source": [
        "Using this model is slightly more complex than the `base` model. You have to keep track of the internal state of the model's RNNs."
      ]
    },
    {
      "cell_type": "code",
      "execution_count": null,
      "metadata": {
        "id": "0fM_Vb1VsbDm"
      },
      "outputs": [],
      "source": [
        "list(model.signatures.keys())"
      ]
    },
    {
      "cell_type": "markdown",
      "metadata": {
        "id": "ojr1_iYCtPvp"
      },
      "source": [
        "The `init_states` signature takes the video's **shape** `(batch, frames, height, width, colors)` as input, and returns a large dictionary of tensors containing the initial RNN states:"
      ]
    },
    {
      "cell_type": "code",
      "execution_count": null,
      "metadata": {
        "id": "67loYFGpo_RP"
      },
      "outputs": [],
      "source": [
        "lines = model.signatures['init_states'].pretty_printed_signature().splitlines()\n",
        "lines = lines[:10]\n",
        "lines.append('      ...')\n",
        "print('.\\n'.join(lines))"
      ]
    },
    {
      "cell_type": "code",
      "execution_count": null,
      "metadata": {
        "id": "v5lG3vejn5df"
      },
      "outputs": [],
      "source": [
        "initial_state = model.init_states(jumpingjack[tf.newaxis, ...].shape)"
      ]
    },
    {
      "cell_type": "code",
      "execution_count": null,
      "metadata": {
        "id": "J3DwmyHnuhH_"
      },
      "outputs": [],
      "source": [
        "type(initial_state)"
      ]
    },
    {
      "cell_type": "code",
      "execution_count": null,
      "metadata": {
        "id": "K8SyiEU6tB-e"
      },
      "outputs": [],
      "source": [
        "list(sorted(initial_state.keys()))[:5]"
      ]
    },
    {
      "cell_type": "markdown",
      "metadata": {
        "id": "xeMCzJMBvwRF"
      },
      "source": [
        "Once you have the initial state for the RNNs, you can pass the state and a video frame as input (keeping the `(batch, frames, height, width, colors)` shape for the video frame). The model returns a `(logits, state)` pair.\n",
        "\n",
        "After just seeing the first frame, the model is not convinced that the video is of \"jumping jacks\":"
      ]
    },
    {
      "cell_type": "code",
      "execution_count": null,
      "metadata": {
        "id": "McSLdIgtsI3d"
      },
      "outputs": [],
      "source": [
        "inputs = initial_state.copy()\n",
        "\n",
        "# Add the batch axis, take the first frme, but keep the frame-axis.\n",
        "inputs['image'] = jumpingjack[tf.newaxis, 0:1, ...]"
      ]
    },
    {
      "cell_type": "code",
      "execution_count": null,
      "metadata": {
        "id": "WlH7PqLPX664"
      },
      "outputs": [],
      "source": [
        "# warmup\n",
        "model(inputs);"
      ]
    },
    {
      "cell_type": "code",
      "execution_count": null,
      "metadata": {
        "id": "7uzNXtu7X5sr"
      },
      "outputs": [],
      "source": [
        "logits, new_state = model(inputs)\n",
        "logits = logits[0]\n",
        "probs = tf.nn.softmax(logits, axis=-1)\n",
        "\n",
        "for label, p in get_top_k(probs):\n",
        "  print(f'{label:20s}: {p:.3f}')\n",
        "\n",
        "print()"
      ]
    },
    {
      "cell_type": "markdown",
      "metadata": {
        "id": "oLU644FQwXSb"
      },
      "source": [
        "If you run the model in a loop, passing the updated state with each frame, the model quickly converges to the correct result:"
      ]
    },
    {
      "cell_type": "code",
      "execution_count": null,
      "metadata": {
        "id": "Fzm7T4ImmIEg"
      },
      "outputs": [],
      "source": [
        "%%time\n",
        "state = initial_state.copy()\n",
        "all_logits = []\n",
        "\n",
        "for n in range(len(jumpingjack)):\n",
        "  inputs = state\n",
        "  inputs['image'] = jumpingjack[tf.newaxis, n:n+1, ...]\n",
        "  result, state = model(inputs)\n",
        "  all_logits.append(logits)\n",
        "\n",
        "probabilities = tf.nn.softmax(all_logits, axis=-1)"
      ]
    },
    {
      "cell_type": "code",
      "execution_count": null,
      "metadata": {
        "id": "B7UtHoSWcOT2"
      },
      "outputs": [],
      "source": [
        "for label, p in get_top_k(probabilities[-1]):\n",
        "  print(f'{label:20s}: {p:.3f}')"
      ]
    },
    {
      "cell_type": "code",
      "execution_count": null,
      "metadata": {
        "id": "6ffV3NhZcsrv"
      },
      "outputs": [],
      "source": [
        "id = tf.argmax(probabilities[-1])\n",
        "plt.plot(probabilities[:, id])\n",
        "plt.xlabel('Frame #')\n",
        "plt.ylabel(f\"p('{KINETICS_600_LABELS[id]}')\");"
      ]
    },
    {
      "cell_type": "markdown",
      "metadata": {
        "id": "d7MZ_AfRW845"
      },
      "source": [
        "You may notice that the final probability is much more certain than in the previous section where you ran the `base` model. The `base` model returns an average of the predictions over the frames."
      ]
    },
    {
      "cell_type": "code",
      "execution_count": null,
      "metadata": {
        "id": "0Wij4tsyW8dR"
      },
      "outputs": [],
      "source": [
        "for label, p in get_top_k(tf.reduce_mean(probabilities, axis=0)):\n",
        "  print(f'{label:20s}: {p:.3f}')"
      ]
    },
    {
      "cell_type": "markdown",
      "metadata": {
        "id": "qLUoC9ejggGo"
      },
      "source": [
        "## Animate the predictions over time\n",
        "\n",
        "The previous section went into some details about how to use these models. This section builds on top of that to produce some nice inference animations."
      ]
    },
    {
      "cell_type": "markdown",
      "metadata": {
        "id": "OnFqOXazoWgy"
      },
      "source": [
        "The hidden cell below to defines helper functions used in this section."
      ]
    },
    {
      "cell_type": "code",
      "execution_count": null,
      "metadata": {
        "cellView": "form",
        "id": "dx55NK3ZoZeh"
      },
      "outputs": [],
      "source": [
        "#@title\n",
        "# Get top_k labels and probabilities predicted using MoViNets streaming model\n",
        "def get_top_k_streaming_labels(probs, k=5, label_map=KINETICS_600_LABELS):\n",
        "  \"\"\"Returns the top-k labels over an entire video sequence.\n",
        "\n",
        "  Args:\n",
        "    probs: probability tensor of shape (num_frames, num_classes) that represents\n",
        "      the probability of each class on each frame.\n",
        "    k: the number of top predictions to select.\n",
        "    label_map: a list of labels to map logit indices to label strings.\n",
        "\n",
        "  Returns:\n",
        "    a tuple of the top-k probabilities, labels, and logit indices\n",
        "  \"\"\"\n",
        "  top_categories_last = tf.argsort(probs, -1, 'DESCENDING')[-1, :1]\n",
        "  # Sort predictions to find top_k\n",
        "  categories = tf.argsort(probs, -1, 'DESCENDING')[:, :k]\n",
        "  categories = tf.reshape(categories, [-1])\n",
        "\n",
        "  counts = sorted([\n",
        "      (i.numpy(), tf.reduce_sum(tf.cast(categories == i, tf.int32)).numpy())\n",
        "      for i in tf.unique(categories)[0]\n",
        "  ], key=lambda x: x[1], reverse=True)\n",
        "\n",
        "  top_probs_idx = tf.constant([i for i, _ in counts[:k]])\n",
        "  top_probs_idx = tf.concat([top_categories_last, top_probs_idx], 0)\n",
        "  # find unique indices of categories\n",
        "  top_probs_idx = tf.unique(top_probs_idx)[0][:k+1]\n",
        "  # top_k probabilities of the predictions\n",
        "  top_probs = tf.gather(probs, top_probs_idx, axis=-1)\n",
        "  top_probs = tf.transpose(top_probs, perm=(1, 0))\n",
        "  # collect the labels of top_k predictions\n",
        "  top_labels = tf.gather(label_map, top_probs_idx, axis=0)\n",
        "  # decode the top_k labels\n",
        "  top_labels = [label.decode('utf8') for label in top_labels.numpy()]\n",
        "\n",
        "  return top_probs, top_labels, top_probs_idx\n",
        "\n",
        "# Plot top_k predictions at a given time step\n",
        "def plot_streaming_top_preds_at_step(\n",
        "    top_probs,\n",
        "    top_labels,\n",
        "    step=None,\n",
        "    image=None,\n",
        "    legend_loc='lower left',\n",
        "    duration_seconds=10,\n",
        "    figure_height=500,\n",
        "    playhead_scale=0.8,\n",
        "    grid_alpha=0.3):\n",
        "  \"\"\"Generates a plot of the top video model predictions at a given time step.\n",
        "\n",
        "  Args:\n",
        "    top_probs: a tensor of shape (k, num_frames) representing the top-k\n",
        "      probabilities over all frames.\n",
        "    top_labels: a list of length k that represents the top-k label strings.\n",
        "    step: the current time step in the range [0, num_frames].\n",
        "    image: the image frame to display at the current time step.\n",
        "    legend_loc: the placement location of the legend.\n",
        "    duration_seconds: the total duration of the video.\n",
        "    figure_height: the output figure height.\n",
        "    playhead_scale: scale value for the playhead.\n",
        "    grid_alpha: alpha value for the gridlines.\n",
        "\n",
        "  Returns:\n",
        "    A tuple of the output numpy image, figure, and axes.\n",
        "  \"\"\"\n",
        "  # find number of top_k labels and frames in the video\n",
        "  num_labels, num_frames = top_probs.shape\n",
        "  if step is None:\n",
        "    step = num_frames\n",
        "  # Visualize frames and top_k probabilities of streaming video\n",
        "  fig = plt.figure(figsize=(6.5, 7), dpi=300)\n",
        "  gs = mpl.gridspec.GridSpec(8, 1)\n",
        "  ax2 = plt.subplot(gs[:-3, :])\n",
        "  ax = plt.subplot(gs[-3:, :])\n",
        "  # display the frame\n",
        "  if image is not None:\n",
        "    ax2.imshow(image, interpolation='nearest')\n",
        "    ax2.axis('off')\n",
        "  # x-axis (frame number)\n",
        "  preview_line_x = tf.linspace(0., duration_seconds, num_frames)\n",
        "  # y-axis (top_k probabilities)\n",
        "  preview_line_y = top_probs\n",
        "\n",
        "  line_x = preview_line_x[:step+1]\n",
        "  line_y = preview_line_y[:, :step+1]\n",
        "\n",
        "  for i in range(num_labels):\n",
        "    ax.plot(preview_line_x, preview_line_y[i], label=None, linewidth='1.5',\n",
        "            linestyle=':', color='gray')\n",
        "    ax.plot(line_x, line_y[i], label=top_labels[i], linewidth='2.0')\n",
        "\n",
        "\n",
        "  ax.grid(which='major', linestyle=':', linewidth='1.0', alpha=grid_alpha)\n",
        "  ax.grid(which='minor', linestyle=':', linewidth='0.5', alpha=grid_alpha)\n",
        "\n",
        "  min_height = tf.reduce_min(top_probs) * playhead_scale\n",
        "  max_height = tf.reduce_max(top_probs)\n",
        "  ax.vlines(preview_line_x[step], min_height, max_height, colors='red')\n",
        "  ax.scatter(preview_line_x[step], max_height, color='red')\n",
        "\n",
        "  ax.legend(loc=legend_loc)\n",
        "\n",
        "  plt.xlim(0, duration_seconds)\n",
        "  plt.ylabel('Probability')\n",
        "  plt.xlabel('Time (s)')\n",
        "  plt.yscale('log')\n",
        "\n",
        "  fig.tight_layout()\n",
        "  fig.canvas.draw()\n",
        "\n",
        "  data = np.frombuffer(fig.canvas.tostring_rgb(), dtype=np.uint8)\n",
        "  data = data.reshape(fig.canvas.get_width_height()[::-1] + (3,))\n",
        "  plt.close()\n",
        "\n",
        "  figure_width = int(figure_height * data.shape[1] / data.shape[0])\n",
        "  image = PIL.Image.fromarray(data).resize([figure_width, figure_height])\n",
        "  image = np.array(image)\n",
        "\n",
        "  return image\n",
        "\n",
        "# Plotting top_k predictions from MoViNets streaming model\n",
        "def plot_streaming_top_preds(\n",
        "    probs,\n",
        "    video,\n",
        "    top_k=5,\n",
        "    video_fps=25.,\n",
        "    figure_height=500,\n",
        "    use_progbar=True):\n",
        "  \"\"\"Generates a video plot of the top video model predictions.\n",
        "\n",
        "  Args:\n",
        "    probs: probability tensor of shape (num_frames, num_classes) that represents\n",
        "      the probability of each class on each frame.\n",
        "    video: the video to display in the plot.\n",
        "    top_k: the number of top predictions to select.\n",
        "    video_fps: the input video fps.\n",
        "    figure_fps: the output video fps.\n",
        "    figure_height: the height of the output video.\n",
        "    use_progbar: display a progress bar.\n",
        "\n",
        "  Returns:\n",
        "    A numpy array representing the output video.\n",
        "  \"\"\"\n",
        "  # select number of frames per second\n",
        "  video_fps = 8.\n",
        "  # select height of the image\n",
        "  figure_height = 500\n",
        "  # number of time steps of the given video\n",
        "  steps = video.shape[0]\n",
        "  # estimate duration of the video (in seconds)\n",
        "  duration = steps / video_fps\n",
        "  # estimate top_k probabilities and corresponding labels\n",
        "  top_probs, top_labels, _ = get_top_k_streaming_labels(probs, k=top_k)\n",
        "\n",
        "  images = []\n",
        "  step_generator = tqdm.trange(steps) if use_progbar else range(steps)\n",
        "  for i in step_generator:\n",
        "    image = plot_streaming_top_preds_at_step(\n",
        "        top_probs=top_probs,\n",
        "        top_labels=top_labels,\n",
        "        step=i,\n",
        "        image=video[i],\n",
        "        duration_seconds=duration,\n",
        "        figure_height=figure_height,\n",
        "    )\n",
        "    images.append(image)\n",
        "\n",
        "  return np.array(images)"
      ]
    },
    {
      "cell_type": "markdown",
      "metadata": {
        "id": "eLgFBslcZOQO"
      },
      "source": [
        "Start by running the streaming model across the frames of the video, and collecting the logits:"
      ]
    },
    {
      "cell_type": "code",
      "execution_count": null,
      "metadata": {
        "id": "tXWR13wthnK5"
      },
      "outputs": [],
      "source": [
        "init_states = model.init_states(jumpingjack[tf.newaxis].shape)"
      ]
    },
    {
      "cell_type": "code",
      "execution_count": null,
      "metadata": {
        "id": "YqSkt7l8ltwt"
      },
      "outputs": [],
      "source": [
        "# Insert your video clip here\n",
        "video = jumpingjack\n",
        "images = tf.split(video[tf.newaxis], video.shape[0], axis=1)\n",
        "\n",
        "all_logits = []\n",
        "\n",
        "# To run on a video, pass in one frame at a time\n",
        "states = init_states\n",
        "for image in tqdm.tqdm(images):\n",
        "  # predictions for each frame\n",
        "  logits, states = model({**states, 'image': image})\n",
        "  all_logits.append(logits)\n",
        "\n",
        "# concatenating all the logits\n",
        "logits = tf.concat(all_logits, 0)\n",
        "# estimating probabilities\n",
        "probs = tf.nn.softmax(logits, axis=-1)"
      ]
    },
    {
      "cell_type": "code",
      "execution_count": null,
      "metadata": {
        "id": "OOGcCMMJyuPl"
      },
      "outputs": [],
      "source": [
        "final_probs = probs[-1]\n",
        "print('Top_k predictions and their probablities\\n')\n",
        "for label, p in get_top_k(final_probs):\n",
        "  print(f'{label:20s}: {p:.3f}')"
      ]
    },
    {
      "cell_type": "markdown",
      "metadata": {
        "id": "GaybT0rbZct-"
      },
      "source": [
        "Convert the sequence of probabilities into a video:"
      ]
    },
    {
      "cell_type": "code",
      "execution_count": null,
      "metadata": {
        "id": "Xdox556CtMRb"
      },
      "outputs": [],
      "source": [
        "# Generate a plot and output to a video tensor\n",
        "plot_video = plot_streaming_top_preds(probs, video, video_fps=8.)"
      ]
    },
    {
      "cell_type": "code",
      "execution_count": null,
      "metadata": {
        "id": "NSStKE9klCs3"
      },
      "outputs": [],
      "source": [
        "# For gif format, set codec='gif'\n",
        "media.show_video(plot_video, fps=3)"
      ]
    },
    {
      "cell_type": "markdown",
      "metadata": {
        "id": "LCImgZ3OdJw7"
      },
      "source": [
        "## Resources\n",
        "\n",
        "The pretrained models are available from [TF Hub](https://tfhub.dev/google/collections/movinet/1). The TF Hub collection also includes quantized models optimized for [TFLite](https://tensorflow.org/lite).\n",
        "\n",
        "The source for these models is available in the [TensorFlow Model Garden](https://github.com/tensorflow/models/tree/master/official/projects/movinet). This includes a [longer version of this tutorial](https://colab.sandbox.google.com/github/tensorflow/models/blob/master/official/projects/movinet/movinet_tutorial.ipynb) that also covers building and fine-tuning a MoViNet model."
      ]
    },
    {
      "cell_type": "markdown",
      "metadata": {
        "id": "gh5lLAo-HpVF"
      },
      "source": [
        "## Next Steps\n",
        "\n",
        "To learn more about working with video data in TensorFlow, check out the following tutorials:\n",
        "\n",
        "* [Load video data](https://www.tensorflow.org/tutorials/load_data/video)\n",
        "* [Build a 3D CNN model for video classification](https://www.tensorflow.org/tutorials/video/video_classification)\n",
        "* [Transfer learning for video classification with MoViNet](https://www.tensorflow.org/tutorials/video/transfer_learning_with_movinet)"
      ]
    }
  ],
  "metadata": {
    "colab": {
      "name": "movinet.ipynb",
      "toc_visible": true,
      "provenance": []
    },
    "kernelspec": {
      "display_name": "Python 3",
      "name": "python3"
    }
  },
  "nbformat": 4,
  "nbformat_minor": 0
}