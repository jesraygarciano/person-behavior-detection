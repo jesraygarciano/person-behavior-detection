{
 "cells": [
  {
   "cell_type": "markdown",
   "metadata": {},
   "source": [
    "# Action Recognition with MoViNet\n",
    "\n",
    "This notebook demonstrates how to use the MoViNet model for action recognition in videos. We will go through the following steps:\n",
    "\n",
    "1. Setup Environment\n",
    "2. Import Libraries\n",
    "3. Load Pre-trained MoViNet Model\n",
    "4. Preprocess Video Frames\n",
    "5. Initialize Model States\n",
    "6. Run Inference Frame-by-Frame\n",
    "7. Map Predictions to Actions"
   ]
  },
  {
   "cell_type": "markdown",
   "metadata": {},
   "source": [
    "## 1. Setup Environment\n",
    "\n",
    "First, ensure you have the necessary libraries installed. You can install them using pip:"
   ]
  },
  {
   "cell_type": "code",
   "execution_count": 1,
   "metadata": {},
   "outputs": [],
   "source": [
    "!pip install remotezip tqdm opencv-python opencv-python-headless tf-models-official"
   ]
  },
  {
   "cell_type": "markdown",
   "metadata": {},
   "source": [
    "## 2. Import Libraries"
   ]
  },
  {
   "cell_type": "code",
   "execution_count": 2,
   "metadata": {},
   "outputs": [],
   "source": [
    "import tqdm\n",
    "import random\n",
    "import pathlib\n",
    "import itertools\n",
    "import collections\n",
    "\n",
    "import cv2\n",
    "import numpy as np\n",
    "import remotezip as rz\n",
    "import seaborn as sns\n",
    "import matplotlib.pyplot as plt\n",
    "\n",
    "import keras\n",
    "import tensorflow as tf\n",
    "import tensorflow_hub as hub\n",
    "from tensorflow.keras import layers\n",
    "from tensorflow.keras.optimizers import Adam\n",
    "from tensorflow.keras.losses import SparseCategoricalCrossentropy\n",
    "\n",
    "# Import the MoViNet model from TensorFlow Models (tf-models-official)\n",
    "from official.projects.movinet.modeling import movinet\n",
    "from official.projects.movinet.modeling import movinet_model"
   ]
  },
  {
   "cell_type": "markdown",
   "metadata": {},
   "source": [
    "## 3. Load Pre-trained MoViNet Model"
   ]
  },
  {
   "cell_type": "code",
   "execution_count": 3,
   "metadata": {},
   "outputs": [],
   "source": [
    "model_id = 'a0'\n",
    "resolution = 224\n",
    "\n",
    "tf.keras.backend.clear_session()\n",
    "\n",
    "backbone = movinet.Movinet(model_id=model_id)\n",
    "backbone.trainable = False\n",
    "\n",
    "# Set num_classes=600 to load the pre-trained weights from the original model\n",
    "model = movinet_model.MovinetClassifier(backbone=backbone, num_classes=600)\n",
    "model.build([None, None, None, None, 3])\n",
    "\n",
    "# Load pre-trained weights\n",
    "!wget https://storage.googleapis.com/tf_model_garden/vision/movinet/movinet_a0_base.tar.gz -O movinet_a0_base.tar.gz -q\n",
    "!tar -xvf movinet_a0_base.tar.gz\n",
    "\n",
    "checkpoint_dir = f'movinet_{model_id}_base'\n",
    "checkpoint_path = tf.train.latest_checkpoint(checkpoint_dir)\n",
    "checkpoint = tf.train.Checkpoint(model=model)\n",
    "status = checkpoint.restore(checkpoint_path)\n",
    "status.assert_existing_objects_matched()"
   ]
  },
  {
   "cell_type": "markdown",
   "metadata": {},
   "source": [
    "## 4. Preprocess Video Frames"
   ]
  },
  {
   "cell_type": "code",
   "execution_count": 4,
   "metadata": {},
   "outputs": [],
   "source": [
    "def extract_frames(video_path):\n",
    "    cap = cv2.VideoCapture(video_path)\n",
    "    frames = []\n",
    "    while cap.isOpened():\n",
    "        ret, frame = cap.read()\n",
    "        if not ret:\n",
    "            break\n",
    "        frame = cv2.resize(frame, (resolution, resolution))\n",
    "        frames.append(frame)\n",
    "    cap.release()\n",
    "    return np.array(frames)\n",
    "\n",
    "video_path = 'path_to_video.mp4'  # Replace with your video path\n",
    "frames = extract_frames(video_path)\n",
    "frames = frames / 255.0  # Normalize frames"
   ]
  },
  {
   "cell_type": "markdown",
   "metadata": {},
   "source": [
    "## 5. Initialize Model States"
   ]
  },
  {
   "cell_type": "code",
   "execution_count": 5,
   "metadata": {},
   "outputs": [],
   "source": [
    "initial_state = model.init_states(frames[tf.newaxis, ...].shape)"
   ]
  },
  {
   "cell_type": "markdown",
   "metadata": {},
   "source": [
    "## 6. Run Inference Frame-by-Frame"
   ]
  },
  {
   "cell_type": "code",
   "execution_count": 6,
   "metadata": {},
   "outputs": [],
   "source": [
    "state = initial_state.copy()\n",
    "all_logits = []\n",
    "\n",
    "for n in range(len(frames)):\n",
    "    inputs = state\n",
    "    inputs['image'] = frames[tf.newaxis, n:n+1, ...]\n",
    "    outputs = model(inputs)\n",
    "    \n",
    "    # Check if the model returns a tuple or a single output\n",
    "    if isinstance(outputs, tuple):\n",
    "        logits, state = outputs\n",
    "    else:\n",
    "        logits = outputs\n",
    "        state = None  # If the model does not return state, set it to None\n",
    "    \n",
    "    all_logits.append(logits)\n",
    "\n",
    "probabilities = tf.nn.softmax(all_logits, axis=-1)\n"
   ]
  },
  {
   "cell_type": "markdown",
   "metadata": {},
   "source": [
    "## 7. Map Predictions to Actions"
   ]
  },
  {
   "cell_type": "code",
   "execution_count": 7,
   "metadata": {},
   "outputs": [],
   "source": [
    "def get_top_k(probs, k=5):\n",
    "    top_k_indices = np.argsort(probs)[::-1][:k]\n",
    "    return [(i, probs[i]) for i in top_k_indices]\n",
    "\n",
    "actions = [\n",
    "    'abseiling', 'acting in play', 'adjusting glasses', 'air drumming', 'alligator wrestling',\n",
    "    'answering questions', 'applauding', 'applying cream', 'archaeological excavation', 'archery',\n",
    "    'arguing', 'arm wrestling', 'arranging flowers', 'assembling bicycle', 'assembling computer',\n",
    "    'attending conference', 'auctioning', 'backflip (human)', 'baking cookies', 'bandaging',\n",
    "    'barbequing', 'bartending', 'base jumping', 'bathing dog', 'battle rope training',\n",
    "    'beatboxing', 'bee keeping', 'belly dancing', 'bench pressing', 'bending back',\n",
    "    'bending metal', 'biking through snow', 'blasting sand', 'blowdrying hair', 'blowing bubble gum',\n",
    "    'blowing glass', 'blowing leaves', 'blowing nose', 'blowing out candles', 'bobsledding',\n",
    "    'bodysurfing', 'bookbinding', 'bottling', 'bouncing on bouncy castle', 'bouncing on trampoline',\n",
    "    'bowling', 'braiding hair', 'breading or breadcrumbing', 'breakdancing', 'breaking boards',\n",
    "    'breathing fire', 'brush painting', 'brushing hair', 'brushing teeth', 'building cabinet',\n",
    "    'building lego', 'building sandcastle', 'building shed', 'bull fighting', 'bulldozing',\n",
    "    'bungee jumping', 'burping', 'busking', 'calculating', 'calligraphy',\n",
    "    'canoeing or kayaking', 'capoeira', 'capsizing', 'card stacking', 'card throwing',\n",
    "    'carrying baby', 'cartwheeling', 'carving ice', 'carving pumpkin', 'casting fishing line',\n",
    "    'catching fish', 'catching or throwing baseball', 'catching or throwing frisbee', 'catching or throwing softball',\n",
    "    'celebrating', 'changing gear in car', 'changing oil', 'changing wheel (not on bike)', 'checking tires',\n",
    "    'cheerleading', 'chewing gum', 'chiseling stone', 'chiseling wood', 'chopping meat',\n",
    "    'chopping vegetables', 'chopping wood', 'clam digging', 'clapping', 'clay pottery making',\n",
    "    'clean and jerk', 'cleaning gutters', 'cleaning pool', 'cleaning shoes', 'cleaning toilet',\n",
    "    'cleaning windows', 'climbing a rope', 'climbing ladder', 'climbing tree', 'coloring in',\n",
    "    'combing hair', 'contact juggling', 'contorting', 'cooking egg', 'cooking on campfire',\n",
    "    'cooking sausages (not on barbeque)', 'cooking scallops', 'cosplaying', 'counting money', 'country line dancing',\n",
    "    'cracking back', 'cracking knuckles', 'cracking neck', 'crawling baby', 'crossing eyes',\n",
    "    'crossing river', 'crying', 'cumbia', 'curling (sport)', 'curling hair',\n",
    "    'cutting apple', 'cutting nails', 'cutting orange', 'cutting pineapple', 'cutting watermelon',\n",
    "    'dancing ballet', 'dancing charleston', 'dancing gangnam style', 'dancing macarena', 'deadlifting',\n",
    "    'decorating the christmas tree', 'delivering mail', 'dining', 'directing traffic', 'disc golfing',\n",
    "    'diving cliff', 'docking boat', 'dodgeball', 'doing aerobics', 'doing jigsaw puzzle',\n",
    "    'doing laundry', 'doing nails', 'drawing', 'dribbling basketball', 'drinking shots',\n",
    "    'driving car', 'driving tractor', 'drooling', 'drop kicking', 'drumming fingers',\n",
    "    'dumpster diving', 'dunking basketball', 'dyeing eyebrows', 'dyeing hair', 'eating burger',\n",
    "    'eating cake', 'eating carrots', 'eating chips', 'eating doughnuts', 'eating hotdog',\n",
    "    'eating ice cream', 'eating spaghetti', 'eating watermelon', 'egg hunting', 'embroidering',\n",
    "    'exercising with an exercise ball', 'extinguishing fire', 'faceplanting', 'falling off bike', 'falling off chair',\n",
    "    'feeding birds', 'feeding fish', 'feeding goats', 'fencing (sport)', 'fidgeting',\n",
    "    'finger snapping', 'fixing bicycle', 'fixing hair', 'flint knapping', 'flipping pancake',\n",
    "    'fly tying', 'flying kite', 'folding clothes', 'folding napkins', 'folding paper',\n",
    "    'front raises', 'frying vegetables', 'geocaching', 'getting a haircut', 'getting a piercing',\n",
    "    'getting a tattoo', 'giving or receiving award', 'gold panning', 'golf chipping', 'golf driving',\n",
    "    'golf putting', 'gospel singing in church', 'grinding meat', 'grooming dog', 'grooming horse',\n",
    "    'gymnastics tumbling', 'hammer throw', 'hand washing clothes', 'head stand', 'headbanging',\n",
    "    'headbutting', 'high jump', 'high kick', 'historical reenactment', 'hitting baseball',\n",
    "    'hockey stop', 'holding snake', 'home roasting coffee', 'hopscotch', 'hoverboarding',\n",
    "    'huddling', 'hugging (not baby)', 'hugging baby', 'hula hooping', 'hurdling',\n",
    "    'hurling (sport)', 'ice climbing', 'ice fishing', 'ice skating', 'ice swimming',\n",
    "    'inflating balloons', 'installing carpet', 'ironing', 'ironing hair', 'javelin throw',\n",
    "    'jaywalking', 'jetskiing', 'jogging', 'juggling balls', 'juggling fire',\n",
    "    'juggling soccer ball', 'jumping bicycle', 'jumping into pool', 'jumping jacks', 'jumpstyle dancing',\n",
    "    'karaoke', 'kicking field goal', 'kicking soccer ball', 'kissing', 'kitesurfing',\n",
    "    'knitting', 'krumping', 'land sailing', 'laughing', 'lawn mower racing',\n",
    "    'laying bricks', 'laying concrete', 'laying stone', 'laying tiles', 'leatherworking',\n",
    "    'licking', 'lifting hat', 'lighting fire', 'lock picking', 'long jump',\n",
    "    'longboarding', 'looking at phone', 'luge', 'lunge', 'making a cake',\n",
    "    'making a sandwich', 'making balloon shapes', 'making bubbles', 'making cheese', 'making horseshoes',\n",
    "    'making jewelry', 'making paper aeroplanes', 'making pizza', 'making snowman', 'making sushi',\n",
    "    'making tea', 'making the bed', 'marching', 'marriage proposal', 'massaging back',\n",
    "    'massaging feet', 'massaging legs', 'massaging neck', 'massaging person head', 'milking cow',\n",
    "    'moon walking', 'mopping floor', 'mosh pit dancing', 'motorcycling', 'mountain climber (exercise)',\n",
    "    'moving furniture', 'mowing lawn', 'mushroom foraging', 'needle felting', 'news anchoring',\n",
    "    'opening bottle (not wine)', 'opening door', 'opening present', 'opening refrigerator', 'opening wine bottle',\n",
    "    'packing', 'paragliding', 'parasailing', 'parkour', 'passing American football (in game)',\n",
    "    'passing american football (not in game)', 'passing soccer ball', 'peeling apples', 'peeling potatoes',\n",
    "    'person collecting garbage', 'petting animal (not cat)', 'petting cat', 'photobombing', 'photocopying',\n",
    "    'picking fruit', 'pillow fight', 'pinching', 'pirouetting', 'planing wood',\n",
    "    'planting trees', 'plastering', 'playing accordion', 'playing badminton', 'playing bagpipes',\n",
    "    'playing basketball', 'playing bass guitar', 'playing beer pong', 'playing blackjack', 'playing cello',\n",
    "    'playing chess', 'playing clarinet', 'playing controller', 'playing cricket', 'playing cymbals',\n",
    "    'playing darts', 'playing didgeridoo', 'playing dominoes', 'playing drums', 'playing field hockey',\n",
    "    'playing flute', 'playing gong', 'playing guitar', 'playing hand clapping games', 'playing harmonica',\n",
    "    'playing harp', 'playing ice hockey', 'playing keyboard', 'playing kickball', 'playing laser tag',\n",
    "    'playing lute', 'playing maracas', 'playing marbles', 'playing monopoly', 'playing netball',\n",
    "    'playing ocarina', 'playing organ', 'playing paintball', 'playing pan pipes', 'playing piano',\n",
    "    'playing pinball', 'playing ping pong', 'playing poker', 'playing polo', 'playing recorder',\n",
    "    'playing rubiks cube', 'playing saxophone', 'playing scrabble', 'playing squash or racquetball', 'playing tennis',\n",
    "    'playing trombone', 'playing trumpet', 'playing ukulele', 'playing violin', 'playing volleyball',\n",
    "    'playing with trains', 'playing xylophone', 'poking bellybutton', 'pole vault', 'polishing metal',\n",
    "    'popping balloons', 'pouring beer', 'preparing salad', 'presenting weather forecast', 'pull ups',\n",
    "    'pumping fist', 'pumping gas', 'punching bag', 'punching person (boxing)', 'push up',\n",
    "    'pushing car', 'pushing cart', 'pushing wheelbarrow', 'pushing wheelchair', 'putting in contact lenses',\n",
    "    'putting on eyeliner', 'putting on foundation', 'putting on lipstick', 'putting on mascara', 'putting on sari',\n",
    "    'putting on shoes', 'raising eyebrows', 'reading book', 'reading newspaper', 'recording music',\n",
    "    'repairing puncture', 'riding a bike', 'riding camel', 'riding elephant', 'riding mechanical bull',\n",
    "    'riding mule', 'riding or walking with horse', 'riding scooter', 'riding snow blower', 'riding unicycle',\n",
    "    'ripping paper', 'roasting marshmallows', 'roasting pig', 'robot dancing', 'rock climbing',\n",
    "    'rock scissors paper', 'roller skating', 'rolling pastry', 'rope pushdown', 'running on treadmill',\n",
    "    'sailing', 'salsa dancing', 'sanding floor', 'sausage making', 'sawing wood',\n",
    "    'scrambling eggs', 'scrapbooking', 'scrubbing face', 'scuba diving', 'separating eggs',\n",
    "    'setting table', 'sewing', 'shaking hands', 'shaking head', 'shaping bread dough',\n",
    "    'sharpening knives', 'sharpening pencil', 'shaving head', 'shaving legs', 'shearing sheep',\n",
    "    'shining flashlight', 'shining shoes', 'shooting basketball', 'shooting goal (soccer)', 'shopping',\n",
    "    'shot put', 'shoveling snow', 'shucking oysters', 'shuffling cards', 'shuffling feet',\n",
    "    'side kick', 'sign language interpreting', 'singing', 'sipping cup', 'situp',\n",
    "    'skateboarding', 'ski jumping', 'skiing crosscountry', 'skiing mono', 'skiing slalom',\n",
    "    'skipping rope', 'skipping stone', 'skydiving', 'slacklining', 'slapping',\n",
    "    'sled dog racing', 'sleeping', 'smashing', 'smelling feet', 'smoking',\n",
    "    'smoking hookah', 'smoking pipe', 'snatch weight lifting', 'sneezing', 'snorkeling',\n",
    "    'snowboarding', 'snowkiting', 'snowmobiling', 'somersaulting', 'spelunking',\n",
    "    'spinning poi', 'spray painting', 'springboard diving', 'square dancing', 'squat',\n",
    "    'standing on hands', 'staring', 'steer roping', 'sticking tongue out', 'stomping grapes',\n",
    "    'stretching arm', 'stretching leg', 'sucking lolly', 'surfing crowd', 'surfing water',\n",
    "    'sweeping floor', 'swimming backstroke', 'swimming breast stroke', 'swimming butterfly stroke', 'swimming front crawl',\n",
    "    'swing dancing', 'swinging baseball bat', 'swinging on something', 'sword fighting', 'sword swallowing',\n",
    "    'tackling', 'tagging graffiti', 'tai chi', 'talking on cell phone', 'tango dancing',\n",
    "    'tap dancing', 'tapping guitar', 'tapping pen', 'tasting beer', 'tasting food',\n",
    "    'tasting wine', 'testifying', 'texting', 'threading needle', 'throwing axe',\n",
    "    'throwing ball (not baseball or American football)', 'throwing discus', 'throwing knife', 'throwing snowballs', 'throwing tantrum',\n",
    "    'throwing water balloon', 'tickling', 'tie dying', 'tightrope walking', 'tiptoeing',\n",
    "    'tobogganing', 'tossing coin', 'training dog', 'trapezing', 'trimming or shaving beard',\n",
    "    'trimming shrubs', 'trimming trees', 'triple jump', 'twiddling fingers', 'tying bow tie',\n",
    "    'tying knot (not on a tie)', 'tying necktie', 'tying shoe laces', 'unboxing', 'unloading truck',\n",
    "    'using a microscope', 'using a paint roller', 'using a power drill', 'using a sledge hammer', 'using a wrench',\n",
    "    'using atm', 'using bagging machine', 'using circular saw', 'using inhaler', 'using puppets',\n",
    "    'using remote controller (not gaming)', 'using segway', 'vacuuming floor', 'visiting the zoo', 'wading through mud',\n",
    "    'wading through water', 'waiting in line', 'waking up', 'walking the dog', 'walking through snow',\n",
    "    'washing dishes', 'washing feet', 'washing hair', 'washing hands', 'watching tv',\n",
    "    'water skiing', 'water sliding', 'watering plants', 'waving hand', 'waxing back',\n",
    "    'waxing chest', 'waxing eyebrows', 'waxing legs', 'weaving basket', 'weaving fabric',\n",
    "    'welding', 'whistling', 'windsurfing', 'winking', 'wood burning (art)',\n",
    "    'wrapping present', 'wrestling', 'writing', 'yarn spinning', 'yawning',\n",
    "    'yoga', 'zumba']\n",
    "\n",
    "for i, logits in enumerate(all_logits):\n",
    "    probs = tf.nn.softmax(logits[0], axis=-1)\n",
    "    top_k = get_top_k(probs)\n",
    "    print(f\"Frame {i}:\")\n",
    "    for label, p in top_k:\n",
    "        print(f'{actions[label]:20s}: {p:.3f}')\n",
    "    print()"
   ]
  }
 ],
 "metadata": {
  "kernelspec": {
   "display_name": "Python 3",
   "language": "python",
   "name": "python3"
  },
  "language_info": {
   "codemirror_mode": {
    "name": "ipython",
    "version": 3
   },
   "file_extension": ".py",
   "mimetype": "text/x-python",
   "name": "python",
   "nbconvert_exporter": "python",
   "pygments_lexer": "ipython3",
   "version": "3.8.5"
  }
 },
 "nbformat": 4,
 "nbformat_minor": 4
}
