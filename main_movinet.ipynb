{
  "cells": [
    {
      "cell_type": "markdown",
      "metadata": {
        "id": "toCy3v03Dwx7"
      },
      "source": [
        "##### Copyright 2021 The TensorFlow Hub Authors.\n",
        "\n",
        "Licensed under the Apache License, Version 2.0 (the \"License\");"
      ]
    },
    {
      "cell_type": "code",
      "execution_count": 1,
      "metadata": {
        "id": "QKe-ubNcDvgv",
        "vscode": {
          "languageId": "python"
        }
      },
      "outputs": [],
      "source": [
        "# Copyright 2021 The TensorFlow Hub Authors. All Rights Reserved.\n",
        "#\n",
        "# Licensed under the Apache License, Version 2.0 (the \"License\");\n",
        "# you may not use this file except in compliance with the License.\n",
        "# You may obtain a copy of the License at\n",
        "#\n",
        "#     http://www.apache.org/licenses/LICENSE-2.0\n",
        "#\n",
        "# Unless required by applicable law or agreed to in writing, software\n",
        "# distributed under the License is distributed on an \"AS IS\" BASIS,\n",
        "# WITHOUT WARRANTIES OR CONDITIONS OF ANY KIND, either express or implied.\n",
        "# See the License for the specific language governing permissions and\n",
        "# limitations under the License.\n",
        "# =============================================================================="
      ]
    },
    {
      "cell_type": "markdown",
      "metadata": {
        "id": "qFdPvlXBOdUN"
      },
      "source": [
        "# MoViNet for streaming action recognition"
      ]
    },
    {
      "cell_type": "markdown",
      "metadata": {
        "id": "MfBg1C5NB3X0"
      },
      "source": [
        "<table class=\"tfo-notebook-buttons\" align=\"left\">\n",
        "  <td>\n",
        "    <a target=\"_blank\" href=\"https://www.tensorflow.org/hub/tutorials/movinet\"><img src=\"https://www.tensorflow.org/images/tf_logo_32px.png\" />View on TensorFlow.org</a>\n",
        "  </td>\n",
        "  <td>\n",
        "    <a target=\"_blank\" href=\"https://colab.research.google.com/github/tensorflow/docs/blob/master/site/en/hub/tutorials/movinet.ipynb\"><img src=\"https://www.tensorflow.org/images/colab_logo_32px.png\" />Run in Google Colab</a>\n",
        "  </td>\n",
        "  <td>\n",
        "    <a target=\"_blank\" href=\"https://github.com/tensorflow/docs/blob/master/site/en/hub/tutorials/movinet.ipynb\"><img src=\"https://www.tensorflow.org/images/GitHub-Mark-32px.png\" />View on GitHub</a>\n",
        "  </td>\n",
        "  <td>\n",
        "    <a href=\"https://storage.googleapis.com/tensorflow_docs/docs/site/en/hub/tutorials/movinet.ipynb\"><img src=\"https://www.tensorflow.org/images/download_logo_32px.png\" />Download notebook</a>\n",
        "  </td>\n",
        "  <td>\n",
        "    <a href=\"https://tfhub.dev/google/collections/movinet/1\"><img src=\"https://www.tensorflow.org/images/hub_logo_32px.png\" />See TF Hub models</a>\n",
        "  </td>\n",
        "</table>"
      ]
    },
    {
      "cell_type": "markdown",
      "metadata": {
        "id": "-vxk2Kbc_KSP"
      },
      "source": [
        "This tutorial demonstrates how to use a pretrained video classification model to classify an activity (such as dancing, swimming, biking etc) in the given video.   \n",
        "\n",
        "The model architecture used in this tutorial is called [MoViNet](https://arxiv.org/pdf/2103.11511.pdf) (Mobile Video Networks). MoVieNets are a family of efficient video classification models trained on huge dataset ([Kinetics 600](https://deepmind.com/research/open-source/kinetics)).\n",
        "\n",
        "In contrast to the [i3d models](https://tfhub.dev/s?q=i3d-kinetics) available on TF Hub, MoViNets also support frame-by-frame inference on streaming video.\n",
        "\n",
        "The pretrained models are available from [TF Hub](https://tfhub.dev/google/collections/movinet/1). The TF Hub collection also includes quantized models optimized for [TFLite](https://tensorflow.org/lite).\n",
        "\n",
        "The source for these models is available in the [TensorFlow Model Garden](https://github.com/tensorflow/models/tree/master/official/projects/movinet). This includes a [longer version of this tutorial](https://colab.sandbox.google.com/github/tensorflow/models/blob/master/official/projects/movinet/movinet_tutorial.ipynb) that also covers building and fine-tuning a MoViNet model.\n",
        "\n",
        "This MoViNet tutorial is part of a series of TensorFlow video tutorials. Here are the other three tutorials:\n",
        "\n",
        "- [Load video data](https://www.tensorflow.org/tutorials/load_data/video): This tutorial explains how to load and preprocess video data into a TensorFlow dataset pipeline from scratch.\n",
        "- [Build a 3D CNN model for video classification](https://www.tensorflow.org/tutorials/video/video_classification). Note that this tutorial uses a (2+1)D CNN that decomposes the spatial and temporal aspects of 3D data; if you are using volumetric data such as an MRI scan, consider using a 3D CNN instead of a (2+1)D CNN.\n",
        "- [Transfer learning for video classification with MoViNet](https://www.tensorflow.org/tutorials/video/transfer_learning_with_movinet): This tutorial explains how to use a pre-trained video classification model trained on a different dataset with the UCF-101 dataset.\n"
      ]
    },
    {
      "cell_type": "markdown",
      "metadata": {
        "id": "3E96e1UKQ8uR"
      },
      "source": [
        "![jumping jacks plot](https://storage.googleapis.com/tf_model_garden/vision/movinet/artifacts/jumpingjacks_plot.gif)"
      ]
    },
    {
      "cell_type": "markdown",
      "metadata": {
        "id": "8_oLnvJy7kz5"
      },
      "source": [
        "## Setup\n",
        "\n",
        "For inference on smaller models (A0-A2), CPU is sufficient for this Colab."
      ]
    },
    {
      "cell_type": "code",
      "execution_count": 2,
      "metadata": {
        "colab": {
          "base_uri": "https://localhost:8080/"
        },
        "id": "GUgUMGmY1yq-",
        "outputId": "82019866-d897-4dab-bd63-6259797d8dcb",
        "vscode": {
          "languageId": "python"
        }
      },
      "outputs": [
        {
          "name": "stdout",
          "output_type": "stream",
          "text": [
            "Reading package lists... Done\n",
            "Building dependency tree... Done\n",
            "Reading state information... Done\n",
            "ffmpeg is already the newest version (7:4.4.2-0ubuntu0.22.04.1).\n",
            "0 upgraded, 0 newly installed, 0 to remove and 49 not upgraded.\n"
          ]
        }
      ],
      "source": [
        "!sudo apt install -y ffmpeg\n",
        "!pip install -q mediapy"
      ]
    },
    {
      "cell_type": "code",
      "execution_count": 3,
      "metadata": {
        "id": "s3khsunT7kWa",
        "vscode": {
          "languageId": "python"
        }
      },
      "outputs": [],
      "source": [
        "!pip uninstall -q -y opencv-python-headless\n",
        "!pip install -q \"opencv-python-headless>=4.9.0.80\""
      ]
    },
    {
      "cell_type": "code",
      "execution_count": 4,
      "metadata": {
        "id": "dI_1csl6Q-gH",
        "vscode": {
          "languageId": "python"
        }
      },
      "outputs": [],
      "source": [
        "# Import libraries\n",
        "import pathlib\n",
        "\n",
        "import matplotlib as mpl\n",
        "import matplotlib.pyplot as plt\n",
        "import mediapy as media\n",
        "import numpy as np\n",
        "import PIL\n",
        "\n",
        "import tensorflow as tf\n",
        "import tensorflow_hub as hub\n",
        "import tqdm\n",
        "\n",
        "mpl.rcParams.update({\n",
        "    'font.size': 10,\n",
        "})"
      ]
    },
    {
      "cell_type": "markdown",
      "metadata": {
        "id": "Pn8K9oWbmREi"
      },
      "source": [
        "Get the kinetics 600 label list, and print the first few labels:"
      ]
    },
    {
      "cell_type": "code",
      "execution_count": 5,
      "metadata": {
        "colab": {
          "base_uri": "https://localhost:8080/"
        },
        "id": "2VJUAcjhkfb3",
        "outputId": "ee027af7-339d-432c-add4-4c81d3b9e338",
        "vscode": {
          "languageId": "python"
        }
      },
      "outputs": [
        {
          "name": "stdout",
          "output_type": "stream",
          "text": [
            "Downloading data from https://raw.githubusercontent.com/tensorflow/models/f8af2291cced43fc9f1d9b41ddbf772ae7b0d7d2/official/projects/movinet/files/kinetics_600_labels.txt\n",
            "\u001b[1m9209/9209\u001b[0m \u001b[32m━━━━━━━━━━━━━━━━━━━━\u001b[0m\u001b[37m\u001b[0m \u001b[1m0s\u001b[0m 0us/step\n"
          ]
        },
        {
          "data": {
            "text/plain": [
              "array(['abseiling', 'acting in play', 'adjusting glasses', 'air drumming',\n",
              "       'alligator wrestling', 'answering questions', 'applauding',\n",
              "       'applying cream', 'archaeological excavation', 'archery',\n",
              "       'arguing', 'arm wrestling', 'arranging flowers',\n",
              "       'assembling bicycle', 'assembling computer',\n",
              "       'attending conference', 'auctioning', 'backflip (human)',\n",
              "       'baking cookies', 'bandaging'], dtype='<U49')"
            ]
          },
          "execution_count": 5,
          "metadata": {},
          "output_type": "execute_result"
        }
      ],
      "source": [
        "labels_path = tf.keras.utils.get_file(\n",
        "    fname='labels.txt',\n",
        "    origin='https://raw.githubusercontent.com/tensorflow/models/f8af2291cced43fc9f1d9b41ddbf772ae7b0d7d2/official/projects/movinet/files/kinetics_600_labels.txt'\n",
        ")\n",
        "labels_path = pathlib.Path(labels_path)\n",
        "\n",
        "lines = labels_path.read_text().splitlines()\n",
        "KINETICS_600_LABELS = np.array([line.strip() for line in lines])\n",
        "KINETICS_600_LABELS[:20]"
      ]
    },
    {
      "cell_type": "markdown",
      "metadata": {
        "id": "G9BU5XsOmaq3"
      },
      "source": [
        "To provide a simple example video for classification, we can load a short gif of jumping jacks being performed.\n",
        "\n",
        "![jumping jacks](https://github.com/tensorflow/models/raw/f8af2291cced43fc9f1d9b41ddbf772ae7b0d7d2/official/projects/movinet/files/jumpingjack.gif)\n",
        "\n",
        "Attribution: Footage shared by [Coach Bobby Bluford](https://www.youtube.com/watch?v=-AxHpj-EuPg) on YouTube under the CC-BY license."
      ]
    },
    {
      "cell_type": "markdown",
      "metadata": {
        "id": "8aFKMbr4mfSg"
      },
      "source": [
        "Download the gif."
      ]
    },
    {
      "cell_type": "code",
      "execution_count": 6,
      "metadata": {
        "colab": {
          "base_uri": "https://localhost:8080/"
        },
        "id": "w62jqXhaSb15",
        "outputId": "066ddcd1-b162-48f4-a6e9-0265bc09fc51",
        "vscode": {
          "languageId": "python"
        }
      },
      "outputs": [
        {
          "name": "stdout",
          "output_type": "stream",
          "text": [
            "Downloading data from https://storage.googleapis.com/dpro/instagram/video/I611424.mp4\n",
            "\u001b[1m1478990/1478990\u001b[0m \u001b[32m━━━━━━━━━━━━━━━━━━━━\u001b[0m\u001b[37m\u001b[0m \u001b[1m2s\u001b[0m 1us/step\n"
          ]
        }
      ],
      "source": [
        "jumpingjack_url = 'https://storage.googleapis.com/dpro/instagram/video/I611424.mp4'\n",
        "jumpingjack_path = tf.keras.utils.get_file(\n",
        "    fname='jumpingjack.mp4',\n",
        "    origin=jumpingjack_url,\n",
        "    cache_dir='.', cache_subdir='.',\n",
        ")"
      ]
    },
    {
      "cell_type": "markdown",
      "metadata": {
        "id": "hdRS_22PebfB"
      },
      "source": [
        "Define a function to read a gif file into a `tf.Tensor`:"
      ]
    },
    {
      "cell_type": "code",
      "execution_count": 7,
      "metadata": {
        "id": "mPhmCu6oSi5f",
        "vscode": {
          "languageId": "python"
        }
      },
      "outputs": [],
      "source": [
        "import cv2\n",
        "\n",
        "def load_video(file_path, image_size=(224, 224)):\n",
        "    \"\"\"Loads a video file into a TF tensor.\n",
        "\n",
        "    Args:\n",
        "        file_path: path to the location of a video file.\n",
        "        image_size: a tuple of target size.\n",
        "\n",
        "    Returns:\n",
        "        a video tensor\n",
        "    \"\"\"\n",
        "    cap = cv2.VideoCapture(file_path)\n",
        "    frames = []\n",
        "    while cap.isOpened():\n",
        "        ret, frame = cap.read()\n",
        "        if not ret:\n",
        "            break\n",
        "        frame = cv2.resize(frame, image_size)\n",
        "        frame = cv2.cvtColor(frame, cv2.COLOR_BGR2RGB)\n",
        "        frames.append(frame)\n",
        "    cap.release()\n",
        "    video = np.array(frames)\n",
        "    video = tf.convert_to_tensor(video, dtype=tf.float32) / 255.0\n",
        "    return video"
      ]
    },
    {
      "cell_type": "markdown",
      "metadata": {
        "id": "Xx7cZm8vpDJm"
      },
      "source": [
        "The video's shape is `(frames, height, width, colors)`"
      ]
    },
    {
      "cell_type": "code",
      "execution_count": 8,
      "metadata": {
        "colab": {
          "base_uri": "https://localhost:8080/"
        },
        "id": "E7k_PmbFSkHv",
        "outputId": "26cab979-db4b-4b6a-b850-d32e2514edc4",
        "vscode": {
          "languageId": "python"
        }
      },
      "outputs": [
        {
          "name": "stdout",
          "output_type": "stream",
          "text": [
            "(2193, 224, 224, 3)\n"
          ]
        }
      ],
      "source": [
        "jumpingjack = load_video(jumpingjack_path)\n",
        "print(jumpingjack.shape)"
      ]
    },
    {
      "cell_type": "markdown",
      "metadata": {
        "id": "LcKFy3oedBvF"
      },
      "source": [
        "## How to use the model\n",
        "\n",
        "This section contains a walkthrough showing how to use the [models from TensorFlow Hub](https://tfhub.dev/google/collections/movinet/1). If you just want to see the models in action, skip to the next section.\n",
        "\n",
        "There are two versions of each model: `base` and `streaming`.\n",
        "\n",
        "* The `base` version takes a video as input, and returns the probabilities averaged over the frames.\n",
        "* The `streaming` version takes a video frame and an RNN state as input, and returns the predictions for that frame, and the new RNN state."
      ]
    },
    {
      "cell_type": "markdown",
      "metadata": {
        "id": "WQO6Zb8Hm-9q"
      },
      "source": [
        "### The base model"
      ]
    },
    {
      "cell_type": "markdown",
      "metadata": {
        "id": "RfnYU20JnPqp"
      },
      "source": [
        "Download the [pretrained model from TensorFlow Hub](https://tfhub.dev/tensorflow/movinet/a2/base/kinetics-600/classification/3)."
      ]
    },
    {
      "cell_type": "code",
      "execution_count": 9,
      "metadata": {
        "colab": {
          "base_uri": "https://localhost:8080/"
        },
        "id": "FnpPo6HSR7qv",
        "outputId": "d2cf4020-c36b-4234-e5b4-114a511a501f",
        "vscode": {
          "languageId": "python"
        }
      },
      "outputs": [
        {
          "name": "stdout",
          "output_type": "stream",
          "text": [
            "CPU times: user 22.2 s, sys: 716 ms, total: 22.9 s\n",
            "Wall time: 24.6 s\n"
          ]
        }
      ],
      "source": [
        "%%time\n",
        "id = 'a2'\n",
        "mode = 'base'\n",
        "version = '3'\n",
        "hub_url = f'https://tfhub.dev/tensorflow/movinet/{id}/{mode}/kinetics-600/classification/{version}'\n",
        "model = hub.load(hub_url)"
      ]
    },
    {
      "cell_type": "markdown",
      "metadata": {
        "id": "jvaFwKhxndmb"
      },
      "source": [
        "This version of the model has one `signature`. It takes an `image` argument which is a `tf.float32` with shape `(batch, frames, height, width, colors)`. It returns a dictionary containing one output: A `tf.float32` tensor of logits with shape `(batch, classes)`."
      ]
    },
    {
      "cell_type": "code",
      "execution_count": 10,
      "metadata": {
        "colab": {
          "base_uri": "https://localhost:8080/"
        },
        "id": "7GzZ4Y03T_gH",
        "outputId": "d320ecd6-295a-4a82-8e94-9a76d70ac2f2",
        "vscode": {
          "languageId": "python"
        }
      },
      "outputs": [
        {
          "name": "stdout",
          "output_type": "stream",
          "text": [
            "Input Parameters:\n",
            "  image (KEYWORD_ONLY): TensorSpec(shape=(None, None, None, None, 3), dtype=tf.float32, name='image')\n",
            "Output Type:\n",
            "  Dict[['classifier_head', TensorSpec(shape=(None, 600), dtype=tf.float32, name='classifier_head')]]\n",
            "Captures:\n",
            "  138536330398704: TensorSpec(shape=(), dtype=tf.resource, name=None)\n",
            "  138536482778880: TensorSpec(shape=(), dtype=tf.resource, name=None)\n",
            "  138536482778704: TensorSpec(shape=(), dtype=tf.resource, name=None)\n",
            "  138536482778352: TensorSpec(shape=(), dtype=tf.resource, name=None)\n",
            "  138536482778528: TensorSpec(shape=(), dtype=tf.resource, name=None)\n",
            "  138536330398000: TensorSpec(shape=(), dtype=tf.resource, name=None)\n",
            "  138536482778176: TensorSpec(shape=(), dtype=tf.resource, name=None)\n",
            "  138536482777648: TensorSpec(shape=(), dtype=tf.resource, name=None)\n",
            "  138536482777824: TensorSpec(shape=(), dtype=tf.resource, name=None)\n",
            "  138536482778000: TensorSpec(shape=(), dtype=tf.resource, name=None)\n",
            "  138536330398352: TensorSpec(shape=(), dtype=tf.resource, name=None)\n",
            "  138536482777472: TensorSpec(shape=(), dtype=tf.resource, name=None)\n",
            "  138536482776944: TensorSpec(shape=(), dtype=tf.resource, name=None)\n",
            "  138536482777296: TensorSpec(shape=(), dtype=tf.resource, name=None)\n",
            "  138536482777120: TensorSpec(shape=(), dtype=tf.resource, name=None)\n",
            "  138536330397296: TensorSpec(shape=(), dtype=tf.resource, name=None)\n",
            "  138536330396944: TensorSpec(shape=(), dtype=tf.resource, name=None)\n",
            "  138536330396592: TensorSpec(shape=(), dtype=tf.resource, name=None)\n",
            "  138536330396240: TensorSpec(shape=(), dtype=tf.resource, name=None)\n",
            "  138536330397648: TensorSpec(shape=(), dtype=tf.resource, name=None)\n",
            "  138536482776592: TensorSpec(shape=(), dtype=tf.resource, name=None)\n",
            "  138536482776416: TensorSpec(shape=(), dtype=tf.resource, name=None)\n",
            "  138536482776240: TensorSpec(shape=(), dtype=tf.resource, name=None)\n",
            "  138536482776768: TensorSpec(shape=(), dtype=tf.resource, name=None)\n",
            "  138536330739408: TensorSpec(shape=(), dtype=tf.resource, name=None)\n",
            "  138536330395888: TensorSpec(shape=(), dtype=tf.resource, name=None)\n",
            "  138536332071104: TensorSpec(shape=(), dtype=tf.resource, name=None)\n",
            "  138536332070928: TensorSpec(shape=(), dtype=tf.resource, name=None)\n",
            "  138536332070576: TensorSpec(shape=(), dtype=tf.resource, name=None)\n",
            "  138536332070752: TensorSpec(shape=(), dtype=tf.resource, name=None)\n",
            "  138536327950432: TensorSpec(shape=(), dtype=tf.resource, name=None)\n",
            "  138536482775536: TensorSpec(shape=(), dtype=tf.resource, name=None)\n",
            "  138536482775712: TensorSpec(shape=(), dtype=tf.resource, name=None)\n",
            "  138536482776064: TensorSpec(shape=(), dtype=tf.resource, name=None)\n",
            "  138536482775888: TensorSpec(shape=(), dtype=tf.resource, name=None)\n",
            "  138536330738880: TensorSpec(shape=(), dtype=tf.resource, name=None)\n",
            "  138536482774832: TensorSpec(shape=(), dtype=tf.resource, name=None)\n",
            "  138536482775360: TensorSpec(shape=(), dtype=tf.resource, name=None)\n",
            "  138536482775184: TensorSpec(shape=(), dtype=tf.resource, name=None)\n",
            "  138536482775008: TensorSpec(shape=(), dtype=tf.resource, name=None)\n",
            "  138536330738352: TensorSpec(shape=(), dtype=tf.resource, name=None)\n",
            "  138536330738176: TensorSpec(shape=(), dtype=tf.resource, name=None)\n",
            "  138536330738000: TensorSpec(shape=(), dtype=tf.resource, name=None)\n",
            "  138536330737824: TensorSpec(shape=(), dtype=tf.resource, name=None)\n",
            "  138536330738528: TensorSpec(shape=(), dtype=tf.resource, name=None)\n",
            "  138536482774480: TensorSpec(shape=(), dtype=tf.resource, name=None)\n",
            "  138536482774304: TensorSpec(shape=(), dtype=tf.resource, name=None)\n",
            "  138536482774128: TensorSpec(shape=(), dtype=tf.resource, name=None)\n",
            "  138536482774656: TensorSpec(shape=(), dtype=tf.resource, name=None)\n",
            "  138536330737648: TensorSpec(shape=(), dtype=tf.resource, name=None)\n",
            "  138536330737472: TensorSpec(shape=(), dtype=tf.resource, name=None)\n",
            "  138536482773776: TensorSpec(shape=(), dtype=tf.resource, name=None)\n",
            "  138536482773600: TensorSpec(shape=(), dtype=tf.resource, name=None)\n",
            "  138536482773952: TensorSpec(shape=(), dtype=tf.resource, name=None)\n",
            "  138536482773424: TensorSpec(shape=(), dtype=tf.resource, name=None)\n",
            "  138536330737296: TensorSpec(shape=(), dtype=tf.resource, name=None)\n",
            "  138536482772896: TensorSpec(shape=(), dtype=tf.resource, name=None)\n",
            "  138536482772720: TensorSpec(shape=(), dtype=tf.resource, name=None)\n",
            "  138536482773248: TensorSpec(shape=(), dtype=tf.resource, name=None)\n",
            "  138536482773072: TensorSpec(shape=(), dtype=tf.resource, name=None)\n",
            "  138536330736944: TensorSpec(shape=(), dtype=tf.resource, name=None)\n",
            "  138536330736768: TensorSpec(shape=(), dtype=tf.resource, name=None)\n",
            "  138536330736592: TensorSpec(shape=(), dtype=tf.resource, name=None)\n",
            "  138536330736416: TensorSpec(shape=(), dtype=tf.resource, name=None)\n",
            "  138536330737120: TensorSpec(shape=(), dtype=tf.resource, name=None)\n",
            "  138536482772544: TensorSpec(shape=(), dtype=tf.resource, name=None)\n",
            "  138536482772368: TensorSpec(shape=(), dtype=tf.resource, name=None)\n",
            "  138536482772192: TensorSpec(shape=(), dtype=tf.resource, name=None)\n",
            "  138536482772016: TensorSpec(shape=(), dtype=tf.resource, name=None)\n",
            "  138536330736240: TensorSpec(shape=(), dtype=tf.resource, name=None)\n",
            "  138536330736064: TensorSpec(shape=(), dtype=tf.resource, name=None)\n",
            "  138536482771840: TensorSpec(shape=(), dtype=tf.resource, name=None)\n",
            "  138536482771664: TensorSpec(shape=(), dtype=tf.resource, name=None)\n",
            "  138536482771488: TensorSpec(shape=(), dtype=tf.resource, name=None)\n",
            "  138536482771312: TensorSpec(shape=(), dtype=tf.resource, name=None)\n",
            "  138536330735888: TensorSpec(shape=(), dtype=tf.resource, name=None)\n",
            "  138536482770784: TensorSpec(shape=(), dtype=tf.resource, name=None)\n",
            "  138536482770608: TensorSpec(shape=(), dtype=tf.resource, name=None)\n",
            "  138536482771136: TensorSpec(shape=(), dtype=tf.resource, name=None)\n",
            "  138536482770960: TensorSpec(shape=(), dtype=tf.resource, name=None)\n",
            "  138536330735536: TensorSpec(shape=(), dtype=tf.resource, name=None)\n",
            "  138536330735360: TensorSpec(shape=(), dtype=tf.resource, name=None)\n",
            "  138536330735184: TensorSpec(shape=(), dtype=tf.resource, name=None)\n",
            "  138536330735008: TensorSpec(shape=(), dtype=tf.resource, name=None)\n",
            "  138536330735712: TensorSpec(shape=(), dtype=tf.resource, name=None)\n",
            "  138536482770080: TensorSpec(shape=(), dtype=tf.resource, name=None)\n",
            "  138536482769904: TensorSpec(shape=(), dtype=tf.resource, name=None)\n",
            "  138536482770432: TensorSpec(shape=(), dtype=tf.resource, name=None)\n",
            "  138536482770256: TensorSpec(shape=(), dtype=tf.resource, name=None)\n",
            "  138536330734656: TensorSpec(shape=(), dtype=tf.resource, name=None)\n",
            "  138536330734832: TensorSpec(shape=(), dtype=tf.resource, name=None)\n",
            "  138536332070400: TensorSpec(shape=(), dtype=tf.resource, name=None)\n",
            "  138536332070048: TensorSpec(shape=(), dtype=tf.resource, name=None)\n",
            "  138536332069696: TensorSpec(shape=(), dtype=tf.resource, name=None)\n",
            "  138536332069344: TensorSpec(shape=(), dtype=tf.resource, name=None)\n",
            "  138536330733600: TensorSpec(shape=(), dtype=tf.resource, name=None)\n",
            "  138536482769552: TensorSpec(shape=(), dtype=tf.resource, name=None)\n",
            "  138536482769376: TensorSpec(shape=(), dtype=tf.resource, name=None)\n",
            "  138536482769200: TensorSpec(shape=(), dtype=tf.resource, name=None)\n",
            "  138536482769728: TensorSpec(shape=(), dtype=tf.resource, name=None)\n",
            "  138536330733424: TensorSpec(shape=(), dtype=tf.resource, name=None)\n",
            "  138536482768672: TensorSpec(shape=(), dtype=tf.resource, name=None)\n",
            "  138536482768496: TensorSpec(shape=(), dtype=tf.resource, name=None)\n",
            "  138536482769024: TensorSpec(shape=(), dtype=tf.resource, name=None)\n",
            "  138536482768848: TensorSpec(shape=(), dtype=tf.resource, name=None)\n",
            "  138536330734480: TensorSpec(shape=(), dtype=tf.resource, name=None)\n",
            "  138536330734304: TensorSpec(shape=(), dtype=tf.resource, name=None)\n",
            "  138536330734128: TensorSpec(shape=(), dtype=tf.resource, name=None)\n",
            "  138536330733952: TensorSpec(shape=(), dtype=tf.resource, name=None)\n",
            "  138536330733248: TensorSpec(shape=(), dtype=tf.resource, name=None)\n",
            "  138536482767792: TensorSpec(shape=(), dtype=tf.resource, name=None)\n",
            "  138536482768320: TensorSpec(shape=(), dtype=tf.resource, name=None)\n",
            "  138536482768144: TensorSpec(shape=(), dtype=tf.resource, name=None)\n",
            "  138536482767968: TensorSpec(shape=(), dtype=tf.resource, name=None)\n",
            "  138536330733776: TensorSpec(shape=(), dtype=tf.resource, name=None)\n",
            "  138536330733072: TensorSpec(shape=(), dtype=tf.resource, name=None)\n",
            "  138536482767088: TensorSpec(shape=(), dtype=tf.resource, name=None)\n",
            "  138536482767616: TensorSpec(shape=(), dtype=tf.resource, name=None)\n",
            "  138536482767440: TensorSpec(shape=(), dtype=tf.resource, name=None)\n",
            "  138536482767264: TensorSpec(shape=(), dtype=tf.resource, name=None)\n",
            "  138536330732896: TensorSpec(shape=(), dtype=tf.resource, name=None)\n",
            "  138536482619088: TensorSpec(shape=(), dtype=tf.resource, name=None)\n",
            "  138536482618912: TensorSpec(shape=(), dtype=tf.resource, name=None)\n",
            "  138536482618736: TensorSpec(shape=(), dtype=tf.resource, name=None)\n",
            "  138536482766912: TensorSpec(shape=(), dtype=tf.resource, name=None)\n",
            "  138536330732544: TensorSpec(shape=(), dtype=tf.resource, name=None)\n",
            "  138536330732368: TensorSpec(shape=(), dtype=tf.resource, name=None)\n",
            "  138536330732192: TensorSpec(shape=(), dtype=tf.resource, name=None)\n",
            "  138536330732016: TensorSpec(shape=(), dtype=tf.resource, name=None)\n",
            "  138536330732720: TensorSpec(shape=(), dtype=tf.resource, name=None)\n",
            "  138536482618208: TensorSpec(shape=(), dtype=tf.resource, name=None)\n",
            "  138536482618032: TensorSpec(shape=(), dtype=tf.resource, name=None)\n",
            "  138536482618560: TensorSpec(shape=(), dtype=tf.resource, name=None)\n",
            "  138536482618384: TensorSpec(shape=(), dtype=tf.resource, name=None)\n",
            "  138536330731840: TensorSpec(shape=(), dtype=tf.resource, name=None)\n",
            "  138536330731664: TensorSpec(shape=(), dtype=tf.resource, name=None)\n",
            "  138536482617504: TensorSpec(shape=(), dtype=tf.resource, name=None)\n",
            "  138536482617328: TensorSpec(shape=(), dtype=tf.resource, name=None)\n",
            "  138536482617856: TensorSpec(shape=(), dtype=tf.resource, name=None)\n",
            "  138536482617680: TensorSpec(shape=(), dtype=tf.resource, name=None)\n",
            "  138536330731488: TensorSpec(shape=(), dtype=tf.resource, name=None)\n",
            "  138536482617152: TensorSpec(shape=(), dtype=tf.resource, name=None)\n",
            "  138536482616976: TensorSpec(shape=(), dtype=tf.resource, name=None)\n",
            "  138536482616800: TensorSpec(shape=(), dtype=tf.resource, name=None)\n",
            "  138536482616624: TensorSpec(shape=(), dtype=tf.resource, name=None)\n",
            "  138536330731136: TensorSpec(shape=(), dtype=tf.resource, name=None)\n",
            "  138536330730960: TensorSpec(shape=(), dtype=tf.resource, name=None)\n",
            "  138536330730784: TensorSpec(shape=(), dtype=tf.resource, name=None)\n",
            "  138536330730608: TensorSpec(shape=(), dtype=tf.resource, name=None)\n",
            "  138536330731312: TensorSpec(shape=(), dtype=tf.resource, name=None)\n",
            "  138536482616272: TensorSpec(shape=(), dtype=tf.resource, name=None)\n",
            "  138536482616096: TensorSpec(shape=(), dtype=tf.resource, name=None)\n",
            "  138536482615920: TensorSpec(shape=(), dtype=tf.resource, name=None)\n",
            "  138536482616448: TensorSpec(shape=(), dtype=tf.resource, name=None)\n",
            "  138536330730432: TensorSpec(shape=(), dtype=tf.resource, name=None)\n",
            "  138536330730256: TensorSpec(shape=(), dtype=tf.resource, name=None)\n",
            "  138536482615392: TensorSpec(shape=(), dtype=tf.resource, name=None)\n",
            "  138536482615216: TensorSpec(shape=(), dtype=tf.resource, name=None)\n",
            "  138536482615744: TensorSpec(shape=(), dtype=tf.resource, name=None)\n",
            "  138536482615568: TensorSpec(shape=(), dtype=tf.resource, name=None)\n",
            "  138536330730080: TensorSpec(shape=(), dtype=tf.resource, name=None)\n",
            "  138536482614688: TensorSpec(shape=(), dtype=tf.resource, name=None)\n",
            "  138536482614512: TensorSpec(shape=(), dtype=tf.resource, name=None)\n",
            "  138536482615040: TensorSpec(shape=(), dtype=tf.resource, name=None)\n",
            "  138536482614864: TensorSpec(shape=(), dtype=tf.resource, name=None)\n",
            "  138536330729728: TensorSpec(shape=(), dtype=tf.resource, name=None)\n",
            "  138536330729552: TensorSpec(shape=(), dtype=tf.resource, name=None)\n",
            "  138536330729376: TensorSpec(shape=(), dtype=tf.resource, name=None)\n",
            "  138536330729200: TensorSpec(shape=(), dtype=tf.resource, name=None)\n",
            "  138536330729904: TensorSpec(shape=(), dtype=tf.resource, name=None)\n",
            "  138536482614336: TensorSpec(shape=(), dtype=tf.resource, name=None)\n",
            "  138536482614160: TensorSpec(shape=(), dtype=tf.resource, name=None)\n",
            "  138536482613984: TensorSpec(shape=(), dtype=tf.resource, name=None)\n",
            "  138536482613808: TensorSpec(shape=(), dtype=tf.resource, name=None)\n",
            "  138536330729024: TensorSpec(shape=(), dtype=tf.resource, name=None)\n",
            "  138536330728848: TensorSpec(shape=(), dtype=tf.resource, name=None)\n",
            "  138536482613456: TensorSpec(shape=(), dtype=tf.resource, name=None)\n",
            "  138536482613280: TensorSpec(shape=(), dtype=tf.resource, name=None)\n",
            "  138536482613104: TensorSpec(shape=(), dtype=tf.resource, name=None)\n",
            "  138536482613632: TensorSpec(shape=(), dtype=tf.resource, name=None)\n",
            "  138536330728672: TensorSpec(shape=(), dtype=tf.resource, name=None)\n",
            "  138536482612576: TensorSpec(shape=(), dtype=tf.resource, name=None)\n",
            "  138536482612400: TensorSpec(shape=(), dtype=tf.resource, name=None)\n",
            "  138536482612928: TensorSpec(shape=(), dtype=tf.resource, name=None)\n",
            "  138536482612752: TensorSpec(shape=(), dtype=tf.resource, name=None)\n",
            "  138536330728320: TensorSpec(shape=(), dtype=tf.resource, name=None)\n",
            "  138536330728144: TensorSpec(shape=(), dtype=tf.resource, name=None)\n",
            "  138536330727968: TensorSpec(shape=(), dtype=tf.resource, name=None)\n",
            "  138536330727792: TensorSpec(shape=(), dtype=tf.resource, name=None)\n",
            "  138536330728496: TensorSpec(shape=(), dtype=tf.resource, name=None)\n",
            "  138536482611696: TensorSpec(shape=(), dtype=tf.resource, name=None)\n",
            "  138536482612224: TensorSpec(shape=(), dtype=tf.resource, name=None)\n",
            "  138536482612048: TensorSpec(shape=(), dtype=tf.resource, name=None)\n",
            "  138536482611872: TensorSpec(shape=(), dtype=tf.resource, name=None)\n",
            "  138536330727440: TensorSpec(shape=(), dtype=tf.resource, name=None)\n",
            "  138536330727616: TensorSpec(shape=(), dtype=tf.resource, name=None)\n",
            "  138536332068992: TensorSpec(shape=(), dtype=tf.resource, name=None)\n",
            "  138536332067936: TensorSpec(shape=(), dtype=tf.resource, name=None)\n",
            "  138536332068640: TensorSpec(shape=(), dtype=tf.resource, name=None)\n",
            "  138536332068288: TensorSpec(shape=(), dtype=tf.resource, name=None)\n",
            "  138536330727264: TensorSpec(shape=(), dtype=tf.resource, name=None)\n",
            "  138536482611344: TensorSpec(shape=(), dtype=tf.resource, name=None)\n",
            "  138536482611168: TensorSpec(shape=(), dtype=tf.resource, name=None)\n",
            "  138536482610992: TensorSpec(shape=(), dtype=tf.resource, name=None)\n",
            "  138536482611520: TensorSpec(shape=(), dtype=tf.resource, name=None)\n",
            "  138536330727088: TensorSpec(shape=(), dtype=tf.resource, name=None)\n",
            "  138536482610464: TensorSpec(shape=(), dtype=tf.resource, name=None)\n",
            "  138536482610288: TensorSpec(shape=(), dtype=tf.resource, name=None)\n",
            "  138536482610816: TensorSpec(shape=(), dtype=tf.resource, name=None)\n",
            "  138536482610640: TensorSpec(shape=(), dtype=tf.resource, name=None)\n",
            "  138536330726736: TensorSpec(shape=(), dtype=tf.resource, name=None)\n",
            "  138536330726560: TensorSpec(shape=(), dtype=tf.resource, name=None)\n",
            "  138536330726384: TensorSpec(shape=(), dtype=tf.resource, name=None)\n",
            "  138536330726208: TensorSpec(shape=(), dtype=tf.resource, name=None)\n",
            "  138536330726912: TensorSpec(shape=(), dtype=tf.resource, name=None)\n",
            "  138536482610112: TensorSpec(shape=(), dtype=tf.resource, name=None)\n",
            "  138536482609936: TensorSpec(shape=(), dtype=tf.resource, name=None)\n",
            "  138536482609760: TensorSpec(shape=(), dtype=tf.resource, name=None)\n",
            "  138536482609584: TensorSpec(shape=(), dtype=tf.resource, name=None)\n",
            "  138536330726032: TensorSpec(shape=(), dtype=tf.resource, name=None)\n",
            "  138536330725856: TensorSpec(shape=(), dtype=tf.resource, name=None)\n",
            "  138536482609408: TensorSpec(shape=(), dtype=tf.resource, name=None)\n",
            "  138536482609232: TensorSpec(shape=(), dtype=tf.resource, name=None)\n",
            "  138536482609056: TensorSpec(shape=(), dtype=tf.resource, name=None)\n",
            "  138536482608880: TensorSpec(shape=(), dtype=tf.resource, name=None)\n",
            "  138536330725680: TensorSpec(shape=(), dtype=tf.resource, name=None)\n",
            "  138536482608528: TensorSpec(shape=(), dtype=tf.resource, name=None)\n",
            "  138536482608352: TensorSpec(shape=(), dtype=tf.resource, name=None)\n",
            "  138536482608176: TensorSpec(shape=(), dtype=tf.resource, name=None)\n",
            "  138536482608704: TensorSpec(shape=(), dtype=tf.resource, name=None)\n",
            "  138536330725328: TensorSpec(shape=(), dtype=tf.resource, name=None)\n",
            "  138536330725152: TensorSpec(shape=(), dtype=tf.resource, name=None)\n",
            "  138536330724976: TensorSpec(shape=(), dtype=tf.resource, name=None)\n",
            "  138536330724800: TensorSpec(shape=(), dtype=tf.resource, name=None)\n",
            "  138536330725504: TensorSpec(shape=(), dtype=tf.resource, name=None)\n",
            "  138536482607648: TensorSpec(shape=(), dtype=tf.resource, name=None)\n",
            "  138536482607472: TensorSpec(shape=(), dtype=tf.resource, name=None)\n",
            "  138536482608000: TensorSpec(shape=(), dtype=tf.resource, name=None)\n",
            "  138536482607824: TensorSpec(shape=(), dtype=tf.resource, name=None)\n",
            "  138536330724624: TensorSpec(shape=(), dtype=tf.resource, name=None)\n",
            "  138536330724448: TensorSpec(shape=(), dtype=tf.resource, name=None)\n",
            "  138536482606944: TensorSpec(shape=(), dtype=tf.resource, name=None)\n",
            "  138536482606768: TensorSpec(shape=(), dtype=tf.resource, name=None)\n",
            "  138536482607296: TensorSpec(shape=(), dtype=tf.resource, name=None)\n",
            "  138536482607120: TensorSpec(shape=(), dtype=tf.resource, name=None)\n",
            "  138536330724272: TensorSpec(shape=(), dtype=tf.resource, name=None)\n",
            "  138536482606592: TensorSpec(shape=(), dtype=tf.resource, name=None)\n",
            "  138536482606416: TensorSpec(shape=(), dtype=tf.resource, name=None)\n",
            "  138536482606240: TensorSpec(shape=(), dtype=tf.resource, name=None)\n",
            "  138536482606064: TensorSpec(shape=(), dtype=tf.resource, name=None)\n",
            "  138536330723920: TensorSpec(shape=(), dtype=tf.resource, name=None)\n",
            "  138536330723744: TensorSpec(shape=(), dtype=tf.resource, name=None)\n",
            "  138536330723568: TensorSpec(shape=(), dtype=tf.resource, name=None)\n",
            "  138536330723392: TensorSpec(shape=(), dtype=tf.resource, name=None)\n",
            "  138536330724096: TensorSpec(shape=(), dtype=tf.resource, name=None)\n",
            "  138536482605712: TensorSpec(shape=(), dtype=tf.resource, name=None)\n",
            "  138536482605536: TensorSpec(shape=(), dtype=tf.resource, name=None)\n",
            "  138536482605360: TensorSpec(shape=(), dtype=tf.resource, name=None)\n",
            "  138536482605888: TensorSpec(shape=(), dtype=tf.resource, name=None)\n",
            "  138536482651856: TensorSpec(shape=(), dtype=tf.resource, name=None)\n",
            "  138536482651680: TensorSpec(shape=(), dtype=tf.resource, name=None)\n",
            "  138536482604832: TensorSpec(shape=(), dtype=tf.resource, name=None)\n",
            "  138536482604656: TensorSpec(shape=(), dtype=tf.resource, name=None)\n",
            "  138536482605184: TensorSpec(shape=(), dtype=tf.resource, name=None)\n",
            "  138536482605008: TensorSpec(shape=(), dtype=tf.resource, name=None)\n",
            "  138536482651504: TensorSpec(shape=(), dtype=tf.resource, name=None)\n",
            "  138536482603952: TensorSpec(shape=(), dtype=tf.resource, name=None)\n",
            "  138536482604480: TensorSpec(shape=(), dtype=tf.resource, name=None)\n",
            "  138536482604304: TensorSpec(shape=(), dtype=tf.resource, name=None)\n",
            "  138536482604128: TensorSpec(shape=(), dtype=tf.resource, name=None)\n",
            "  138536482651152: TensorSpec(shape=(), dtype=tf.resource, name=None)\n",
            "  138536482650976: TensorSpec(shape=(), dtype=tf.resource, name=None)\n",
            "  138536482650800: TensorSpec(shape=(), dtype=tf.resource, name=None)\n",
            "  138536482650624: TensorSpec(shape=(), dtype=tf.resource, name=None)\n",
            "  138536482651328: TensorSpec(shape=(), dtype=tf.resource, name=None)\n",
            "  138536482603776: TensorSpec(shape=(), dtype=tf.resource, name=None)\n",
            "  138536482603600: TensorSpec(shape=(), dtype=tf.resource, name=None)\n",
            "  138536482603424: TensorSpec(shape=(), dtype=tf.resource, name=None)\n",
            "  138536482603248: TensorSpec(shape=(), dtype=tf.resource, name=None)\n",
            "  138536482650448: TensorSpec(shape=(), dtype=tf.resource, name=None)\n",
            "  138536482649392: TensorSpec(shape=(), dtype=tf.resource, name=None)\n",
            "  138536482488016: TensorSpec(shape=(), dtype=tf.resource, name=None)\n",
            "  138536482487840: TensorSpec(shape=(), dtype=tf.resource, name=None)\n",
            "  138536482487664: TensorSpec(shape=(), dtype=tf.resource, name=None)\n",
            "  138536482603072: TensorSpec(shape=(), dtype=tf.resource, name=None)\n",
            "  138536482649216: TensorSpec(shape=(), dtype=tf.resource, name=None)\n",
            "  138536482487136: TensorSpec(shape=(), dtype=tf.resource, name=None)\n",
            "  138536482486960: TensorSpec(shape=(), dtype=tf.resource, name=None)\n",
            "  138536482487488: TensorSpec(shape=(), dtype=tf.resource, name=None)\n",
            "  138536482487312: TensorSpec(shape=(), dtype=tf.resource, name=None)\n",
            "  138536482650272: TensorSpec(shape=(), dtype=tf.resource, name=None)\n",
            "  138536482650096: TensorSpec(shape=(), dtype=tf.resource, name=None)\n",
            "  138536482649920: TensorSpec(shape=(), dtype=tf.resource, name=None)\n",
            "  138536482649744: TensorSpec(shape=(), dtype=tf.resource, name=None)\n",
            "  138536482649040: TensorSpec(shape=(), dtype=tf.resource, name=None)\n",
            "  138536482486784: TensorSpec(shape=(), dtype=tf.resource, name=None)\n",
            "  138536482486608: TensorSpec(shape=(), dtype=tf.resource, name=None)\n",
            "  138536482486432: TensorSpec(shape=(), dtype=tf.resource, name=None)\n",
            "  138536482486256: TensorSpec(shape=(), dtype=tf.resource, name=None)\n",
            "  138536482649568: TensorSpec(shape=(), dtype=tf.resource, name=None)\n",
            "  138536482648864: TensorSpec(shape=(), dtype=tf.resource, name=None)\n",
            "  138536482486080: TensorSpec(shape=(), dtype=tf.resource, name=None)\n",
            "  138536482485904: TensorSpec(shape=(), dtype=tf.resource, name=None)\n",
            "  138536482485728: TensorSpec(shape=(), dtype=tf.resource, name=None)\n",
            "  138536482485552: TensorSpec(shape=(), dtype=tf.resource, name=None)\n",
            "  138536482648688: TensorSpec(shape=(), dtype=tf.resource, name=None)\n",
            "  138536482485200: TensorSpec(shape=(), dtype=tf.resource, name=None)\n",
            "  138536482485024: TensorSpec(shape=(), dtype=tf.resource, name=None)\n",
            "  138536482484848: TensorSpec(shape=(), dtype=tf.resource, name=None)\n",
            "  138536482485376: TensorSpec(shape=(), dtype=tf.resource, name=None)\n",
            "  138536482648336: TensorSpec(shape=(), dtype=tf.resource, name=None)\n",
            "  138536482648160: TensorSpec(shape=(), dtype=tf.resource, name=None)\n",
            "  138536482647984: TensorSpec(shape=(), dtype=tf.resource, name=None)\n",
            "  138536482647808: TensorSpec(shape=(), dtype=tf.resource, name=None)\n",
            "  138536482648512: TensorSpec(shape=(), dtype=tf.resource, name=None)\n",
            "  138536482484320: TensorSpec(shape=(), dtype=tf.resource, name=None)\n",
            "  138536482484144: TensorSpec(shape=(), dtype=tf.resource, name=None)\n",
            "  138536482484672: TensorSpec(shape=(), dtype=tf.resource, name=None)\n",
            "  138536482484496: TensorSpec(shape=(), dtype=tf.resource, name=None)\n",
            "  138536482647632: TensorSpec(shape=(), dtype=tf.resource, name=None)\n",
            "  138536482647456: TensorSpec(shape=(), dtype=tf.resource, name=None)\n",
            "  138536482483616: TensorSpec(shape=(), dtype=tf.resource, name=None)\n",
            "  138536482483440: TensorSpec(shape=(), dtype=tf.resource, name=None)\n",
            "  138536482483968: TensorSpec(shape=(), dtype=tf.resource, name=None)\n",
            "  138536482483792: TensorSpec(shape=(), dtype=tf.resource, name=None)\n",
            "  138536482647280: TensorSpec(shape=(), dtype=tf.resource, name=None)\n",
            "  138536482483264: TensorSpec(shape=(), dtype=tf.resource, name=None)\n",
            "  138536482483088: TensorSpec(shape=(), dtype=tf.resource, name=None)\n",
            "  138536482482912: TensorSpec(shape=(), dtype=tf.resource, name=None)\n",
            "  138536482482736: TensorSpec(shape=(), dtype=tf.resource, name=None)\n",
            "  138536482646576: TensorSpec(shape=(), dtype=tf.resource, name=None)\n",
            "  138536482646400: TensorSpec(shape=(), dtype=tf.resource, name=None)\n",
            "  138536482646928: TensorSpec(shape=(), dtype=tf.resource, name=None)\n",
            "  138536482646752: TensorSpec(shape=(), dtype=tf.resource, name=None)\n",
            "  138536482647104: TensorSpec(shape=(), dtype=tf.resource, name=None)\n",
            "  138536482482384: TensorSpec(shape=(), dtype=tf.resource, name=None)\n",
            "  138536482482208: TensorSpec(shape=(), dtype=tf.resource, name=None)\n",
            "  138536482482032: TensorSpec(shape=(), dtype=tf.resource, name=None)\n",
            "  138536482482560: TensorSpec(shape=(), dtype=tf.resource, name=None)\n",
            "  138536482646224: TensorSpec(shape=(), dtype=tf.resource, name=None)\n",
            "  138536482646048: TensorSpec(shape=(), dtype=tf.resource, name=None)\n",
            "  138536482481504: TensorSpec(shape=(), dtype=tf.resource, name=None)\n",
            "  138536482481328: TensorSpec(shape=(), dtype=tf.resource, name=None)\n",
            "  138536482481856: TensorSpec(shape=(), dtype=tf.resource, name=None)\n",
            "  138536482481680: TensorSpec(shape=(), dtype=tf.resource, name=None)\n",
            "  138536482645872: TensorSpec(shape=(), dtype=tf.resource, name=None)\n",
            "  138536482480624: TensorSpec(shape=(), dtype=tf.resource, name=None)\n",
            "  138536482481152: TensorSpec(shape=(), dtype=tf.resource, name=None)\n",
            "  138536482480976: TensorSpec(shape=(), dtype=tf.resource, name=None)\n",
            "  138536482480800: TensorSpec(shape=(), dtype=tf.resource, name=None)\n",
            "  138536482645520: TensorSpec(shape=(), dtype=tf.resource, name=None)\n",
            "  138536482645344: TensorSpec(shape=(), dtype=tf.resource, name=None)\n",
            "  138536482645168: TensorSpec(shape=(), dtype=tf.resource, name=None)\n",
            "  138536482644992: TensorSpec(shape=(), dtype=tf.resource, name=None)\n",
            "  138536482645696: TensorSpec(shape=(), dtype=tf.resource, name=None)\n",
            "  138536482480448: TensorSpec(shape=(), dtype=tf.resource, name=None)\n",
            "  138536482480272: TensorSpec(shape=(), dtype=tf.resource, name=None)\n",
            "  138536482480096: TensorSpec(shape=(), dtype=tf.resource, name=None)\n",
            "  138536482479920: TensorSpec(shape=(), dtype=tf.resource, name=None)\n",
            "  138536482644816: TensorSpec(shape=(), dtype=tf.resource, name=None)\n",
            "  138536482644640: TensorSpec(shape=(), dtype=tf.resource, name=None)\n",
            "  138536482479568: TensorSpec(shape=(), dtype=tf.resource, name=None)\n",
            "  138536482479392: TensorSpec(shape=(), dtype=tf.resource, name=None)\n",
            "  138536482479216: TensorSpec(shape=(), dtype=tf.resource, name=None)\n",
            "  138536482479744: TensorSpec(shape=(), dtype=tf.resource, name=None)\n",
            "  138536482644464: TensorSpec(shape=(), dtype=tf.resource, name=None)\n",
            "  138536482478688: TensorSpec(shape=(), dtype=tf.resource, name=None)\n",
            "  138536482478512: TensorSpec(shape=(), dtype=tf.resource, name=None)\n",
            "  138536482479040: TensorSpec(shape=(), dtype=tf.resource, name=None)\n",
            "  138536482478864: TensorSpec(shape=(), dtype=tf.resource, name=None)\n",
            "  138536482644112: TensorSpec(shape=(), dtype=tf.resource, name=None)\n",
            "  138536482643936: TensorSpec(shape=(), dtype=tf.resource, name=None)\n",
            "  138536482643760: TensorSpec(shape=(), dtype=tf.resource, name=None)\n",
            "  138536482643584: TensorSpec(shape=(), dtype=tf.resource, name=None)\n",
            "  138536482644288: TensorSpec(shape=(), dtype=tf.resource, name=None)\n",
            "  138536482478336: TensorSpec(shape=(), dtype=tf.resource, name=None)\n",
            "  138536482478160: TensorSpec(shape=(), dtype=tf.resource, name=None)\n",
            "  138536482477984: TensorSpec(shape=(), dtype=tf.resource, name=None)\n",
            "  138536482477808: TensorSpec(shape=(), dtype=tf.resource, name=None)\n",
            "  138536482643408: TensorSpec(shape=(), dtype=tf.resource, name=None)\n",
            "  138536482643232: TensorSpec(shape=(), dtype=tf.resource, name=None)\n",
            "  138536482477632: TensorSpec(shape=(), dtype=tf.resource, name=None)\n",
            "  138536482477456: TensorSpec(shape=(), dtype=tf.resource, name=None)\n",
            "  138536482477280: TensorSpec(shape=(), dtype=tf.resource, name=None)\n",
            "  138536482477104: TensorSpec(shape=(), dtype=tf.resource, name=None)\n",
            "  138536482643056: TensorSpec(shape=(), dtype=tf.resource, name=None)\n",
            "  138536482476752: TensorSpec(shape=(), dtype=tf.resource, name=None)\n",
            "  138536482476576: TensorSpec(shape=(), dtype=tf.resource, name=None)\n",
            "  138536482476400: TensorSpec(shape=(), dtype=tf.resource, name=None)\n",
            "  138536482476928: TensorSpec(shape=(), dtype=tf.resource, name=None)\n",
            "  138536482642704: TensorSpec(shape=(), dtype=tf.resource, name=None)\n",
            "  138536482642528: TensorSpec(shape=(), dtype=tf.resource, name=None)\n",
            "  138536482642352: TensorSpec(shape=(), dtype=tf.resource, name=None)\n",
            "  138536482642176: TensorSpec(shape=(), dtype=tf.resource, name=None)\n",
            "  138536482642880: TensorSpec(shape=(), dtype=tf.resource, name=None)\n",
            "  138536482475872: TensorSpec(shape=(), dtype=tf.resource, name=None)\n",
            "  138536482475696: TensorSpec(shape=(), dtype=tf.resource, name=None)\n",
            "  138536482476224: TensorSpec(shape=(), dtype=tf.resource, name=None)\n",
            "  138536482476048: TensorSpec(shape=(), dtype=tf.resource, name=None)\n",
            "  138536482642000: TensorSpec(shape=(), dtype=tf.resource, name=None)\n",
            "  138536482641824: TensorSpec(shape=(), dtype=tf.resource, name=None)\n",
            "  138536482475168: TensorSpec(shape=(), dtype=tf.resource, name=None)\n",
            "  138536482474992: TensorSpec(shape=(), dtype=tf.resource, name=None)\n",
            "  138536482475520: TensorSpec(shape=(), dtype=tf.resource, name=None)\n",
            "  138536482475344: TensorSpec(shape=(), dtype=tf.resource, name=None)\n",
            "  138536482641648: TensorSpec(shape=(), dtype=tf.resource, name=None)\n",
            "  138536482474816: TensorSpec(shape=(), dtype=tf.resource, name=None)\n",
            "  138536482474640: TensorSpec(shape=(), dtype=tf.resource, name=None)\n",
            "  138536482474464: TensorSpec(shape=(), dtype=tf.resource, name=None)\n",
            "  138536482474288: TensorSpec(shape=(), dtype=tf.resource, name=None)\n",
            "  138536482641296: TensorSpec(shape=(), dtype=tf.resource, name=None)\n",
            "  138536482641120: TensorSpec(shape=(), dtype=tf.resource, name=None)\n",
            "  138536482640944: TensorSpec(shape=(), dtype=tf.resource, name=None)\n",
            "  138536482640768: TensorSpec(shape=(), dtype=tf.resource, name=None)\n",
            "  138536482641472: TensorSpec(shape=(), dtype=tf.resource, name=None)\n",
            "  138536482473936: TensorSpec(shape=(), dtype=tf.resource, name=None)\n",
            "  138536482473760: TensorSpec(shape=(), dtype=tf.resource, name=None)\n",
            "  138536482473584: TensorSpec(shape=(), dtype=tf.resource, name=None)\n",
            "  138536482474112: TensorSpec(shape=(), dtype=tf.resource, name=None)\n",
            "  138536482640416: TensorSpec(shape=(), dtype=tf.resource, name=None)\n",
            "  138536482640592: TensorSpec(shape=(), dtype=tf.resource, name=None)\n",
            "  138536332066880: TensorSpec(shape=(), dtype=tf.resource, name=None)\n",
            "  138536328019312: TensorSpec(shape=(), dtype=tf.resource, name=None)\n",
            "  138536332067584: TensorSpec(shape=(), dtype=tf.resource, name=None)\n",
            "  138536332067232: TensorSpec(shape=(), dtype=tf.resource, name=None)\n",
            "  138536482640240: TensorSpec(shape=(), dtype=tf.resource, name=None)\n",
            "  138536482472880: TensorSpec(shape=(), dtype=tf.resource, name=None)\n",
            "  138536482473408: TensorSpec(shape=(), dtype=tf.resource, name=None)\n",
            "  138536482473232: TensorSpec(shape=(), dtype=tf.resource, name=None)\n",
            "  138536482473056: TensorSpec(shape=(), dtype=tf.resource, name=None)\n",
            "  138536482640064: TensorSpec(shape=(), dtype=tf.resource, name=None)\n",
            "  138536482472704: TensorSpec(shape=(), dtype=tf.resource, name=None)\n",
            "  138536482472528: TensorSpec(shape=(), dtype=tf.resource, name=None)\n",
            "  138536482472352: TensorSpec(shape=(), dtype=tf.resource, name=None)\n",
            "  138536482472176: TensorSpec(shape=(), dtype=tf.resource, name=None)\n",
            "  138536482639712: TensorSpec(shape=(), dtype=tf.resource, name=None)\n",
            "  138536482639536: TensorSpec(shape=(), dtype=tf.resource, name=None)\n",
            "  138536482639360: TensorSpec(shape=(), dtype=tf.resource, name=None)\n",
            "  138536482639184: TensorSpec(shape=(), dtype=tf.resource, name=None)\n",
            "  138536482639888: TensorSpec(shape=(), dtype=tf.resource, name=None)\n",
            "  138536332082896: TensorSpec(shape=(), dtype=tf.resource, name=None)\n",
            "  138536332082720: TensorSpec(shape=(), dtype=tf.resource, name=None)\n",
            "  138536332082544: TensorSpec(shape=(), dtype=tf.resource, name=None)\n",
            "  138536482472000: TensorSpec(shape=(), dtype=tf.resource, name=None)\n",
            "  138536482639008: TensorSpec(shape=(), dtype=tf.resource, name=None)\n",
            "  138536482638832: TensorSpec(shape=(), dtype=tf.resource, name=None)\n",
            "  138536332082016: TensorSpec(shape=(), dtype=tf.resource, name=None)\n",
            "  138536332081840: TensorSpec(shape=(), dtype=tf.resource, name=None)\n",
            "  138536332082368: TensorSpec(shape=(), dtype=tf.resource, name=None)\n",
            "  138536332082192: TensorSpec(shape=(), dtype=tf.resource, name=None)\n",
            "  138536482638656: TensorSpec(shape=(), dtype=tf.resource, name=None)\n",
            "  138536332081664: TensorSpec(shape=(), dtype=tf.resource, name=None)\n",
            "  138536332081488: TensorSpec(shape=(), dtype=tf.resource, name=None)\n",
            "  138536332081312: TensorSpec(shape=(), dtype=tf.resource, name=None)\n",
            "  138536332081136: TensorSpec(shape=(), dtype=tf.resource, name=None)\n",
            "  138536482638304: TensorSpec(shape=(), dtype=tf.resource, name=None)\n",
            "  138536482638128: TensorSpec(shape=(), dtype=tf.resource, name=None)\n",
            "  138536482637952: TensorSpec(shape=(), dtype=tf.resource, name=None)\n",
            "  138536482637776: TensorSpec(shape=(), dtype=tf.resource, name=None)\n",
            "  138536482638480: TensorSpec(shape=(), dtype=tf.resource, name=None)\n",
            "  138536332080960: TensorSpec(shape=(), dtype=tf.resource, name=None)\n",
            "  138536332080784: TensorSpec(shape=(), dtype=tf.resource, name=None)\n",
            "  138536332080608: TensorSpec(shape=(), dtype=tf.resource, name=None)\n",
            "  138536332080432: TensorSpec(shape=(), dtype=tf.resource, name=None)\n",
            "  138536482637600: TensorSpec(shape=(), dtype=tf.resource, name=None)\n",
            "  138536482636368: TensorSpec(shape=(), dtype=tf.resource, name=None)\n",
            "  138536332080080: TensorSpec(shape=(), dtype=tf.resource, name=None)\n",
            "  138536332079904: TensorSpec(shape=(), dtype=tf.resource, name=None)\n",
            "  138536332079728: TensorSpec(shape=(), dtype=tf.resource, name=None)\n",
            "  138536332080256: TensorSpec(shape=(), dtype=tf.resource, name=None)\n",
            "  138536482636192: TensorSpec(shape=(), dtype=tf.resource, name=None)\n",
            "  138536332079200: TensorSpec(shape=(), dtype=tf.resource, name=None)\n",
            "  138536332079024: TensorSpec(shape=(), dtype=tf.resource, name=None)\n",
            "  138536332079552: TensorSpec(shape=(), dtype=tf.resource, name=None)\n",
            "  138536332079376: TensorSpec(shape=(), dtype=tf.resource, name=None)\n",
            "  138536482637248: TensorSpec(shape=(), dtype=tf.resource, name=None)\n",
            "  138536482637072: TensorSpec(shape=(), dtype=tf.resource, name=None)\n",
            "  138536482636896: TensorSpec(shape=(), dtype=tf.resource, name=None)\n",
            "  138536482636720: TensorSpec(shape=(), dtype=tf.resource, name=None)\n",
            "  138536482637424: TensorSpec(shape=(), dtype=tf.resource, name=None)\n",
            "  138536332078848: TensorSpec(shape=(), dtype=tf.resource, name=None)\n",
            "  138536332078672: TensorSpec(shape=(), dtype=tf.resource, name=None)\n",
            "  138536332078496: TensorSpec(shape=(), dtype=tf.resource, name=None)\n",
            "  138536332078320: TensorSpec(shape=(), dtype=tf.resource, name=None)\n",
            "  138536482636544: TensorSpec(shape=(), dtype=tf.resource, name=None)\n",
            "  138536482636016: TensorSpec(shape=(), dtype=tf.resource, name=None)\n",
            "  138536332078144: TensorSpec(shape=(), dtype=tf.resource, name=None)\n",
            "  138536332077968: TensorSpec(shape=(), dtype=tf.resource, name=None)\n",
            "  138536332077792: TensorSpec(shape=(), dtype=tf.resource, name=None)\n",
            "  138536332077616: TensorSpec(shape=(), dtype=tf.resource, name=None)\n",
            "  138536482635840: TensorSpec(shape=(), dtype=tf.resource, name=None)\n",
            "  138536332077264: TensorSpec(shape=(), dtype=tf.resource, name=None)\n",
            "  138536332077088: TensorSpec(shape=(), dtype=tf.resource, name=None)\n",
            "  138536332076912: TensorSpec(shape=(), dtype=tf.resource, name=None)\n",
            "  138536332077440: TensorSpec(shape=(), dtype=tf.resource, name=None)\n",
            "  138536482782752: TensorSpec(shape=(), dtype=tf.resource, name=None)\n",
            "  138536482782576: TensorSpec(shape=(), dtype=tf.resource, name=None)\n",
            "  138536482782400: TensorSpec(shape=(), dtype=tf.resource, name=None)\n",
            "  138536482782224: TensorSpec(shape=(), dtype=tf.resource, name=None)\n",
            "  138536482782928: TensorSpec(shape=(), dtype=tf.resource, name=None)\n",
            "  138536332076208: TensorSpec(shape=(), dtype=tf.resource, name=None)\n",
            "  138536332076736: TensorSpec(shape=(), dtype=tf.resource, name=None)\n",
            "  138536332076560: TensorSpec(shape=(), dtype=tf.resource, name=None)\n",
            "  138536332076384: TensorSpec(shape=(), dtype=tf.resource, name=None)\n",
            "  138536482782048: TensorSpec(shape=(), dtype=tf.resource, name=None)\n",
            "  138536482781872: TensorSpec(shape=(), dtype=tf.resource, name=None)\n",
            "  138536332075504: TensorSpec(shape=(), dtype=tf.resource, name=None)\n",
            "  138536332076032: TensorSpec(shape=(), dtype=tf.resource, name=None)\n",
            "  138536332075856: TensorSpec(shape=(), dtype=tf.resource, name=None)\n",
            "  138536332075680: TensorSpec(shape=(), dtype=tf.resource, name=None)\n",
            "  138536482781696: TensorSpec(shape=(), dtype=tf.resource, name=None)\n",
            "  138536332075328: TensorSpec(shape=(), dtype=tf.resource, name=None)\n",
            "  138536332075152: TensorSpec(shape=(), dtype=tf.resource, name=None)\n",
            "  138536332074976: TensorSpec(shape=(), dtype=tf.resource, name=None)\n",
            "  138536332074800: TensorSpec(shape=(), dtype=tf.resource, name=None)\n",
            "  138536482781344: TensorSpec(shape=(), dtype=tf.resource, name=None)\n",
            "  138536482781168: TensorSpec(shape=(), dtype=tf.resource, name=None)\n",
            "  138536482780992: TensorSpec(shape=(), dtype=tf.resource, name=None)\n",
            "  138536482780816: TensorSpec(shape=(), dtype=tf.resource, name=None)\n",
            "  138536482781520: TensorSpec(shape=(), dtype=tf.resource, name=None)\n",
            "  138536332074448: TensorSpec(shape=(), dtype=tf.resource, name=None)\n",
            "  138536332074272: TensorSpec(shape=(), dtype=tf.resource, name=None)\n",
            "  138536332074096: TensorSpec(shape=(), dtype=tf.resource, name=None)\n",
            "  138536332074624: TensorSpec(shape=(), dtype=tf.resource, name=None)\n",
            "  138536482780640: TensorSpec(shape=(), dtype=tf.resource, name=None)\n",
            "  138536482780464: TensorSpec(shape=(), dtype=tf.resource, name=None)\n",
            "  138536332073568: TensorSpec(shape=(), dtype=tf.resource, name=None)\n",
            "  138536332073392: TensorSpec(shape=(), dtype=tf.resource, name=None)\n",
            "  138536332073920: TensorSpec(shape=(), dtype=tf.resource, name=None)\n",
            "  138536332073744: TensorSpec(shape=(), dtype=tf.resource, name=None)\n",
            "  138536482780288: TensorSpec(shape=(), dtype=tf.resource, name=None)\n",
            "  138536332073216: TensorSpec(shape=(), dtype=tf.resource, name=None)\n",
            "  138536332073040: TensorSpec(shape=(), dtype=tf.resource, name=None)\n",
            "  138536332072864: TensorSpec(shape=(), dtype=tf.resource, name=None)\n",
            "  138536332072688: TensorSpec(shape=(), dtype=tf.resource, name=None)\n",
            "  138536482779936: TensorSpec(shape=(), dtype=tf.resource, name=None)\n",
            "  138536482779760: TensorSpec(shape=(), dtype=tf.resource, name=None)\n",
            "  138536482779584: TensorSpec(shape=(), dtype=tf.resource, name=None)\n",
            "  138536482779408: TensorSpec(shape=(), dtype=tf.resource, name=None)\n",
            "  138536482780112: TensorSpec(shape=(), dtype=tf.resource, name=None)\n",
            "  138536332072512: TensorSpec(shape=(), dtype=tf.resource, name=None)\n",
            "  138536332072336: TensorSpec(shape=(), dtype=tf.resource, name=None)\n",
            "  138536332072160: TensorSpec(shape=(), dtype=tf.resource, name=None)\n",
            "  138536332071984: TensorSpec(shape=(), dtype=tf.resource, name=None)\n",
            "  138536482779232: TensorSpec(shape=(), dtype=tf.resource, name=None)\n",
            "  138536482779056: TensorSpec(shape=(), dtype=tf.resource, name=None)\n",
            "  138536332071632: TensorSpec(shape=(), dtype=tf.resource, name=None)\n",
            "  138536332071456: TensorSpec(shape=(), dtype=tf.resource, name=None)\n",
            "  138536332071280: TensorSpec(shape=(), dtype=tf.resource, name=None)\n",
            "  138536332071808: TensorSpec(shape=(), dtype=tf.resource, name=None)\n",
            "  138536330400112: TensorSpec(shape=(), dtype=tf.resource, name=None)\n",
            "  138536330399760: TensorSpec(shape=(), dtype=tf.resource, name=None)\n",
            "  138536330399408: TensorSpec(shape=(), dtype=tf.resource, name=None)\n",
            "  138536330399056: TensorSpec(shape=(), dtype=tf.resource, name=None)\n"
          ]
        }
      ],
      "source": [
        "sig = model.signatures['serving_default']\n",
        "print(sig.pretty_printed_signature())"
      ]
    },
    {
      "cell_type": "markdown",
      "metadata": {
        "id": "M4Xny1ANomi4"
      },
      "source": [
        "To run this signature on the video you need to add the outer `batch` dimension to the video first."
      ]
    },
    {
      "cell_type": "code",
      "execution_count": 11,
      "metadata": {
        "id": "LBOFEDG1XvZE",
        "vscode": {
          "languageId": "python"
        }
      },
      "outputs": [],
      "source": [
        "#warmup\n",
        "sig(image = jumpingjack[tf.newaxis, :1]);"
      ]
    },
    {
      "cell_type": "code",
      "execution_count": null,
      "metadata": {
        "id": "jCeW3KycVbGn",
        "vscode": {
          "languageId": "python"
        }
      },
      "outputs": [],
      "source": [
        "%%time\n",
        "logits = sig(image = jumpingjack[tf.newaxis, ...])\n",
        "logits = logits['classifier_head'][0]\n",
        "\n",
        "print(logits.shape)\n",
        "print()"
      ]
    },
    {
      "cell_type": "markdown",
      "metadata": {
        "id": "AE8doqkPpxED"
      },
      "source": [
        "Define a `get_top_k` function that packages the above output processing for later."
      ]
    },
    {
      "cell_type": "code",
      "execution_count": null,
      "metadata": {
        "id": "OozPNO6LvZ00",
        "vscode": {
          "languageId": "python"
        }
      },
      "outputs": [],
      "source": [
        "#@title\n",
        "# Get top_k labels and probabilities\n",
        "def get_top_k(probs, k=5, label_map=KINETICS_600_LABELS):\n",
        "  \"\"\"Outputs the top k model labels and probabilities on the given video.\n",
        "\n",
        "  Args:\n",
        "    probs: probability tensor of shape (num_frames, num_classes) that represents\n",
        "      the probability of each class on each frame.\n",
        "    k: the number of top predictions to select.\n",
        "    label_map: a list of labels to map logit indices to label strings.\n",
        "\n",
        "  Returns:\n",
        "    a tuple of the top-k labels and probabilities.\n",
        "  \"\"\"\n",
        "  # Sort predictions to find top_k\n",
        "  top_predictions = tf.argsort(probs, axis=-1, direction='DESCENDING')[:k]\n",
        "  # collect the labels of top_k predictions\n",
        "  top_labels = tf.gather(label_map, top_predictions, axis=-1)\n",
        "  # decode lablels\n",
        "  top_labels = [label.decode('utf8') for label in top_labels.numpy()]\n",
        "  # top_k probabilities of the predictions\n",
        "  top_probs = tf.gather(probs, top_predictions, axis=-1).numpy()\n",
        "  return tuple(zip(top_labels, top_probs))"
      ]
    },
    {
      "cell_type": "markdown",
      "metadata": {
        "id": "kTfKMT29pP_Z"
      },
      "source": [
        "Convert the `logits` to probabilities, and look up the top 5 classes for the video. The model confirms that the video is probably of `jumping jacks`."
      ]
    },
    {
      "cell_type": "code",
      "execution_count": null,
      "metadata": {
        "id": "Z-SrNGsGV5Mt",
        "vscode": {
          "languageId": "python"
        }
      },
      "outputs": [],
      "source": [
        "probs = tf.nn.softmax(logits, axis=-1)\n",
        "for label, p in get_top_k(probs):\n",
        "  print(f'{label:20s}: {p:.3f}')"
      ]
    },
    {
      "cell_type": "markdown",
      "metadata": {
        "id": "ltdijoQpqjxZ"
      },
      "source": [
        "### The streaming model"
      ]
    },
    {
      "cell_type": "markdown",
      "metadata": {
        "id": "9dqdUPQXq45b"
      },
      "source": [
        "The previous section used a model that runs over a whole video. Often when processing a video you don't want a single prediction at the end, you want to update predictions frame by frame. The `stream` versions of the model allow you to do this.\n",
        "\n",
        "Load the `stream` version of the model."
      ]
    },
    {
      "cell_type": "code",
      "execution_count": null,
      "metadata": {
        "id": "mxt0hRXFZkAM",
        "vscode": {
          "languageId": "python"
        }
      },
      "outputs": [],
      "source": [
        "%%time\n",
        "id = 'a2'\n",
        "mode = 'stream'\n",
        "version = '3'\n",
        "hub_url = f'https://tfhub.dev/tensorflow/movinet/{id}/{mode}/kinetics-600/classification/{version}'\n",
        "model = hub.load(hub_url)"
      ]
    },
    {
      "cell_type": "markdown",
      "metadata": {
        "id": "pDswtsGgsYGS"
      },
      "source": [
        "Using this model is slightly more complex than the `base` model. You have to keep track of the internal state of the model's RNNs."
      ]
    },
    {
      "cell_type": "code",
      "execution_count": null,
      "metadata": {
        "id": "0fM_Vb1VsbDm",
        "vscode": {
          "languageId": "python"
        }
      },
      "outputs": [],
      "source": [
        "list(model.signatures.keys())"
      ]
    },
    {
      "cell_type": "markdown",
      "metadata": {
        "id": "ojr1_iYCtPvp"
      },
      "source": [
        "The `init_states` signature takes the video's **shape** `(batch, frames, height, width, colors)` as input, and returns a large dictionary of tensors containing the initial RNN states:"
      ]
    },
    {
      "cell_type": "code",
      "execution_count": null,
      "metadata": {
        "id": "67loYFGpo_RP",
        "vscode": {
          "languageId": "python"
        }
      },
      "outputs": [],
      "source": [
        "lines = model.signatures['init_states'].pretty_printed_signature().splitlines()\n",
        "lines = lines[:10]\n",
        "lines.append('      ...')\n",
        "print('.\\n'.join(lines))"
      ]
    },
    {
      "cell_type": "code",
      "execution_count": null,
      "metadata": {
        "id": "v5lG3vejn5df",
        "vscode": {
          "languageId": "python"
        }
      },
      "outputs": [],
      "source": [
        "initial_state = model.init_states(jumpingjack[tf.newaxis, ...].shape)"
      ]
    },
    {
      "cell_type": "code",
      "execution_count": null,
      "metadata": {
        "id": "J3DwmyHnuhH_",
        "vscode": {
          "languageId": "python"
        }
      },
      "outputs": [],
      "source": [
        "type(initial_state)"
      ]
    },
    {
      "cell_type": "code",
      "execution_count": null,
      "metadata": {
        "id": "K8SyiEU6tB-e",
        "vscode": {
          "languageId": "python"
        }
      },
      "outputs": [],
      "source": [
        "list(sorted(initial_state.keys()))[:5]"
      ]
    },
    {
      "cell_type": "markdown",
      "metadata": {
        "id": "xeMCzJMBvwRF"
      },
      "source": [
        "Once you have the initial state for the RNNs, you can pass the state and a video frame as input (keeping the `(batch, frames, height, width, colors)` shape for the video frame). The model returns a `(logits, state)` pair.\n",
        "\n",
        "After just seeing the first frame, the model is not convinced that the video is of \"jumping jacks\":"
      ]
    },
    {
      "cell_type": "code",
      "execution_count": null,
      "metadata": {
        "id": "McSLdIgtsI3d",
        "vscode": {
          "languageId": "python"
        }
      },
      "outputs": [],
      "source": [
        "inputs = initial_state.copy()\n",
        "\n",
        "# Add the batch axis, take the first frme, but keep the frame-axis.\n",
        "inputs['image'] = jumpingjack[tf.newaxis, 0:1, ...]"
      ]
    },
    {
      "cell_type": "code",
      "execution_count": null,
      "metadata": {
        "id": "WlH7PqLPX664",
        "vscode": {
          "languageId": "python"
        }
      },
      "outputs": [],
      "source": [
        "# warmup\n",
        "model(inputs);"
      ]
    },
    {
      "cell_type": "code",
      "execution_count": null,
      "metadata": {
        "id": "7uzNXtu7X5sr",
        "vscode": {
          "languageId": "python"
        }
      },
      "outputs": [],
      "source": [
        "logits, new_state = model(inputs)\n",
        "logits = logits[0]\n",
        "probs = tf.nn.softmax(logits, axis=-1)\n",
        "\n",
        "for label, p in get_top_k(probs):\n",
        "  print(f'{label:20s}: {p:.3f}')\n",
        "\n",
        "print()"
      ]
    },
    {
      "cell_type": "markdown",
      "metadata": {
        "id": "oLU644FQwXSb"
      },
      "source": [
        "If you run the model in a loop, passing the updated state with each frame, the model quickly converges to the correct result:"
      ]
    },
    {
      "cell_type": "code",
      "execution_count": null,
      "metadata": {
        "id": "Fzm7T4ImmIEg",
        "vscode": {
          "languageId": "python"
        }
      },
      "outputs": [],
      "source": [
        "%%time\n",
        "state = initial_state.copy()\n",
        "all_logits = []\n",
        "\n",
        "for n in range(len(jumpingjack)):\n",
        "  inputs = state\n",
        "  inputs['image'] = jumpingjack[tf.newaxis, n:n+1, ...]\n",
        "  result, state = model(inputs)\n",
        "  all_logits.append(logits)\n",
        "\n",
        "probabilities = tf.nn.softmax(all_logits, axis=-1)"
      ]
    },
    {
      "cell_type": "code",
      "execution_count": null,
      "metadata": {
        "id": "B7UtHoSWcOT2",
        "vscode": {
          "languageId": "python"
        }
      },
      "outputs": [],
      "source": [
        "for label, p in get_top_k(probabilities[-1]):\n",
        "  print(f'{label:20s}: {p:.3f}')"
      ]
    },
    {
      "cell_type": "code",
      "execution_count": null,
      "metadata": {
        "id": "6ffV3NhZcsrv",
        "vscode": {
          "languageId": "python"
        }
      },
      "outputs": [],
      "source": [
        "id = tf.argmax(probabilities[-1])\n",
        "plt.plot(probabilities[:, id])\n",
        "plt.xlabel('Frame #')\n",
        "plt.ylabel(f\"p('{KINETICS_600_LABELS[id]}')\");"
      ]
    },
    {
      "cell_type": "markdown",
      "metadata": {
        "id": "d7MZ_AfRW845"
      },
      "source": [
        "You may notice that the final probability is much more certain than in the previous section where you ran the `base` model. The `base` model returns an average of the predictions over the frames."
      ]
    },
    {
      "cell_type": "code",
      "execution_count": null,
      "metadata": {
        "id": "0Wij4tsyW8dR",
        "vscode": {
          "languageId": "python"
        }
      },
      "outputs": [],
      "source": [
        "for label, p in get_top_k(tf.reduce_mean(probabilities, axis=0)):\n",
        "  print(f'{label:20s}: {p:.3f}')"
      ]
    },
    {
      "cell_type": "markdown",
      "metadata": {
        "id": "qLUoC9ejggGo"
      },
      "source": [
        "## Animate the predictions over time\n",
        "\n",
        "The previous section went into some details about how to use these models. This section builds on top of that to produce some nice inference animations."
      ]
    },
    {
      "cell_type": "markdown",
      "metadata": {
        "id": "OnFqOXazoWgy"
      },
      "source": [
        "The hidden cell below to defines helper functions used in this section."
      ]
    },
    {
      "cell_type": "code",
      "execution_count": null,
      "metadata": {
        "cellView": "form",
        "id": "dx55NK3ZoZeh",
        "vscode": {
          "languageId": "python"
        }
      },
      "outputs": [],
      "source": [
        "#@title\n",
        "# Get top_k labels and probabilities predicted using MoViNets streaming model\n",
        "def get_top_k_streaming_labels(probs, k=5, label_map=KINETICS_600_LABELS):\n",
        "  \"\"\"Returns the top-k labels over an entire video sequence.\n",
        "\n",
        "  Args:\n",
        "    probs: probability tensor of shape (num_frames, num_classes) that represents\n",
        "      the probability of each class on each frame.\n",
        "    k: the number of top predictions to select.\n",
        "    label_map: a list of labels to map logit indices to label strings.\n",
        "\n",
        "  Returns:\n",
        "    a tuple of the top-k probabilities, labels, and logit indices\n",
        "  \"\"\"\n",
        "  top_categories_last = tf.argsort(probs, -1, 'DESCENDING')[-1, :1]\n",
        "  # Sort predictions to find top_k\n",
        "  categories = tf.argsort(probs, -1, 'DESCENDING')[:, :k]\n",
        "  categories = tf.reshape(categories, [-1])\n",
        "\n",
        "  counts = sorted([\n",
        "      (i.numpy(), tf.reduce_sum(tf.cast(categories == i, tf.int32)).numpy())\n",
        "      for i in tf.unique(categories)[0]\n",
        "  ], key=lambda x: x[1], reverse=True)\n",
        "\n",
        "  top_probs_idx = tf.constant([i for i, _ in counts[:k]])\n",
        "  top_probs_idx = tf.concat([top_categories_last, top_probs_idx], 0)\n",
        "  # find unique indices of categories\n",
        "  top_probs_idx = tf.unique(top_probs_idx)[0][:k+1]\n",
        "  # top_k probabilities of the predictions\n",
        "  top_probs = tf.gather(probs, top_probs_idx, axis=-1)\n",
        "  top_probs = tf.transpose(top_probs, perm=(1, 0))\n",
        "  # collect the labels of top_k predictions\n",
        "  top_labels = tf.gather(label_map, top_probs_idx, axis=0)\n",
        "  # decode the top_k labels\n",
        "  top_labels = [label.decode('utf8') for label in top_labels.numpy()]\n",
        "\n",
        "  return top_probs, top_labels, top_probs_idx\n",
        "\n",
        "# Plot top_k predictions at a given time step\n",
        "def plot_streaming_top_preds_at_step(\n",
        "    top_probs,\n",
        "    top_labels,\n",
        "    step=None,\n",
        "    image=None,\n",
        "    legend_loc='lower left',\n",
        "    duration_seconds=10,\n",
        "    figure_height=500,\n",
        "    playhead_scale=0.8,\n",
        "    grid_alpha=0.3):\n",
        "  \"\"\"Generates a plot of the top video model predictions at a given time step.\n",
        "\n",
        "  Args:\n",
        "    top_probs: a tensor of shape (k, num_frames) representing the top-k\n",
        "      probabilities over all frames.\n",
        "    top_labels: a list of length k that represents the top-k label strings.\n",
        "    step: the current time step in the range [0, num_frames].\n",
        "    image: the image frame to display at the current time step.\n",
        "    legend_loc: the placement location of the legend.\n",
        "    duration_seconds: the total duration of the video.\n",
        "    figure_height: the output figure height.\n",
        "    playhead_scale: scale value for the playhead.\n",
        "    grid_alpha: alpha value for the gridlines.\n",
        "\n",
        "  Returns:\n",
        "    A tuple of the output numpy image, figure, and axes.\n",
        "  \"\"\"\n",
        "  # find number of top_k labels and frames in the video\n",
        "  num_labels, num_frames = top_probs.shape\n",
        "  if step is None:\n",
        "    step = num_frames\n",
        "  # Visualize frames and top_k probabilities of streaming video\n",
        "  fig = plt.figure(figsize=(6.5, 7), dpi=300)\n",
        "  gs = mpl.gridspec.GridSpec(8, 1)\n",
        "  ax2 = plt.subplot(gs[:-3, :])\n",
        "  ax = plt.subplot(gs[-3:, :])\n",
        "  # display the frame\n",
        "  if image is not None:\n",
        "    ax2.imshow(image, interpolation='nearest')\n",
        "    ax2.axis('off')\n",
        "  # x-axis (frame number)\n",
        "  preview_line_x = tf.linspace(0., duration_seconds, num_frames)\n",
        "  # y-axis (top_k probabilities)\n",
        "  preview_line_y = top_probs\n",
        "\n",
        "  line_x = preview_line_x[:step+1]\n",
        "  line_y = preview_line_y[:, :step+1]\n",
        "\n",
        "  for i in range(num_labels):\n",
        "    ax.plot(preview_line_x, preview_line_y[i], label=None, linewidth='1.5',\n",
        "            linestyle=':', color='gray')\n",
        "    ax.plot(line_x, line_y[i], label=top_labels[i], linewidth='2.0')\n",
        "\n",
        "\n",
        "  ax.grid(which='major', linestyle=':', linewidth='1.0', alpha=grid_alpha)\n",
        "  ax.grid(which='minor', linestyle=':', linewidth='0.5', alpha=grid_alpha)\n",
        "\n",
        "  min_height = tf.reduce_min(top_probs) * playhead_scale\n",
        "  max_height = tf.reduce_max(top_probs)\n",
        "  ax.vlines(preview_line_x[step], min_height, max_height, colors='red')\n",
        "  ax.scatter(preview_line_x[step], max_height, color='red')\n",
        "\n",
        "  ax.legend(loc=legend_loc)\n",
        "\n",
        "  plt.xlim(0, duration_seconds)\n",
        "  plt.ylabel('Probability')\n",
        "  plt.xlabel('Time (s)')\n",
        "  plt.yscale('log')\n",
        "\n",
        "  fig.tight_layout()\n",
        "  fig.canvas.draw()\n",
        "\n",
        "  data = np.frombuffer(fig.canvas.tostring_rgb(), dtype=np.uint8)\n",
        "  data = data.reshape(fig.canvas.get_width_height()[::-1] + (3,))\n",
        "  plt.close()\n",
        "\n",
        "  figure_width = int(figure_height * data.shape[1] / data.shape[0])\n",
        "  image = PIL.Image.fromarray(data).resize([figure_width, figure_height])\n",
        "  image = np.array(image)\n",
        "\n",
        "  return image\n",
        "\n",
        "# Plotting top_k predictions from MoViNets streaming model\n",
        "def plot_streaming_top_preds(\n",
        "    probs,\n",
        "    video,\n",
        "    top_k=5,\n",
        "    video_fps=25.,\n",
        "    figure_height=500,\n",
        "    use_progbar=True):\n",
        "  \"\"\"Generates a video plot of the top video model predictions.\n",
        "\n",
        "  Args:\n",
        "    probs: probability tensor of shape (num_frames, num_classes) that represents\n",
        "      the probability of each class on each frame.\n",
        "    video: the video to display in the plot.\n",
        "    top_k: the number of top predictions to select.\n",
        "    video_fps: the input video fps.\n",
        "    figure_fps: the output video fps.\n",
        "    figure_height: the height of the output video.\n",
        "    use_progbar: display a progress bar.\n",
        "\n",
        "  Returns:\n",
        "    A numpy array representing the output video.\n",
        "  \"\"\"\n",
        "  # select number of frames per second\n",
        "  video_fps = 8.\n",
        "  # select height of the image\n",
        "  figure_height = 500\n",
        "  # number of time steps of the given video\n",
        "  steps = video.shape[0]\n",
        "  # estimate duration of the video (in seconds)\n",
        "  duration = steps / video_fps\n",
        "  # estimate top_k probabilities and corresponding labels\n",
        "  top_probs, top_labels, _ = get_top_k_streaming_labels(probs, k=top_k)\n",
        "\n",
        "  images = []\n",
        "  step_generator = tqdm.trange(steps) if use_progbar else range(steps)\n",
        "  for i in step_generator:\n",
        "    image = plot_streaming_top_preds_at_step(\n",
        "        top_probs=top_probs,\n",
        "        top_labels=top_labels,\n",
        "        step=i,\n",
        "        image=video[i],\n",
        "        duration_seconds=duration,\n",
        "        figure_height=figure_height,\n",
        "    )\n",
        "    images.append(image)\n",
        "\n",
        "  return np.array(images)"
      ]
    },
    {
      "cell_type": "markdown",
      "metadata": {
        "id": "eLgFBslcZOQO"
      },
      "source": [
        "Start by running the streaming model across the frames of the video, and collecting the logits:"
      ]
    },
    {
      "cell_type": "code",
      "execution_count": null,
      "metadata": {
        "id": "tXWR13wthnK5",
        "vscode": {
          "languageId": "python"
        }
      },
      "outputs": [],
      "source": [
        "init_states = model.init_states(jumpingjack[tf.newaxis].shape)"
      ]
    },
    {
      "cell_type": "code",
      "execution_count": null,
      "metadata": {
        "id": "YqSkt7l8ltwt",
        "vscode": {
          "languageId": "python"
        }
      },
      "outputs": [],
      "source": [
        "# Insert your video clip here\n",
        "video = jumpingjack\n",
        "images = tf.split(video[tf.newaxis], video.shape[0], axis=1)\n",
        "\n",
        "all_logits = []\n",
        "\n",
        "# To run on a video, pass in one frame at a time\n",
        "states = init_states\n",
        "for image in tqdm.tqdm(images):\n",
        "  # predictions for each frame\n",
        "  logits, states = model({**states, 'image': image})\n",
        "  all_logits.append(logits)\n",
        "\n",
        "# concatenating all the logits\n",
        "logits = tf.concat(all_logits, 0)\n",
        "# estimating probabilities\n",
        "probs = tf.nn.softmax(logits, axis=-1)"
      ]
    },
    {
      "cell_type": "code",
      "execution_count": null,
      "metadata": {
        "id": "OOGcCMMJyuPl",
        "vscode": {
          "languageId": "python"
        }
      },
      "outputs": [],
      "source": [
        "final_probs = probs[-1]\n",
        "print('Top_k predictions and their probablities\\n')\n",
        "for label, p in get_top_k(final_probs):\n",
        "  print(f'{label:20s}: {p:.3f}')"
      ]
    },
    {
      "cell_type": "markdown",
      "metadata": {
        "id": "GaybT0rbZct-"
      },
      "source": [
        "Convert the sequence of probabilities into a video:"
      ]
    },
    {
      "cell_type": "code",
      "execution_count": null,
      "metadata": {
        "id": "Xdox556CtMRb",
        "vscode": {
          "languageId": "python"
        }
      },
      "outputs": [],
      "source": [
        "# Generate a plot and output to a video tensor\n",
        "plot_video = plot_streaming_top_preds(probs, video, video_fps=8.)"
      ]
    },
    {
      "cell_type": "code",
      "execution_count": null,
      "metadata": {
        "id": "NSStKE9klCs3",
        "vscode": {
          "languageId": "python"
        }
      },
      "outputs": [],
      "source": [
        "# For gif format, set codec='gif'\n",
        "media.show_video(plot_video, fps=3)"
      ]
    },
    {
      "cell_type": "markdown",
      "metadata": {
        "id": "LCImgZ3OdJw7"
      },
      "source": [
        "## Resources\n",
        "\n",
        "The pretrained models are available from [TF Hub](https://tfhub.dev/google/collections/movinet/1). The TF Hub collection also includes quantized models optimized for [TFLite](https://tensorflow.org/lite).\n",
        "\n",
        "The source for these models is available in the [TensorFlow Model Garden](https://github.com/tensorflow/models/tree/master/official/projects/movinet). This includes a [longer version of this tutorial](https://colab.sandbox.google.com/github/tensorflow/models/blob/master/official/projects/movinet/movinet_tutorial.ipynb) that also covers building and fine-tuning a MoViNet model."
      ]
    },
    {
      "cell_type": "markdown",
      "metadata": {
        "id": "gh5lLAo-HpVF"
      },
      "source": [
        "## Next Steps\n",
        "\n",
        "To learn more about working with video data in TensorFlow, check out the following tutorials:\n",
        "\n",
        "* [Load video data](https://www.tensorflow.org/tutorials/load_data/video)\n",
        "* [Build a 3D CNN model for video classification](https://www.tensorflow.org/tutorials/video/video_classification)\n",
        "* [Transfer learning for video classification with MoViNet](https://www.tensorflow.org/tutorials/video/transfer_learning_with_movinet)"
      ]
    }
  ],
  "metadata": {
    "colab": {
      "provenance": [],
      "toc_visible": true
    },
    "kernelspec": {
      "display_name": "Python 3",
      "name": "python3"
    }
  },
  "nbformat": 4,
  "nbformat_minor": 0
}
